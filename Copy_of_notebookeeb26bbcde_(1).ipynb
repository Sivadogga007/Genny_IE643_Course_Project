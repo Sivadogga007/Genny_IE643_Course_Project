{
  "metadata": {
    "colab": {
      "provenance": [],
      "gpuType": "T4"
    },
    "kernelspec": {
      "name": "python3",
      "display_name": "Python 3"
    },
    "language_info": {
      "name": "python",
      "version": "3.10.14",
      "mimetype": "text/x-python",
      "codemirror_mode": {
        "name": "ipython",
        "version": 3
      },
      "pygments_lexer": "ipython3",
      "nbconvert_exporter": "python",
      "file_extension": ".py"
    },
    "accelerator": "GPU",
    "kaggle": {
      "accelerator": "gpu",
      "dataSources": [
        {
          "sourceId": 8070071,
          "sourceType": "datasetVersion",
          "datasetId": 4761600
        },
        {
          "sourceId": 9634145,
          "sourceType": "datasetVersion",
          "datasetId": 5882025
        },
        {
          "sourceId": 9656046,
          "sourceType": "datasetVersion",
          "datasetId": 5898692
        }
      ],
      "dockerImageVersionId": 30787,
      "isInternetEnabled": true,
      "language": "python",
      "sourceType": "notebook",
      "isGpuEnabled": true
    }
  },
  "nbformat_minor": 0,
  "nbformat": 4,
  "cells": [
    {
      "cell_type": "code",
      "source": [
        "!pip install transformers\n",
        "!pip install sentencepiece\n",
        "!pip install jiwer\n",
        "!pip install datasets\n",
        "!pip install evaluate\n",
        "!pip install -U accelerate\n",
        "\n",
        "!pip install matplotlib\n",
        "!pip install tensorboard"
      ],
      "metadata": {
        "id": "P0XtMI_JUNfe",
        "outputId": "f3708f59-8aca-4f76-dfe5-c1cf0fca5c6e",
        "execution": {
          "iopub.status.busy": "2024-11-02T05:04:41.998146Z",
          "iopub.execute_input": "2024-11-02T05:04:41.99851Z",
          "iopub.status.idle": "2024-11-02T05:06:17.231864Z",
          "shell.execute_reply.started": "2024-11-02T05:04:41.998461Z",
          "shell.execute_reply": "2024-11-02T05:06:17.230608Z"
        },
        "collapsed": true,
        "jupyter": {
          "outputs_hidden": true
        },
        "trusted": true,
        "colab": {
          "base_uri": "https://localhost:8080/"
        }
      },
      "execution_count": null,
      "outputs": [
        {
          "output_type": "stream",
          "name": "stdout",
          "text": [
            "Requirement already satisfied: transformers in /usr/local/lib/python3.10/dist-packages (4.44.2)\n",
            "Requirement already satisfied: filelock in /usr/local/lib/python3.10/dist-packages (from transformers) (3.16.1)\n",
            "Requirement already satisfied: huggingface-hub<1.0,>=0.23.2 in /usr/local/lib/python3.10/dist-packages (from transformers) (0.24.7)\n",
            "Requirement already satisfied: numpy>=1.17 in /usr/local/lib/python3.10/dist-packages (from transformers) (1.26.4)\n",
            "Requirement already satisfied: packaging>=20.0 in /usr/local/lib/python3.10/dist-packages (from transformers) (24.1)\n",
            "Requirement already satisfied: pyyaml>=5.1 in /usr/local/lib/python3.10/dist-packages (from transformers) (6.0.2)\n",
            "Requirement already satisfied: regex!=2019.12.17 in /usr/local/lib/python3.10/dist-packages (from transformers) (2024.9.11)\n",
            "Requirement already satisfied: requests in /usr/local/lib/python3.10/dist-packages (from transformers) (2.32.3)\n",
            "Requirement already satisfied: safetensors>=0.4.1 in /usr/local/lib/python3.10/dist-packages (from transformers) (0.4.5)\n",
            "Requirement already satisfied: tokenizers<0.20,>=0.19 in /usr/local/lib/python3.10/dist-packages (from transformers) (0.19.1)\n",
            "Requirement already satisfied: tqdm>=4.27 in /usr/local/lib/python3.10/dist-packages (from transformers) (4.66.6)\n",
            "Requirement already satisfied: fsspec>=2023.5.0 in /usr/local/lib/python3.10/dist-packages (from huggingface-hub<1.0,>=0.23.2->transformers) (2024.10.0)\n",
            "Requirement already satisfied: typing-extensions>=3.7.4.3 in /usr/local/lib/python3.10/dist-packages (from huggingface-hub<1.0,>=0.23.2->transformers) (4.12.2)\n",
            "Requirement already satisfied: charset-normalizer<4,>=2 in /usr/local/lib/python3.10/dist-packages (from requests->transformers) (3.4.0)\n",
            "Requirement already satisfied: idna<4,>=2.5 in /usr/local/lib/python3.10/dist-packages (from requests->transformers) (3.10)\n",
            "Requirement already satisfied: urllib3<3,>=1.21.1 in /usr/local/lib/python3.10/dist-packages (from requests->transformers) (2.2.3)\n",
            "Requirement already satisfied: certifi>=2017.4.17 in /usr/local/lib/python3.10/dist-packages (from requests->transformers) (2024.8.30)\n",
            "Requirement already satisfied: sentencepiece in /usr/local/lib/python3.10/dist-packages (0.2.0)\n",
            "Collecting jiwer\n",
            "  Downloading jiwer-3.0.5-py3-none-any.whl.metadata (2.7 kB)\n",
            "Requirement already satisfied: click<9.0.0,>=8.1.3 in /usr/local/lib/python3.10/dist-packages (from jiwer) (8.1.7)\n",
            "Collecting rapidfuzz<4,>=3 (from jiwer)\n",
            "  Downloading rapidfuzz-3.10.1-cp310-cp310-manylinux_2_17_x86_64.manylinux2014_x86_64.whl.metadata (11 kB)\n",
            "Downloading jiwer-3.0.5-py3-none-any.whl (21 kB)\n",
            "Downloading rapidfuzz-3.10.1-cp310-cp310-manylinux_2_17_x86_64.manylinux2014_x86_64.whl (3.1 MB)\n",
            "\u001b[2K   \u001b[90m━━━━━━━━━━━━━━━━━━━━━━━━━━━━━━━━━━━━━━━━\u001b[0m \u001b[32m3.1/3.1 MB\u001b[0m \u001b[31m42.3 MB/s\u001b[0m eta \u001b[36m0:00:00\u001b[0m\n",
            "\u001b[?25hInstalling collected packages: rapidfuzz, jiwer\n",
            "Successfully installed jiwer-3.0.5 rapidfuzz-3.10.1\n",
            "Collecting datasets\n",
            "  Downloading datasets-3.1.0-py3-none-any.whl.metadata (20 kB)\n",
            "Requirement already satisfied: filelock in /usr/local/lib/python3.10/dist-packages (from datasets) (3.16.1)\n",
            "Requirement already satisfied: numpy>=1.17 in /usr/local/lib/python3.10/dist-packages (from datasets) (1.26.4)\n",
            "Requirement already satisfied: pyarrow>=15.0.0 in /usr/local/lib/python3.10/dist-packages (from datasets) (17.0.0)\n",
            "Collecting dill<0.3.9,>=0.3.0 (from datasets)\n",
            "  Downloading dill-0.3.8-py3-none-any.whl.metadata (10 kB)\n",
            "Requirement already satisfied: pandas in /usr/local/lib/python3.10/dist-packages (from datasets) (2.2.2)\n",
            "Requirement already satisfied: requests>=2.32.2 in /usr/local/lib/python3.10/dist-packages (from datasets) (2.32.3)\n",
            "Requirement already satisfied: tqdm>=4.66.3 in /usr/local/lib/python3.10/dist-packages (from datasets) (4.66.6)\n",
            "Collecting xxhash (from datasets)\n",
            "  Downloading xxhash-3.5.0-cp310-cp310-manylinux_2_17_x86_64.manylinux2014_x86_64.whl.metadata (12 kB)\n",
            "Collecting multiprocess<0.70.17 (from datasets)\n",
            "  Downloading multiprocess-0.70.16-py310-none-any.whl.metadata (7.2 kB)\n",
            "Collecting fsspec<=2024.9.0,>=2023.1.0 (from fsspec[http]<=2024.9.0,>=2023.1.0->datasets)\n",
            "  Downloading fsspec-2024.9.0-py3-none-any.whl.metadata (11 kB)\n",
            "Requirement already satisfied: aiohttp in /usr/local/lib/python3.10/dist-packages (from datasets) (3.10.10)\n",
            "Requirement already satisfied: huggingface-hub>=0.23.0 in /usr/local/lib/python3.10/dist-packages (from datasets) (0.24.7)\n",
            "Requirement already satisfied: packaging in /usr/local/lib/python3.10/dist-packages (from datasets) (24.1)\n",
            "Requirement already satisfied: pyyaml>=5.1 in /usr/local/lib/python3.10/dist-packages (from datasets) (6.0.2)\n",
            "Requirement already satisfied: aiohappyeyeballs>=2.3.0 in /usr/local/lib/python3.10/dist-packages (from aiohttp->datasets) (2.4.3)\n",
            "Requirement already satisfied: aiosignal>=1.1.2 in /usr/local/lib/python3.10/dist-packages (from aiohttp->datasets) (1.3.1)\n",
            "Requirement already satisfied: attrs>=17.3.0 in /usr/local/lib/python3.10/dist-packages (from aiohttp->datasets) (24.2.0)\n",
            "Requirement already satisfied: frozenlist>=1.1.1 in /usr/local/lib/python3.10/dist-packages (from aiohttp->datasets) (1.5.0)\n",
            "Requirement already satisfied: multidict<7.0,>=4.5 in /usr/local/lib/python3.10/dist-packages (from aiohttp->datasets) (6.1.0)\n",
            "Requirement already satisfied: yarl<2.0,>=1.12.0 in /usr/local/lib/python3.10/dist-packages (from aiohttp->datasets) (1.17.0)\n",
            "Requirement already satisfied: async-timeout<5.0,>=4.0 in /usr/local/lib/python3.10/dist-packages (from aiohttp->datasets) (4.0.3)\n",
            "Requirement already satisfied: typing-extensions>=3.7.4.3 in /usr/local/lib/python3.10/dist-packages (from huggingface-hub>=0.23.0->datasets) (4.12.2)\n",
            "Requirement already satisfied: charset-normalizer<4,>=2 in /usr/local/lib/python3.10/dist-packages (from requests>=2.32.2->datasets) (3.4.0)\n",
            "Requirement already satisfied: idna<4,>=2.5 in /usr/local/lib/python3.10/dist-packages (from requests>=2.32.2->datasets) (3.10)\n",
            "Requirement already satisfied: urllib3<3,>=1.21.1 in /usr/local/lib/python3.10/dist-packages (from requests>=2.32.2->datasets) (2.2.3)\n",
            "Requirement already satisfied: certifi>=2017.4.17 in /usr/local/lib/python3.10/dist-packages (from requests>=2.32.2->datasets) (2024.8.30)\n",
            "Requirement already satisfied: python-dateutil>=2.8.2 in /usr/local/lib/python3.10/dist-packages (from pandas->datasets) (2.8.2)\n",
            "Requirement already satisfied: pytz>=2020.1 in /usr/local/lib/python3.10/dist-packages (from pandas->datasets) (2024.2)\n",
            "Requirement already satisfied: tzdata>=2022.7 in /usr/local/lib/python3.10/dist-packages (from pandas->datasets) (2024.2)\n",
            "Requirement already satisfied: six>=1.5 in /usr/local/lib/python3.10/dist-packages (from python-dateutil>=2.8.2->pandas->datasets) (1.16.0)\n",
            "Requirement already satisfied: propcache>=0.2.0 in /usr/local/lib/python3.10/dist-packages (from yarl<2.0,>=1.12.0->aiohttp->datasets) (0.2.0)\n",
            "Downloading datasets-3.1.0-py3-none-any.whl (480 kB)\n",
            "\u001b[2K   \u001b[90m━━━━━━━━━━━━━━━━━━━━━━━━━━━━━━━━━━━━━━━━\u001b[0m \u001b[32m480.6/480.6 kB\u001b[0m \u001b[31m16.8 MB/s\u001b[0m eta \u001b[36m0:00:00\u001b[0m\n",
            "\u001b[?25hDownloading dill-0.3.8-py3-none-any.whl (116 kB)\n",
            "\u001b[2K   \u001b[90m━━━━━━━━━━━━━━━━━━━━━━━━━━━━━━━━━━━━━━━━\u001b[0m \u001b[32m116.3/116.3 kB\u001b[0m \u001b[31m10.2 MB/s\u001b[0m eta \u001b[36m0:00:00\u001b[0m\n",
            "\u001b[?25hDownloading fsspec-2024.9.0-py3-none-any.whl (179 kB)\n",
            "\u001b[2K   \u001b[90m━━━━━━━━━━━━━━━━━━━━━━━━━━━━━━━━━━━━━━━━\u001b[0m \u001b[32m179.3/179.3 kB\u001b[0m \u001b[31m15.7 MB/s\u001b[0m eta \u001b[36m0:00:00\u001b[0m\n",
            "\u001b[?25hDownloading multiprocess-0.70.16-py310-none-any.whl (134 kB)\n",
            "\u001b[2K   \u001b[90m━━━━━━━━━━━━━━━━━━━━━━━━━━━━━━━━━━━━━━━━\u001b[0m \u001b[32m134.8/134.8 kB\u001b[0m \u001b[31m11.7 MB/s\u001b[0m eta \u001b[36m0:00:00\u001b[0m\n",
            "\u001b[?25hDownloading xxhash-3.5.0-cp310-cp310-manylinux_2_17_x86_64.manylinux2014_x86_64.whl (194 kB)\n",
            "\u001b[2K   \u001b[90m━━━━━━━━━━━━━━━━━━━━━━━━━━━━━━━━━━━━━━━━\u001b[0m \u001b[32m194.1/194.1 kB\u001b[0m \u001b[31m11.2 MB/s\u001b[0m eta \u001b[36m0:00:00\u001b[0m\n",
            "\u001b[?25hInstalling collected packages: xxhash, fsspec, dill, multiprocess, datasets\n",
            "  Attempting uninstall: fsspec\n",
            "    Found existing installation: fsspec 2024.10.0\n",
            "    Uninstalling fsspec-2024.10.0:\n",
            "      Successfully uninstalled fsspec-2024.10.0\n",
            "\u001b[31mERROR: pip's dependency resolver does not currently take into account all the packages that are installed. This behaviour is the source of the following dependency conflicts.\n",
            "gcsfs 2024.10.0 requires fsspec==2024.10.0, but you have fsspec 2024.9.0 which is incompatible.\u001b[0m\u001b[31m\n",
            "\u001b[0mSuccessfully installed datasets-3.1.0 dill-0.3.8 fsspec-2024.9.0 multiprocess-0.70.16 xxhash-3.5.0\n",
            "Collecting evaluate\n",
            "  Downloading evaluate-0.4.3-py3-none-any.whl.metadata (9.2 kB)\n",
            "Requirement already satisfied: datasets>=2.0.0 in /usr/local/lib/python3.10/dist-packages (from evaluate) (3.1.0)\n",
            "Requirement already satisfied: numpy>=1.17 in /usr/local/lib/python3.10/dist-packages (from evaluate) (1.26.4)\n",
            "Requirement already satisfied: dill in /usr/local/lib/python3.10/dist-packages (from evaluate) (0.3.8)\n",
            "Requirement already satisfied: pandas in /usr/local/lib/python3.10/dist-packages (from evaluate) (2.2.2)\n",
            "Requirement already satisfied: requests>=2.19.0 in /usr/local/lib/python3.10/dist-packages (from evaluate) (2.32.3)\n",
            "Requirement already satisfied: tqdm>=4.62.1 in /usr/local/lib/python3.10/dist-packages (from evaluate) (4.66.6)\n",
            "Requirement already satisfied: xxhash in /usr/local/lib/python3.10/dist-packages (from evaluate) (3.5.0)\n",
            "Requirement already satisfied: multiprocess in /usr/local/lib/python3.10/dist-packages (from evaluate) (0.70.16)\n",
            "Requirement already satisfied: fsspec>=2021.05.0 in /usr/local/lib/python3.10/dist-packages (from fsspec[http]>=2021.05.0->evaluate) (2024.9.0)\n",
            "Requirement already satisfied: huggingface-hub>=0.7.0 in /usr/local/lib/python3.10/dist-packages (from evaluate) (0.24.7)\n",
            "Requirement already satisfied: packaging in /usr/local/lib/python3.10/dist-packages (from evaluate) (24.1)\n",
            "Requirement already satisfied: filelock in /usr/local/lib/python3.10/dist-packages (from datasets>=2.0.0->evaluate) (3.16.1)\n",
            "Requirement already satisfied: pyarrow>=15.0.0 in /usr/local/lib/python3.10/dist-packages (from datasets>=2.0.0->evaluate) (17.0.0)\n",
            "Requirement already satisfied: aiohttp in /usr/local/lib/python3.10/dist-packages (from datasets>=2.0.0->evaluate) (3.10.10)\n",
            "Requirement already satisfied: pyyaml>=5.1 in /usr/local/lib/python3.10/dist-packages (from datasets>=2.0.0->evaluate) (6.0.2)\n",
            "Requirement already satisfied: typing-extensions>=3.7.4.3 in /usr/local/lib/python3.10/dist-packages (from huggingface-hub>=0.7.0->evaluate) (4.12.2)\n",
            "Requirement already satisfied: charset-normalizer<4,>=2 in /usr/local/lib/python3.10/dist-packages (from requests>=2.19.0->evaluate) (3.4.0)\n",
            "Requirement already satisfied: idna<4,>=2.5 in /usr/local/lib/python3.10/dist-packages (from requests>=2.19.0->evaluate) (3.10)\n",
            "Requirement already satisfied: urllib3<3,>=1.21.1 in /usr/local/lib/python3.10/dist-packages (from requests>=2.19.0->evaluate) (2.2.3)\n",
            "Requirement already satisfied: certifi>=2017.4.17 in /usr/local/lib/python3.10/dist-packages (from requests>=2.19.0->evaluate) (2024.8.30)\n",
            "Requirement already satisfied: python-dateutil>=2.8.2 in /usr/local/lib/python3.10/dist-packages (from pandas->evaluate) (2.8.2)\n",
            "Requirement already satisfied: pytz>=2020.1 in /usr/local/lib/python3.10/dist-packages (from pandas->evaluate) (2024.2)\n",
            "Requirement already satisfied: tzdata>=2022.7 in /usr/local/lib/python3.10/dist-packages (from pandas->evaluate) (2024.2)\n",
            "Requirement already satisfied: aiohappyeyeballs>=2.3.0 in /usr/local/lib/python3.10/dist-packages (from aiohttp->datasets>=2.0.0->evaluate) (2.4.3)\n",
            "Requirement already satisfied: aiosignal>=1.1.2 in /usr/local/lib/python3.10/dist-packages (from aiohttp->datasets>=2.0.0->evaluate) (1.3.1)\n",
            "Requirement already satisfied: attrs>=17.3.0 in /usr/local/lib/python3.10/dist-packages (from aiohttp->datasets>=2.0.0->evaluate) (24.2.0)\n",
            "Requirement already satisfied: frozenlist>=1.1.1 in /usr/local/lib/python3.10/dist-packages (from aiohttp->datasets>=2.0.0->evaluate) (1.5.0)\n",
            "Requirement already satisfied: multidict<7.0,>=4.5 in /usr/local/lib/python3.10/dist-packages (from aiohttp->datasets>=2.0.0->evaluate) (6.1.0)\n",
            "Requirement already satisfied: yarl<2.0,>=1.12.0 in /usr/local/lib/python3.10/dist-packages (from aiohttp->datasets>=2.0.0->evaluate) (1.17.0)\n",
            "Requirement already satisfied: async-timeout<5.0,>=4.0 in /usr/local/lib/python3.10/dist-packages (from aiohttp->datasets>=2.0.0->evaluate) (4.0.3)\n",
            "Requirement already satisfied: six>=1.5 in /usr/local/lib/python3.10/dist-packages (from python-dateutil>=2.8.2->pandas->evaluate) (1.16.0)\n",
            "Requirement already satisfied: propcache>=0.2.0 in /usr/local/lib/python3.10/dist-packages (from yarl<2.0,>=1.12.0->aiohttp->datasets>=2.0.0->evaluate) (0.2.0)\n",
            "Downloading evaluate-0.4.3-py3-none-any.whl (84 kB)\n",
            "\u001b[2K   \u001b[90m━━━━━━━━━━━━━━━━━━━━━━━━━━━━━━━━━━━━━━━━\u001b[0m \u001b[32m84.0/84.0 kB\u001b[0m \u001b[31m3.8 MB/s\u001b[0m eta \u001b[36m0:00:00\u001b[0m\n",
            "\u001b[?25hInstalling collected packages: evaluate\n",
            "Successfully installed evaluate-0.4.3\n",
            "Requirement already satisfied: accelerate in /usr/local/lib/python3.10/dist-packages (0.34.2)\n",
            "Collecting accelerate\n",
            "  Downloading accelerate-1.1.0-py3-none-any.whl.metadata (19 kB)\n",
            "Requirement already satisfied: numpy<3.0.0,>=1.17 in /usr/local/lib/python3.10/dist-packages (from accelerate) (1.26.4)\n",
            "Requirement already satisfied: packaging>=20.0 in /usr/local/lib/python3.10/dist-packages (from accelerate) (24.1)\n",
            "Requirement already satisfied: psutil in /usr/local/lib/python3.10/dist-packages (from accelerate) (5.9.5)\n",
            "Requirement already satisfied: pyyaml in /usr/local/lib/python3.10/dist-packages (from accelerate) (6.0.2)\n",
            "Requirement already satisfied: torch>=1.10.0 in /usr/local/lib/python3.10/dist-packages (from accelerate) (2.5.0+cu121)\n",
            "Requirement already satisfied: huggingface-hub>=0.21.0 in /usr/local/lib/python3.10/dist-packages (from accelerate) (0.24.7)\n",
            "Requirement already satisfied: safetensors>=0.4.3 in /usr/local/lib/python3.10/dist-packages (from accelerate) (0.4.5)\n",
            "Requirement already satisfied: filelock in /usr/local/lib/python3.10/dist-packages (from huggingface-hub>=0.21.0->accelerate) (3.16.1)\n",
            "Requirement already satisfied: fsspec>=2023.5.0 in /usr/local/lib/python3.10/dist-packages (from huggingface-hub>=0.21.0->accelerate) (2024.9.0)\n",
            "Requirement already satisfied: requests in /usr/local/lib/python3.10/dist-packages (from huggingface-hub>=0.21.0->accelerate) (2.32.3)\n",
            "Requirement already satisfied: tqdm>=4.42.1 in /usr/local/lib/python3.10/dist-packages (from huggingface-hub>=0.21.0->accelerate) (4.66.6)\n",
            "Requirement already satisfied: typing-extensions>=3.7.4.3 in /usr/local/lib/python3.10/dist-packages (from huggingface-hub>=0.21.0->accelerate) (4.12.2)\n",
            "Requirement already satisfied: networkx in /usr/local/lib/python3.10/dist-packages (from torch>=1.10.0->accelerate) (3.4.2)\n",
            "Requirement already satisfied: jinja2 in /usr/local/lib/python3.10/dist-packages (from torch>=1.10.0->accelerate) (3.1.4)\n",
            "Requirement already satisfied: sympy==1.13.1 in /usr/local/lib/python3.10/dist-packages (from torch>=1.10.0->accelerate) (1.13.1)\n",
            "Requirement already satisfied: mpmath<1.4,>=1.1.0 in /usr/local/lib/python3.10/dist-packages (from sympy==1.13.1->torch>=1.10.0->accelerate) (1.3.0)\n",
            "Requirement already satisfied: MarkupSafe>=2.0 in /usr/local/lib/python3.10/dist-packages (from jinja2->torch>=1.10.0->accelerate) (3.0.2)\n",
            "Requirement already satisfied: charset-normalizer<4,>=2 in /usr/local/lib/python3.10/dist-packages (from requests->huggingface-hub>=0.21.0->accelerate) (3.4.0)\n",
            "Requirement already satisfied: idna<4,>=2.5 in /usr/local/lib/python3.10/dist-packages (from requests->huggingface-hub>=0.21.0->accelerate) (3.10)\n",
            "Requirement already satisfied: urllib3<3,>=1.21.1 in /usr/local/lib/python3.10/dist-packages (from requests->huggingface-hub>=0.21.0->accelerate) (2.2.3)\n",
            "Requirement already satisfied: certifi>=2017.4.17 in /usr/local/lib/python3.10/dist-packages (from requests->huggingface-hub>=0.21.0->accelerate) (2024.8.30)\n",
            "Downloading accelerate-1.1.0-py3-none-any.whl (333 kB)\n",
            "\u001b[2K   \u001b[90m━━━━━━━━━━━━━━━━━━━━━━━━━━━━━━━━━━━━━━━━\u001b[0m \u001b[32m333.2/333.2 kB\u001b[0m \u001b[31m9.1 MB/s\u001b[0m eta \u001b[36m0:00:00\u001b[0m\n",
            "\u001b[?25hInstalling collected packages: accelerate\n",
            "  Attempting uninstall: accelerate\n",
            "    Found existing installation: accelerate 0.34.2\n",
            "    Uninstalling accelerate-0.34.2:\n",
            "      Successfully uninstalled accelerate-0.34.2\n",
            "Successfully installed accelerate-1.1.0\n",
            "Requirement already satisfied: matplotlib in /usr/local/lib/python3.10/dist-packages (3.8.0)\n",
            "Requirement already satisfied: contourpy>=1.0.1 in /usr/local/lib/python3.10/dist-packages (from matplotlib) (1.3.0)\n",
            "Requirement already satisfied: cycler>=0.10 in /usr/local/lib/python3.10/dist-packages (from matplotlib) (0.12.1)\n",
            "Requirement already satisfied: fonttools>=4.22.0 in /usr/local/lib/python3.10/dist-packages (from matplotlib) (4.54.1)\n",
            "Requirement already satisfied: kiwisolver>=1.0.1 in /usr/local/lib/python3.10/dist-packages (from matplotlib) (1.4.7)\n",
            "Requirement already satisfied: numpy<2,>=1.21 in /usr/local/lib/python3.10/dist-packages (from matplotlib) (1.26.4)\n",
            "Requirement already satisfied: packaging>=20.0 in /usr/local/lib/python3.10/dist-packages (from matplotlib) (24.1)\n",
            "Requirement already satisfied: pillow>=6.2.0 in /usr/local/lib/python3.10/dist-packages (from matplotlib) (10.4.0)\n",
            "Requirement already satisfied: pyparsing>=2.3.1 in /usr/local/lib/python3.10/dist-packages (from matplotlib) (3.2.0)\n",
            "Requirement already satisfied: python-dateutil>=2.7 in /usr/local/lib/python3.10/dist-packages (from matplotlib) (2.8.2)\n",
            "Requirement already satisfied: six>=1.5 in /usr/local/lib/python3.10/dist-packages (from python-dateutil>=2.7->matplotlib) (1.16.0)\n",
            "Requirement already satisfied: tensorboard in /usr/local/lib/python3.10/dist-packages (2.17.0)\n",
            "Requirement already satisfied: absl-py>=0.4 in /usr/local/lib/python3.10/dist-packages (from tensorboard) (1.4.0)\n",
            "Requirement already satisfied: grpcio>=1.48.2 in /usr/local/lib/python3.10/dist-packages (from tensorboard) (1.64.1)\n",
            "Requirement already satisfied: markdown>=2.6.8 in /usr/local/lib/python3.10/dist-packages (from tensorboard) (3.7)\n",
            "Requirement already satisfied: numpy>=1.12.0 in /usr/local/lib/python3.10/dist-packages (from tensorboard) (1.26.4)\n",
            "Requirement already satisfied: protobuf!=4.24.0,<5.0.0,>=3.19.6 in /usr/local/lib/python3.10/dist-packages (from tensorboard) (3.20.3)\n",
            "Requirement already satisfied: setuptools>=41.0.0 in /usr/local/lib/python3.10/dist-packages (from tensorboard) (75.1.0)\n",
            "Requirement already satisfied: six>1.9 in /usr/local/lib/python3.10/dist-packages (from tensorboard) (1.16.0)\n",
            "Requirement already satisfied: tensorboard-data-server<0.8.0,>=0.7.0 in /usr/local/lib/python3.10/dist-packages (from tensorboard) (0.7.2)\n",
            "Requirement already satisfied: werkzeug>=1.0.1 in /usr/local/lib/python3.10/dist-packages (from tensorboard) (3.0.6)\n",
            "Requirement already satisfied: MarkupSafe>=2.1.1 in /usr/local/lib/python3.10/dist-packages (from werkzeug>=1.0.1->tensorboard) (3.0.2)\n"
          ]
        }
      ]
    },
    {
      "cell_type": "code",
      "source": [
        "import os\n",
        "import torch\n",
        "import evaluate\n",
        "import numpy as np\n",
        "import pandas as pd\n",
        "import glob as glob\n",
        "import torch.optim as optim\n",
        "import matplotlib.pyplot as plt\n",
        "import torchvision.transforms as transforms\n",
        "\n",
        "from PIL import Image\n",
        "from tqdm.notebook import tqdm\n",
        "from dataclasses import dataclass\n",
        "from torch.utils.data import Dataset\n",
        "from transformers import (\n",
        "    VisionEncoderDecoderModel,\n",
        "    TrOCRProcessor,\n",
        "    Seq2SeqTrainer,\n",
        "    Seq2SeqTrainingArguments,\n",
        "    default_data_collator\n",
        ")\n",
        "\n",
        "block_plot = False\n",
        "plt.rcParams['figure.figsize'] = (12, 9)"
      ],
      "metadata": {
        "id": "yFOU8vUwUrf_",
        "execution": {
          "iopub.status.busy": "2024-11-02T05:06:17.237444Z",
          "iopub.execute_input": "2024-11-02T05:06:17.237845Z",
          "iopub.status.idle": "2024-11-02T05:06:25.116307Z",
          "shell.execute_reply.started": "2024-11-02T05:06:17.237795Z",
          "shell.execute_reply": "2024-11-02T05:06:25.115503Z"
        },
        "trusted": true
      },
      "execution_count": null,
      "outputs": []
    },
    {
      "cell_type": "code",
      "source": [
        "os.environ[\"TOKENIZERS_PARALLELISM\"] = 'True'"
      ],
      "metadata": {
        "id": "fHbbwOduU4I4",
        "execution": {
          "iopub.status.busy": "2024-11-02T05:06:25.117416Z",
          "iopub.execute_input": "2024-11-02T05:06:25.118001Z",
          "iopub.status.idle": "2024-11-02T05:06:25.122413Z",
          "shell.execute_reply.started": "2024-11-02T05:06:25.117964Z",
          "shell.execute_reply": "2024-11-02T05:06:25.121506Z"
        },
        "trusted": true
      },
      "execution_count": null,
      "outputs": []
    },
    {
      "cell_type": "code",
      "source": [
        "def seed_everything(seed_value):\n",
        "    np.random.seed(seed_value)\n",
        "    torch.manual_seed(seed_value)\n",
        "    torch.cuda.manual_seed_all(seed_value)\n",
        "    torch.backends.cudnn.deterministic = True\n",
        "    torch.backends.cudnn.benchmark = False\n",
        "\n",
        "seed_everything(42)"
      ],
      "metadata": {
        "id": "5HfoSf7JVMzh",
        "execution": {
          "iopub.status.busy": "2024-11-02T05:06:25.125643Z",
          "iopub.execute_input": "2024-11-02T05:06:25.126023Z",
          "iopub.status.idle": "2024-11-02T05:06:25.133975Z",
          "shell.execute_reply.started": "2024-11-02T05:06:25.125984Z",
          "shell.execute_reply": "2024-11-02T05:06:25.133059Z"
        },
        "trusted": true
      },
      "execution_count": null,
      "outputs": []
    },
    {
      "cell_type": "code",
      "source": [
        "# device = xm.xla_device()\n",
        "device = torch.device('cuda' if torch.cuda.is_available() else 'cpu')\n",
        "print(device)"
      ],
      "metadata": {
        "id": "t_k-L1_zVP1w",
        "outputId": "57880193-d686-447a-c82a-c83b94fb6eb4",
        "execution": {
          "iopub.status.busy": "2024-11-02T05:06:25.135564Z",
          "iopub.execute_input": "2024-11-02T05:06:25.136022Z",
          "iopub.status.idle": "2024-11-02T05:06:25.19318Z",
          "shell.execute_reply.started": "2024-11-02T05:06:25.135979Z",
          "shell.execute_reply": "2024-11-02T05:06:25.192319Z"
        },
        "trusted": true,
        "colab": {
          "base_uri": "https://localhost:8080/"
        }
      },
      "execution_count": null,
      "outputs": [
        {
          "output_type": "stream",
          "name": "stdout",
          "text": [
            "cuda\n"
          ]
        }
      ]
    },
    {
      "cell_type": "code",
      "source": [
        "@dataclass(frozen=True)\n",
        "class TrainingConfig:\n",
        "    BATCH_SIZE:    int = 32\n",
        "    EPOCHS:        int = 12\n",
        "    LEARNING_RATE: float = 0.00005\n",
        "\n",
        "@dataclass(frozen=True)\n",
        "class DatasetConfig:\n",
        "    DATA_ROOT:     str = '/kaggle/input'\n",
        "\n",
        "@dataclass(frozen=True)\n",
        "class ModelConfig:\n",
        "    MODEL_NAME: str = 'microsoft/trocr-small-handwritten'\n",
        "@dataclass(frozen=True)\n",
        "class Config:\n",
        "\n",
        "    # torch parameters\n",
        "    float32_matmul_precision = \"high\"\n",
        "    seed = 42\n",
        "\n",
        "    # dataset parameters\n",
        "    train_dataset_path = \"OleehyO/latex-formulas\"\n",
        "    split_dataset_name = \"cleaned_formulas\"\n",
        "    val_test_size = 0.2\n",
        "\n",
        "    # model parameters\n",
        "    tokenizer_name = \"gpt2\"\n",
        "    feature_extractor = \"microsoft/swin-base-patch4-window7-224-in22k\"\n",
        "    encoder_name = \"microsoft/swin-base-patch4-window7-224-in22k\"\n",
        "    decoder_name = \"gpt2\"\n",
        "    max_length=512\n",
        "\n",
        "    # training parameters\n",
        "    num_epochs = 40\n",
        "    batch_size_train = 16\n",
        "    batch_size_val = 16\n",
        "    learning_rate = 1e-4\n",
        "    warmup_steps = 400\n",
        "    max_grad_norm = 1.0\n",
        "    betas = (0.95, 0.98)\n",
        "    eps=1e-08\n",
        "\n",
        "    # image parameters\n",
        "    image_size=(224, 468)\n",
        "\n",
        "    # checkpoint parameters\n",
        "    checkpoint_dir = \"checkpoints\"\n",
        "    eval_steps = 200\n",
        "\n",
        "    # metric parameters\n",
        "    bleu = \"google_bleu\""
      ],
      "metadata": {
        "id": "Hkjae9XQVVh8",
        "execution": {
          "iopub.status.busy": "2024-11-02T05:52:39.229174Z",
          "iopub.execute_input": "2024-11-02T05:52:39.229991Z",
          "iopub.status.idle": "2024-11-02T05:52:39.241318Z",
          "shell.execute_reply.started": "2024-11-02T05:52:39.22995Z",
          "shell.execute_reply": "2024-11-02T05:52:39.240262Z"
        },
        "trusted": true
      },
      "execution_count": null,
      "outputs": []
    },
    {
      "cell_type": "code",
      "source": [
        "DatasetConfig.DATA_ROOT"
      ],
      "metadata": {
        "id": "fNS3486IWasp",
        "outputId": "ac6bcfe1-8fab-49eb-aec1-7359c9cf5cce",
        "execution": {
          "iopub.status.busy": "2024-11-02T05:06:25.208184Z",
          "iopub.execute_input": "2024-11-02T05:06:25.208538Z",
          "iopub.status.idle": "2024-11-02T05:06:25.220369Z",
          "shell.execute_reply.started": "2024-11-02T05:06:25.208447Z",
          "shell.execute_reply": "2024-11-02T05:06:25.219479Z"
        },
        "trusted": true,
        "colab": {
          "base_uri": "https://localhost:8080/",
          "height": 35
        }
      },
      "execution_count": null,
      "outputs": [
        {
          "output_type": "execute_result",
          "data": {
            "text/plain": [
              "'/kaggle/input'"
            ],
            "application/vnd.google.colaboratory.intrinsic+json": {
              "type": "string"
            }
          },
          "metadata": {},
          "execution_count": 80
        }
      ]
    },
    {
      "cell_type": "code",
      "source": [
        "# import os\n",
        "# import pandas as pd\n",
        "# import matplotlib.pyplot as plt\n",
        "# from matplotlib import rcParams\n",
        "\n",
        "# # Function to check if a LaTeX formula is parsable\n",
        "# def is_latex_parsable(latex_string):\n",
        "#     try:\n",
        "#         # Attempt to parse the LaTeX string\n",
        "#         plt.figure()  # Create a new figure to avoid errors\n",
        "#         plt.title(latex_string, fontsize=12)  # Set title with LaTeX\n",
        "#         plt.close()  # Close the figure\n",
        "#         return True\n",
        "#     except Exception:\n",
        "#         return False\n",
        "\n",
        "# # Load the Excel file\n",
        "# file_path = '/kaggle/input/handwritten-eq-to-latex-conv-dataset/HandwrittenData/train_hw.csv'  # Replace with your Excel file path\n",
        "# df = pd.read_csv(file_path)\n",
        "\n",
        "# # Get the list of filenames in the specified folder\n",
        "# folder_path = '/kaggle/input/handwritten-eq-to-latex-conv-dataset/HandwrittenData/images/train'  # Replace with the folder containing images\n",
        "# image_files = set(os.listdir(folder_path))  # Set of filenames in the folder\n",
        "\n",
        "# # Filter out rows where the formula is not LaTeX parsable\n",
        "# df = df[df['formula'].apply(is_latex_parsable)]\n",
        "\n",
        "# # Filter out rows where the image file is not present in the folder\n",
        "# df = df[df['image'].isin(image_files)]\n",
        "\n",
        "# # Save the filtered DataFrame to a new Excel file\n",
        "# output_file_path = 'filtered_output.csv'  # Specify your desired output file name\n",
        "# df.to_csv(output_file_path, index=False)\n",
        "\n",
        "# print(f\"Filtered DataFrame saved successfully to {output_file_path}!\")\n"
      ],
      "metadata": {
        "execution": {
          "iopub.status.busy": "2024-11-02T05:06:25.221482Z",
          "iopub.execute_input": "2024-11-02T05:06:25.221882Z",
          "iopub.status.idle": "2024-11-02T05:06:25.228403Z",
          "shell.execute_reply.started": "2024-11-02T05:06:25.221813Z",
          "shell.execute_reply": "2024-11-02T05:06:25.227545Z"
        },
        "trusted": true,
        "id": "fVAN6hakehdn"
      },
      "execution_count": null,
      "outputs": []
    },
    {
      "cell_type": "code",
      "source": [
        "\n",
        "\n",
        "# test_ds = pd.read_csv(\n",
        "#     \"/kaggle/input/handwritten-eq-to-latex-conv-dataset/HandwrittenData/val_hw.csv\",\n",
        "#     header=None,\n",
        "#     skiprows=1,\n",
        "#     names=['image', 'formula']\n",
        "# )"
      ],
      "metadata": {
        "id": "ifVLnRwVZWSj",
        "execution": {
          "iopub.status.busy": "2024-11-02T05:06:25.254267Z",
          "iopub.execute_input": "2024-11-02T05:06:25.254547Z",
          "iopub.status.idle": "2024-11-02T05:06:25.258726Z",
          "shell.execute_reply.started": "2024-11-02T05:06:25.254517Z",
          "shell.execute_reply": "2024-11-02T05:06:25.257583Z"
        },
        "trusted": true
      },
      "execution_count": null,
      "outputs": []
    },
    {
      "cell_type": "code",
      "source": [],
      "metadata": {
        "trusted": true,
        "id": "0vQFNxIPehdq"
      },
      "execution_count": null,
      "outputs": []
    },
    {
      "cell_type": "code",
      "source": [],
      "metadata": {
        "id": "uJq4yYZbehdr"
      },
      "execution_count": null,
      "outputs": []
    },
    {
      "cell_type": "code",
      "source": [
        "# results_df"
      ],
      "metadata": {
        "execution": {
          "iopub.status.busy": "2024-11-02T05:06:49.42729Z",
          "iopub.execute_input": "2024-11-02T05:06:49.42764Z",
          "iopub.status.idle": "2024-11-02T05:06:49.435901Z",
          "shell.execute_reply.started": "2024-11-02T05:06:49.427606Z",
          "shell.execute_reply": "2024-11-02T05:06:49.43507Z"
        },
        "trusted": true,
        "id": "uP3LcbGwehds"
      },
      "execution_count": null,
      "outputs": []
    },
    {
      "cell_type": "code",
      "source": [],
      "metadata": {
        "id": "AfEA1GDRehdt"
      },
      "execution_count": null,
      "outputs": []
    },
    {
      "cell_type": "code",
      "source": [
        "!pip install peft"
      ],
      "metadata": {
        "execution": {
          "iopub.status.busy": "2024-11-02T05:06:49.436832Z",
          "iopub.execute_input": "2024-11-02T05:06:49.437109Z",
          "iopub.status.idle": "2024-11-02T05:07:01.403186Z",
          "shell.execute_reply.started": "2024-11-02T05:06:49.437064Z",
          "shell.execute_reply": "2024-11-02T05:07:01.402037Z"
        },
        "collapsed": true,
        "jupyter": {
          "outputs_hidden": true
        },
        "trusted": true,
        "id": "0DmCLgz5ehdt",
        "outputId": "1c4acef9-b6b2-489e-a44c-38ffadbce126",
        "colab": {
          "base_uri": "https://localhost:8080/"
        }
      },
      "execution_count": null,
      "outputs": [
        {
          "output_type": "stream",
          "name": "stdout",
          "text": [
            "Requirement already satisfied: peft in /usr/local/lib/python3.10/dist-packages (0.13.2)\n",
            "Requirement already satisfied: numpy>=1.17 in /usr/local/lib/python3.10/dist-packages (from peft) (1.26.4)\n",
            "Requirement already satisfied: packaging>=20.0 in /usr/local/lib/python3.10/dist-packages (from peft) (24.1)\n",
            "Requirement already satisfied: psutil in /usr/local/lib/python3.10/dist-packages (from peft) (5.9.5)\n",
            "Requirement already satisfied: pyyaml in /usr/local/lib/python3.10/dist-packages (from peft) (6.0.2)\n",
            "Requirement already satisfied: torch>=1.13.0 in /usr/local/lib/python3.10/dist-packages (from peft) (2.5.0+cu121)\n",
            "Requirement already satisfied: transformers in /usr/local/lib/python3.10/dist-packages (from peft) (4.44.2)\n",
            "Requirement already satisfied: tqdm in /usr/local/lib/python3.10/dist-packages (from peft) (4.66.6)\n",
            "Requirement already satisfied: accelerate>=0.21.0 in /usr/local/lib/python3.10/dist-packages (from peft) (1.1.0)\n",
            "Requirement already satisfied: safetensors in /usr/local/lib/python3.10/dist-packages (from peft) (0.4.5)\n",
            "Requirement already satisfied: huggingface-hub>=0.17.0 in /usr/local/lib/python3.10/dist-packages (from peft) (0.24.7)\n",
            "Requirement already satisfied: filelock in /usr/local/lib/python3.10/dist-packages (from huggingface-hub>=0.17.0->peft) (3.16.1)\n",
            "Requirement already satisfied: fsspec>=2023.5.0 in /usr/local/lib/python3.10/dist-packages (from huggingface-hub>=0.17.0->peft) (2024.9.0)\n",
            "Requirement already satisfied: requests in /usr/local/lib/python3.10/dist-packages (from huggingface-hub>=0.17.0->peft) (2.32.3)\n",
            "Requirement already satisfied: typing-extensions>=3.7.4.3 in /usr/local/lib/python3.10/dist-packages (from huggingface-hub>=0.17.0->peft) (4.12.2)\n",
            "Requirement already satisfied: networkx in /usr/local/lib/python3.10/dist-packages (from torch>=1.13.0->peft) (3.4.2)\n",
            "Requirement already satisfied: jinja2 in /usr/local/lib/python3.10/dist-packages (from torch>=1.13.0->peft) (3.1.4)\n",
            "Requirement already satisfied: sympy==1.13.1 in /usr/local/lib/python3.10/dist-packages (from torch>=1.13.0->peft) (1.13.1)\n",
            "Requirement already satisfied: mpmath<1.4,>=1.1.0 in /usr/local/lib/python3.10/dist-packages (from sympy==1.13.1->torch>=1.13.0->peft) (1.3.0)\n",
            "Requirement already satisfied: regex!=2019.12.17 in /usr/local/lib/python3.10/dist-packages (from transformers->peft) (2024.9.11)\n",
            "Requirement already satisfied: tokenizers<0.20,>=0.19 in /usr/local/lib/python3.10/dist-packages (from transformers->peft) (0.19.1)\n",
            "Requirement already satisfied: MarkupSafe>=2.0 in /usr/local/lib/python3.10/dist-packages (from jinja2->torch>=1.13.0->peft) (3.0.2)\n",
            "Requirement already satisfied: charset-normalizer<4,>=2 in /usr/local/lib/python3.10/dist-packages (from requests->huggingface-hub>=0.17.0->peft) (3.4.0)\n",
            "Requirement already satisfied: idna<4,>=2.5 in /usr/local/lib/python3.10/dist-packages (from requests->huggingface-hub>=0.17.0->peft) (3.10)\n",
            "Requirement already satisfied: urllib3<3,>=1.21.1 in /usr/local/lib/python3.10/dist-packages (from requests->huggingface-hub>=0.17.0->peft) (2.2.3)\n",
            "Requirement already satisfied: certifi>=2017.4.17 in /usr/local/lib/python3.10/dist-packages (from requests->huggingface-hub>=0.17.0->peft) (2024.8.30)\n"
          ]
        }
      ]
    },
    {
      "cell_type": "code",
      "source": [],
      "metadata": {
        "execution": {
          "iopub.status.busy": "2024-11-02T05:11:57.716094Z",
          "iopub.execute_input": "2024-11-02T05:11:57.716511Z",
          "iopub.status.idle": "2024-11-02T05:30:53.081941Z",
          "shell.execute_reply.started": "2024-11-02T05:11:57.716474Z",
          "shell.execute_reply": "2024-11-02T05:30:53.080411Z"
        },
        "jupyter": {
          "outputs_hidden": true
        },
        "collapsed": true,
        "trusted": true,
        "id": "srZtnWuIehd0"
      },
      "execution_count": null,
      "outputs": []
    },
    {
      "cell_type": "code",
      "source": [
        "import torch\n",
        "\n",
        "# Clear all cache on the GPU\n",
        "torch.cuda.empty_cache()\n",
        "\n",
        "# You can also reset all memory allocations (optional):\n",
        "torch.cuda.reset_peak_memory_stats()\n",
        "torch.cuda.reset_accumulated_memory_stats()\n",
        "torch.cuda.memory_summary(device=None, abbreviated=False)"
      ],
      "metadata": {
        "execution": {
          "iopub.status.busy": "2024-11-02T06:00:19.86938Z",
          "iopub.execute_input": "2024-11-02T06:00:19.870335Z",
          "iopub.status.idle": "2024-11-02T06:00:19.878208Z",
          "shell.execute_reply.started": "2024-11-02T06:00:19.870285Z",
          "shell.execute_reply": "2024-11-02T06:00:19.877215Z"
        },
        "trusted": true,
        "id": "U9Gq2tAOehd5",
        "outputId": "74c07fe2-4b1f-48ef-dbc0-b532938dcfb2",
        "colab": {
          "base_uri": "https://localhost:8080/",
          "height": 191
        }
      },
      "execution_count": null,
      "outputs": [
        {
          "output_type": "execute_result",
          "data": {
            "text/plain": [
              "'|===========================================================================|\\n|                  PyTorch CUDA memory summary, device ID 0                 |\\n|---------------------------------------------------------------------------|\\n|            CUDA OOMs: 0            |        cudaMalloc retries: 0         |\\n|===========================================================================|\\n|        Metric         | Cur Usage  | Peak Usage | Tot Alloc  | Tot Freed  |\\n|---------------------------------------------------------------------------|\\n| Allocated memory      |  13426 MiB |  13426 MiB |      0 B   |      0 B   |\\n|       from large pool |  12863 MiB |  12863 MiB |      0 B   |      0 B   |\\n|       from small pool |    562 MiB |    562 MiB |      0 B   |      0 B   |\\n|---------------------------------------------------------------------------|\\n| Active memory         |  13426 MiB |  13426 MiB |      0 B   |      0 B   |\\n|       from large pool |  12863 MiB |  12863 MiB |      0 B   |      0 B   |\\n|       from small pool |    562 MiB |    562 MiB |      0 B   |      0 B   |\\n|---------------------------------------------------------------------------|\\n| Requested memory      |  13361 MiB |  13361 MiB |      0 B   |      0 B   |\\n|       from large pool |  12798 MiB |  12798 MiB |      0 B   |      0 B   |\\n|       from small pool |    562 MiB |    562 MiB |      0 B   |      0 B   |\\n|---------------------------------------------------------------------------|\\n| GPU reserved memory   |  13828 MiB |  13828 MiB |      0 B   |      0 B   |\\n|       from large pool |  13262 MiB |  13262 MiB |      0 B   |      0 B   |\\n|       from small pool |    566 MiB |    566 MiB |      0 B   |      0 B   |\\n|---------------------------------------------------------------------------|\\n| Non-releasable memory | 411093 KiB | 411093 KiB |      0 B   |      0 B   |\\n|       from large pool | 407665 KiB | 407665 KiB |      0 B   |      0 B   |\\n|       from small pool |   3428 KiB |   3428 KiB |      0 B   |      0 B   |\\n|---------------------------------------------------------------------------|\\n| Allocations           |    5354    |    5354    |       0    |       0    |\\n|       from large pool |    1076    |    1076    |       0    |       0    |\\n|       from small pool |    4278    |    4278    |       0    |       0    |\\n|---------------------------------------------------------------------------|\\n| Active allocs         |    5354    |    5354    |       0    |       0    |\\n|       from large pool |    1076    |    1076    |       0    |       0    |\\n|       from small pool |    4278    |    4278    |       0    |       0    |\\n|---------------------------------------------------------------------------|\\n| GPU reserved segments |     561    |     561    |       0    |       0    |\\n|       from large pool |     278    |     278    |       0    |       0    |\\n|       from small pool |     283    |     283    |       0    |       0    |\\n|---------------------------------------------------------------------------|\\n| Non-releasable allocs |     249    |     249    |       0    |       0    |\\n|       from large pool |     149    |     149    |       0    |       0    |\\n|       from small pool |     100    |     100    |       0    |       0    |\\n|---------------------------------------------------------------------------|\\n| Oversize allocations  |       0    |       0    |       0    |       0    |\\n|---------------------------------------------------------------------------|\\n| Oversize GPU segments |       0    |       0    |       0    |       0    |\\n|===========================================================================|\\n'"
            ],
            "application/vnd.google.colaboratory.intrinsic+json": {
              "type": "string"
            }
          },
          "metadata": {},
          "execution_count": 85
        }
      ]
    },
    {
      "cell_type": "code",
      "source": [
        "# res=trainer.train(resume_from_checkpoint='/kaggle/working/trocr_handwritten/checkpoint-6770')"
      ],
      "metadata": {
        "trusted": true,
        "id": "Os8SJYX5ehd6"
      },
      "execution_count": null,
      "outputs": []
    },
    {
      "cell_type": "code",
      "source": [
        "import os\n",
        "import torch\n",
        "import torch.distributed as dist\n",
        "\n",
        "# Set environment variables manually for local testing\n",
        "os.environ['RANK'] = '0'                # Rank of the current process\n",
        "os.environ['LOCAL_RANK'] = '0'          # Local rank of the process\n",
        "os.environ['WORLD_SIZE'] = '1'          # Total number of processes\n",
        "os.environ['MASTER_ADDR'] = 'localhost' # Address of the master node (could be an IP address)\n",
        "os.environ['MASTER_PORT'] = '29500'     # Port for communication\n",
        "\n",
        "# Distributed process group initialization\n",
        "ddp = int(os.environ.get('RANK', -1)) != -1  # Check if it's a DDP run\n",
        "if not dist.is_initialized():\n",
        "    dist.init_process_group(backend='nccl')\n",
        "ddp_rank = int(os.environ['RANK'])\n",
        "ddp_local_rank = int(os.environ['LOCAL_RANK'])\n",
        "ddp_world_size = int(os.environ['WORLD_SIZE'])\n",
        "device = f'cuda:{ddp_local_rank}'\n",
        "torch.cuda.set_device(device)\n",
        "\n",
        "# Check if master process\n",
        "master_process = ddp_rank == 0\n",
        "\n",
        "print(f\"DDP Rank: {ddp_rank}\")\n",
        "print(f\"DDP Local Rank: {ddp_local_rank}\")\n",
        "print(f\"DDP World Size: {ddp_world_size}\")\n",
        "print(f\"Device: {device}\")\n",
        "print(f\"Is Master Process: {master_process}\")\n"
      ],
      "metadata": {
        "trusted": true,
        "id": "IYjQWdxYehd6",
        "colab": {
          "base_uri": "https://localhost:8080/"
        },
        "outputId": "4fe3279e-9e53-40a4-8e25-d96af4209a84"
      },
      "execution_count": null,
      "outputs": [
        {
          "output_type": "stream",
          "name": "stdout",
          "text": [
            "DDP Rank: 0\n",
            "DDP Local Rank: 0\n",
            "DDP World Size: 1\n",
            "Device: cuda:0\n",
            "Is Master Process: True\n"
          ]
        }
      ]
    },
    {
      "cell_type": "code",
      "source": [
        "def set_seed(seed):\n",
        "    np.random.seed(seed)\n",
        "    torch.manual_seed(seed)\n",
        "    if torch.cuda.is_available():\n",
        "        torch.cuda.manual_seed_all(seed)\n",
        "\n",
        "# setting a seed for reproducibility\n",
        "set_seed(Config.seed)"
      ],
      "metadata": {
        "execution": {
          "iopub.status.busy": "2024-11-02T05:40:45.394195Z",
          "iopub.execute_input": "2024-11-02T05:40:45.394595Z",
          "iopub.status.idle": "2024-11-02T05:40:45.401148Z",
          "shell.execute_reply.started": "2024-11-02T05:40:45.394557Z",
          "shell.execute_reply": "2024-11-02T05:40:45.400173Z"
        },
        "trusted": true,
        "id": "SFikuiCsehd7"
      },
      "execution_count": null,
      "outputs": []
    },
    {
      "cell_type": "code",
      "source": [
        "import torch\n",
        "from torch.utils.data import DataLoader, Dataset, DistributedSampler\n",
        "import torch.distributed as dist\n",
        "from torch.nn.parallel import DistributedDataParallel as DDP\n",
        "from torch.nn.utils.rnn import pad_sequence\n",
        "from torch.optim import AdamW\n",
        "\n",
        "from transformers import (\n",
        "    VisionEncoderDecoderModel,\n",
        "    AutoTokenizer,\n",
        "    AutoFeatureExtractor,\n",
        "    get_linear_schedule_with_warmup\n",
        ")\n",
        "\n",
        "from peft import LoraConfig, IA3Config, get_peft_model\n",
        "\n",
        "from PIL import Image\n",
        "import evaluate\n",
        "from datasets import load_dataset\n",
        "import numpy as np\n",
        "from tqdm import tqdm\n",
        "import os\n",
        "import json\n",
        "import time\n",
        "\n",
        "\n",
        "\n",
        "import warnings\n",
        "warnings.filterwarnings(\"ignore\")\n",
        "\n",
        "from transformers import logging\n",
        "\n",
        "logging.set_verbosity_warning()\n",
        "logging.set_verbosity_error()"
      ],
      "metadata": {
        "execution": {
          "iopub.status.busy": "2024-11-02T05:44:18.487833Z",
          "iopub.execute_input": "2024-11-02T05:44:18.488196Z",
          "iopub.status.idle": "2024-11-02T05:44:18.497116Z",
          "shell.execute_reply.started": "2024-11-02T05:44:18.488163Z",
          "shell.execute_reply": "2024-11-02T05:44:18.496139Z"
        },
        "trusted": true,
        "id": "6oqp75ZCeheA"
      },
      "execution_count": null,
      "outputs": []
    },
    {
      "cell_type": "code",
      "source": [
        "\n",
        "\n",
        "# getting pre-trained tokenizer and feature extractor\n",
        "tokenizer = AutoTokenizer.from_pretrained(Config.tokenizer_name)\n",
        "tokenizer.pad_token = tokenizer.eos_token\n",
        "feature_extractor = AutoFeatureExtractor.from_pretrained(Config.feature_extractor)\n",
        "\n",
        "# loading new dataset\n",
        "new_dataset = load_dataset(\"linxy/LaTeX_OCR\", \"human_handwrite\")\n",
        "\n",
        "# combining train, val, and test splits and then splitting into train and val\n",
        "train_ds = new_dataset['train']\n",
        "val_ds = new_dataset['validation']\n",
        "test_ds = new_dataset['test']\n"
      ],
      "metadata": {
        "execution": {
          "iopub.status.busy": "2024-11-02T05:41:10.023633Z",
          "iopub.execute_input": "2024-11-02T05:41:10.024168Z",
          "iopub.status.idle": "2024-11-02T05:41:12.896316Z",
          "shell.execute_reply.started": "2024-11-02T05:41:10.024125Z",
          "shell.execute_reply": "2024-11-02T05:41:12.895394Z"
        },
        "collapsed": true,
        "jupyter": {
          "outputs_hidden": true
        },
        "trusted": true,
        "id": "EKSTwNksehd7"
      },
      "execution_count": null,
      "outputs": []
    },
    {
      "cell_type": "code",
      "source": [
        "\n",
        "def filter_dataset(dataset):\n",
        "    def is_valid_sample(sample):\n",
        "        try:\n",
        "            image = sample['image']\n",
        "            latex = sample['text']\n",
        "            return image is not None and latex is not None and len(latex) > 0\n",
        "        except:\n",
        "            return False\n",
        "\n",
        "    return dataset.filter(is_valid_sample)\n",
        "\n",
        "train_ds = filter_dataset(train_ds)\n",
        "val_ds = filter_dataset(val_ds)\n",
        "\n",
        "if master_process:\n",
        "    print(\"Length of train set after splitting:\", len(train_ds))\n",
        "    print(\"Length of val set after splitting:\", len(val_ds))\n"
      ],
      "metadata": {
        "execution": {
          "iopub.status.busy": "2024-11-02T05:41:27.43706Z",
          "iopub.execute_input": "2024-11-02T05:41:27.437456Z",
          "iopub.status.idle": "2024-11-02T05:41:29.7961Z",
          "shell.execute_reply.started": "2024-11-02T05:41:27.437418Z",
          "shell.execute_reply": "2024-11-02T05:41:29.795025Z"
        },
        "trusted": true,
        "id": "5zWeuGASehd8",
        "colab": {
          "base_uri": "https://localhost:8080/"
        },
        "outputId": "b6ca36c9-d146-44e7-be04-47ca26a10860"
      },
      "execution_count": null,
      "outputs": [
        {
          "output_type": "stream",
          "name": "stdout",
          "text": [
            "Length of train set after splitting: 1200\n",
            "Length of val set after splitting: 68\n"
          ]
        }
      ]
    },
    {
      "cell_type": "code",
      "source": [
        "model = VisionEncoderDecoderModel.from_pretrained(\"DGurgurov/im2latex\").to(device)\n",
        "\n",
        "# setting up the adapter\n",
        "lora_config = LoraConfig(\n",
        "    r=16,\n",
        "    lora_alpha=16,\n",
        "    target_modules=[\n",
        "        # Encoder (Swin Transformer) modules\n",
        "        \"attn.qkv\",\n",
        "        \"attn.proj\",\n",
        "        \"mlp.fc1\",\n",
        "        \"mlp.fc2\",\n",
        "        # Decoder (GPT-2) modules\n",
        "        \"c_attn\",\n",
        "        \"c_proj\",\n",
        "        \"c_fc\",\n",
        "        \"attn.c_proj\",\n",
        "    ],\n",
        "    lora_dropout=0.1,\n",
        "    bias=\"none\"\n",
        "    # task_type=\"VL\"  # Vision-Language task\n",
        ")\n",
        "\n",
        "# setting up the IA³ adapter\n",
        "ia3_config = IA3Config(\n",
        "    target_modules=[\n",
        "        # Encoder (Swin Transformer) modules\n",
        "        \"attn.qkv\",\n",
        "        \"attn.proj\",\n",
        "        \"mlp.fc1\",\n",
        "        \"mlp.fc2\",\n",
        "        # Decoder (GPT-2) modules\n",
        "        \"c_attn\",\n",
        "        \"c_proj\",\n",
        "        \"c_fc\",\n",
        "        \"attn.c_proj\",\n",
        "    ],\n",
        "    feedforward_modules=[\n",
        "        \"mlp.fc1\",\n",
        "        \"mlp.fc2\",\n",
        "        \"c_fc\",\n",
        "    ],\n",
        "    init_ia3_weights=True,\n",
        "    # task_type=\"VL\"  # Vision-Language task\n",
        ")\n",
        "\n",
        "# applying lora\n",
        "model = get_peft_model(model, lora_config)\n",
        "if master_process:\n",
        "    model.print_trainable_parameters()\n",
        "\n",
        "torch.compile(model)\n",
        "model = DDP(model, device_ids=[ddp_local_rank], output_device=ddp_local_rank, find_unused_parameters=False)\n"
      ],
      "metadata": {
        "execution": {
          "iopub.status.busy": "2024-11-02T05:41:40.49052Z",
          "iopub.execute_input": "2024-11-02T05:41:40.490929Z",
          "iopub.status.idle": "2024-11-02T05:41:47.989399Z",
          "shell.execute_reply.started": "2024-11-02T05:41:40.490891Z",
          "shell.execute_reply": "2024-11-02T05:41:47.988412Z"
        },
        "trusted": true,
        "id": "_WIyMiJgehd-",
        "colab": {
          "base_uri": "https://localhost:8080/"
        },
        "outputId": "eb2851cb-6857-48da-e10a-14dfc38cac1f"
      },
      "execution_count": null,
      "outputs": [
        {
          "output_type": "stream",
          "name": "stdout",
          "text": [
            "trainable params: 3,096,576 || all params: 243,433,656 || trainable%: 1.2720\n"
          ]
        }
      ]
    },
    {
      "cell_type": "code",
      "source": [
        "# dataset loading class\n",
        "class LatexDataset(Dataset):\n",
        "    def __init__(\n",
        "        self,\n",
        "        dataset,\n",
        "        tokenizer,\n",
        "        feature_extractor,\n",
        "        phase,\n",
        "        image_size=Config.image_size,\n",
        "        max_length=512\n",
        "    ):\n",
        "        self.dataset = dataset\n",
        "        self.tokenizer = tokenizer\n",
        "        self.feature_extractor = feature_extractor\n",
        "        self.phase = phase\n",
        "        self.image_size = image_size\n",
        "        self.max_length = max_length\n",
        "        self.train_transform = self.get_train_transform()\n",
        "\n",
        "    def __len__(self):\n",
        "        return len(self.dataset)\n",
        "\n",
        "    def get_train_transform(self):\n",
        "        def train_transform(image):\n",
        "            image = image.resize(self.image_size)\n",
        "            image = np.array(image)\n",
        "            image = image.astype(np.float32) / 255.0\n",
        "            return image\n",
        "        return train_transform\n",
        "\n",
        "    def __getitem__(self, idx):\n",
        "        item = self.dataset[idx]\n",
        "        latex_sequence = item['text']\n",
        "        image = item['image']\n",
        "\n",
        "        # converting RGBA to RGB for the test set --> some images have alphas\n",
        "        if image.mode == 'RGBA':\n",
        "            image = image.convert('RGB')\n",
        "\n",
        "        # image processing\n",
        "        try:\n",
        "            pixel_values = self.feature_extractor(\n",
        "                images=image.resize(self.image_size),\n",
        "                return_tensors=\"pt\",\n",
        "            ).pixel_values.squeeze()\n",
        "            if pixel_values.ndim == 0:\n",
        "                raise ValueError(\"Processed image has no dimensions\")\n",
        "        except Exception as e:\n",
        "            print(f\"Error processing image at index {idx}: {str(e)}\")\n",
        "            # provide a default tensor in case of error\n",
        "            pixel_values = torch.zeros((3, self.image_size[0], self.image_size[1]))\n",
        "\n",
        "        # tokenization\n",
        "        try:\n",
        "            latex_tokens = self.tokenizer(\n",
        "                latex_sequence,\n",
        "                padding=False,\n",
        "                max_length=self.max_length,\n",
        "                truncation=True,\n",
        "                return_tensors='pt'\n",
        "            ).input_ids.squeeze()\n",
        "            if latex_tokens.ndim == 0:\n",
        "                raise ValueError(\"Tokenized latex has no dimensions\")\n",
        "        except Exception as e:\n",
        "            print(f\"Error tokenizing latex at index {idx}: {str(e)}\")\n",
        "            # provide a default tensor in case of error\n",
        "            latex_tokens = torch.zeros(1, dtype=torch.long)\n",
        "\n",
        "        return {\n",
        "            \"pixel_values\": pixel_values,\n",
        "            \"labels\": latex_tokens\n",
        "        }\n",
        "\n"
      ],
      "metadata": {
        "execution": {
          "iopub.status.busy": "2024-11-02T05:41:59.566991Z",
          "iopub.execute_input": "2024-11-02T05:41:59.567632Z",
          "iopub.status.idle": "2024-11-02T05:41:59.580195Z",
          "shell.execute_reply.started": "2024-11-02T05:41:59.567588Z",
          "shell.execute_reply": "2024-11-02T05:41:59.579333Z"
        },
        "trusted": true,
        "id": "vOOKJZ0xehd_"
      },
      "execution_count": null,
      "outputs": []
    },
    {
      "cell_type": "code",
      "source": [
        "# custom data collator\n",
        "def data_collator(batch):\n",
        "    pixel_values = torch.stack([item['pixel_values'] for item in batch])\n",
        "\n",
        "    # Handle labels, ensuring it's always a list of tensors\n",
        "    labels = [item['labels'] for item in batch if item['labels'].numel() > 0]\n",
        "\n",
        "    if len(labels) == 0:\n",
        "        # if all labels are empty, return a dummy tensor\n",
        "        labels = torch.zeros((len(batch), 1), dtype=torch.long)\n",
        "    elif len(labels) == 1:\n",
        "        # if there's only one sample, add a dimension to make it a batch\n",
        "        labels = labels[0].unsqueeze(0)\n",
        "    else:\n",
        "        # for multiple samples, use pad_sequence as before\n",
        "        labels = pad_sequence(labels, batch_first=True, padding_value=tokenizer.pad_token_id)\n",
        "\n",
        "    return {\n",
        "        'pixel_values': pixel_values,\n",
        "        'labels': labels\n",
        "    }\n"
      ],
      "metadata": {
        "execution": {
          "iopub.status.busy": "2024-11-02T05:44:19.842927Z",
          "iopub.execute_input": "2024-11-02T05:44:19.843808Z",
          "iopub.status.idle": "2024-11-02T05:44:19.852696Z",
          "shell.execute_reply.started": "2024-11-02T05:44:19.843753Z",
          "shell.execute_reply": "2024-11-02T05:44:19.851598Z"
        },
        "trusted": true,
        "id": "3mVrh9XteheB"
      },
      "execution_count": null,
      "outputs": []
    },
    {
      "cell_type": "code",
      "source": [
        "train_dataset = LatexDataset(train_ds, tokenizer, feature_extractor, phase='train')\n",
        "val_dataset = LatexDataset(val_ds, tokenizer, feature_extractor, phase='val')\n",
        "test_dataset = LatexDataset(test_ds, tokenizer, feature_extractor, phase='val')\n",
        "\n",
        "train_sampler = DistributedSampler(train_dataset)\n",
        "val_sampler = DistributedSampler(val_dataset, shuffle=False)\n",
        "test_sampler = DistributedSampler(test_dataset, shuffle=False)\n",
        "\n",
        "train_dataloader = DataLoader(train_dataset, batch_size=Config.batch_size_train, sampler=train_sampler, collate_fn=data_collator, drop_last=True )\n",
        "val_dataloader = DataLoader(val_dataset, batch_size=Config.batch_size_val, sampler=val_sampler, collate_fn=data_collator, drop_last=True )\n",
        "test_dataloader = DataLoader(test_dataset, batch_size=Config.batch_size_val, sampler=val_sampler, collate_fn=data_collator, drop_last=True )\n"
      ],
      "metadata": {
        "execution": {
          "iopub.status.busy": "2024-11-02T05:44:21.497174Z",
          "iopub.execute_input": "2024-11-02T05:44:21.497849Z",
          "iopub.status.idle": "2024-11-02T05:44:21.505168Z",
          "shell.execute_reply.started": "2024-11-02T05:44:21.497805Z",
          "shell.execute_reply": "2024-11-02T05:44:21.504123Z"
        },
        "trusted": true,
        "id": "RSro_2AkeheB"
      },
      "execution_count": null,
      "outputs": []
    },
    {
      "cell_type": "code",
      "source": [
        "# training parameters\n",
        "learning_rate = 2e-4\n",
        "num_epochs = 40  # using epochs for printing purposes actually, but control by max_steps\n",
        "warmup_steps = Config.warmup_steps\n",
        "eval_steps = 40\n",
        "\n",
        "# effective batch size per GPU (or per process)\n",
        "effective_batch_size = Config.batch_size_train * ddp_world_size\n",
        "if master_process:\n",
        "    print(\"Effective batch size:\", effective_batch_size)\n",
        "\n",
        "# calculate max_steps\n",
        "max_steps = (len(train_dataset) // effective_batch_size) * num_epochs\n",
        "if master_process:\n",
        "    print(\"Max steps:\", max_steps)\n",
        "\n",
        "# initializing optimizer and scheduler\n",
        "optimizer = AdamW(model.parameters(), lr=learning_rate, betas=Config.betas, eps=Config.eps)\n",
        "scheduler = get_linear_schedule_with_warmup(\n",
        "    optimizer,\n",
        "    num_warmup_steps=warmup_steps,\n",
        "    num_training_steps=max_steps\n",
        ")\n",
        "\n",
        "# metric for val purposes\n",
        "bleu_metric = evaluate.load(Config.bleu)\n",
        "\n",
        "best_checkpoint_step = None\n"
      ],
      "metadata": {
        "execution": {
          "iopub.status.busy": "2024-11-02T05:44:22.225226Z",
          "iopub.execute_input": "2024-11-02T05:44:22.225607Z",
          "iopub.status.idle": "2024-11-02T05:44:22.668428Z",
          "shell.execute_reply.started": "2024-11-02T05:44:22.225571Z",
          "shell.execute_reply": "2024-11-02T05:44:22.667499Z"
        },
        "trusted": true,
        "id": "z0xzCL8jeheC",
        "colab": {
          "base_uri": "https://localhost:8080/"
        },
        "outputId": "56521be7-0c0d-426e-b654-9153c34d5310"
      },
      "execution_count": null,
      "outputs": [
        {
          "output_type": "stream",
          "name": "stdout",
          "text": [
            "Effective batch size: 16\n",
            "Max steps: 3000\n"
          ]
        }
      ]
    },
    {
      "cell_type": "code",
      "source": [
        "# training loop for LoRA fine-tuning\n",
        "all_metrics = []\n",
        "def train_lora(model, train_dataloader, optimizer, scheduler, device, num_epochs, eval_steps, val_dataloader, tokenizer, bleu_metric, local_rank=0):\n",
        "    model.train()\n",
        "    train_losses = [] # list to store losses for whole epoch averaging\n",
        "    interval_losses = [] # list to store interval losses (updates every eval_steps)\n",
        "    best_val_loss = float('inf')\n",
        "     # list to store all metrics\n",
        "\n",
        "    checkpoint_dir = Config.checkpoint_dir\n",
        "    os.makedirs(checkpoint_dir, exist_ok=True)\n",
        "\n",
        "    # calculating total steps per epoch\n",
        "    total_steps_per_epoch = len(train_dataloader)\n",
        "\n",
        "    for epoch in range(num_epochs):\n",
        "        epoch_start_time = time.time()\n",
        "\n",
        "        for step, batch in enumerate(tqdm(train_dataloader, desc=f\"Epoch {epoch+1}/{num_epochs}\", disable=local_rank != 0)):\n",
        "            pixel_values = batch['pixel_values'].to(device)\n",
        "            labels = batch['labels'].to(device)\n",
        "\n",
        "            # forward pass\n",
        "            outputs = model(pixel_values=pixel_values, labels=labels)\n",
        "            loss = outputs.loss\n",
        "\n",
        "            # backward pass\n",
        "            optimizer.zero_grad()\n",
        "            loss.backward()\n",
        "\n",
        "            # gradient clipping\n",
        "            torch.nn.utils.clip_grad_norm_(model.parameters(), max_norm=1.0)\n",
        "\n",
        "            optimizer.step()\n",
        "            scheduler.step()\n",
        "\n",
        "            # averaging losses over gpus\n",
        "            interval_loss_tensor = loss.clone().detach().to(device)\n",
        "            torch.distributed.all_reduce(interval_loss_tensor, op=torch.distributed.ReduceOp.AVG)\n",
        "            interval_losses.append(interval_loss_tensor.item())\n",
        "\n",
        "            # Increment global_step\n",
        "            global_step = epoch * total_steps_per_epoch + step + 1\n",
        "\n",
        "            # logging and averaging loss every eval_steps\n",
        "            if global_step % eval_steps == 0 or (epoch == num_epochs - 1 and step == total_steps_per_epoch - 1):\n",
        "                # computing the average loss for the last eval_steps\n",
        "                average_loss = np.mean(interval_losses)\n",
        "                train_losses.append(average_loss)\n",
        "                if master_process:\n",
        "                    print(\" \")\n",
        "                    print(\"-----------------------------------------------------------\")\n",
        "                    print(f\"Step {global_step} - Average Training Loss: {average_loss}\")\n",
        "                    print(\"-----------------------------------------------------------\")\n",
        "\n",
        "                # resetting interval losses for the next interval\n",
        "                interval_losses = []\n",
        "\n",
        "                # evaluating on validation set\n",
        "                val_loss, bleu_score = evaluate(model, val_dataloader, device, tokenizer, bleu_metric)\n",
        "                if master_process: # print only for process with local rank 1\n",
        "                    print(\"-----------------------------------------------------------\")\n",
        "                    print(f\"Validation Loss after {global_step} steps: {val_loss}\")\n",
        "                    print(f\"Validation BLEU Score after {global_step} steps: {bleu_score}\")\n",
        "                    print(\"-----------------------------------------------------------\")\n",
        "\n",
        "                    metrics = {\n",
        "                        \"global_step\": global_step,\n",
        "                        \"train_loss\": average_loss,\n",
        "                        \"val_loss\": val_loss,\n",
        "                        \"val_bleu_score\": bleu_score\n",
        "                    }\n",
        "                    all_metrics.append(metrics)\n",
        "\n",
        "                    with open(\"training_metrics.json\", \"w\") as f:\n",
        "                        json.dump(all_metrics, f)\n",
        "\n",
        "                    # saving the model checkpoint if validation loss improved\n",
        "                    if val_loss < best_val_loss:\n",
        "                        best_val_loss = val_loss\n",
        "\n",
        "                        # saving the new model checkpoint\n",
        "                        checkpoint_name = f\"checkpoint_step_{global_step}\"\n",
        "                        checkpoint_path = os.path.join(checkpoint_dir, checkpoint_name)\n",
        "                        os.makedirs(checkpoint_path, exist_ok=True)  # creating directory if it doesn't exist\n",
        "\n",
        "\n",
        "                        # saving the new model checkpoint\n",
        "                        model.module.save_pretrained(checkpoint_path)\n",
        "                        tokenizer.save_pretrained(checkpoint_path)\n",
        "\n",
        "\n",
        "\n",
        "                        # updating the best checkpoint step for folder name\n",
        "                        global best_checkpoint_step\n",
        "                        best_checkpoint_step = global_step\n",
        "\n",
        "                        # TODO: doesn't work properly - only deletes a few iterations ago, not the previous one\n",
        "                        if best_checkpoint_step is not None:\n",
        "                            for filename in os.listdir(checkpoint_dir):\n",
        "                                if filename.startswith(f\"checkpoint_step_\") and filename != f\"checkpoint_step_{best_checkpoint_step}.pt\":\n",
        "                                    try:\n",
        "                                        step_number = int(filename.split(\"_\")[-1])\n",
        "                                        if step_number < (best_checkpoint_step - 200):\n",
        "                                            previous_checkpoint_path = os.path.join(checkpoint_dir, filename)\n",
        "                                            if os.path.isdir(previous_checkpoint_path):\n",
        "                                                import shutil\n",
        "                                                shutil.rmtree(previous_checkpoint_path)\n",
        "                                    except ValueError:\n",
        "                                        continue\n",
        "        torch.cuda.synchronize()\n",
        "        epoch_end_time = time.time()\n",
        "        epoch_duration = epoch_end_time - epoch_start_time\n",
        "        if master_process:\n",
        "            print(f\"Epoch {epoch+1} completed in {epoch_duration:.2f} seconds\")\n",
        "\n",
        "    return train_losses\n"
      ],
      "metadata": {
        "execution": {
          "iopub.status.busy": "2024-11-02T05:45:34.113154Z",
          "iopub.execute_input": "2024-11-02T05:45:34.113584Z",
          "iopub.status.idle": "2024-11-02T05:45:34.134154Z",
          "shell.execute_reply.started": "2024-11-02T05:45:34.113545Z",
          "shell.execute_reply": "2024-11-02T05:45:34.133179Z"
        },
        "trusted": true,
        "id": "o9feO5TceheD"
      },
      "execution_count": null,
      "outputs": []
    },
    {
      "cell_type": "code",
      "source": [
        "# evaluation loop\n",
        "def evaluate(model, val_dataloader, device, tokenizer, bleu_metric, max_batches=None, stage=\"val\"):\n",
        "    model.eval()\n",
        "    val_losses = []\n",
        "    bleus = []\n",
        "    num_evaluated_batches = 0\n",
        "\n",
        "    with torch.no_grad():\n",
        "        effective_batch_size = Config.batch_size_val * ddp_world_size\n",
        "        max_steps = len(val_dataset) // effective_batch_size # max over the whole eval, but we use only 20 batches (steps)\n",
        "\n",
        "        if max_batches is None:\n",
        "            eval_iterator = tqdm(val_dataloader, desc=f\"Evaluation\", disable=ddp_local_rank != 0)\n",
        "        else:\n",
        "            eval_iterator = tqdm(val_dataloader, desc=f\"Evaluation\", total=max_batches, disable=ddp_local_rank != 0)\n",
        "\n",
        "        for batch_idx, batch in enumerate(eval_iterator):\n",
        "            if max_batches is not None and num_evaluated_batches >= max_batches:\n",
        "                break\n",
        "\n",
        "            pixel_values = batch['pixel_values'].to(device)\n",
        "            labels = batch['labels'].to(device)\n",
        "\n",
        "            # forward pass\n",
        "            outputs = model(pixel_values=pixel_values, labels=labels)\n",
        "            loss = outputs.loss\n",
        "            step_loss_tensor = loss.clone().detach().to(device)\n",
        "            dist.all_reduce(step_loss_tensor, op=dist.ReduceOp.AVG)\n",
        "            val_losses.append(step_loss_tensor.item())\n",
        "\n",
        "            # generating predictions\n",
        "            if stage == 'final':\n",
        "                generated_ids = model.generate(pixel_values, num_beams=4, max_length=256, early_stopping=True)\n",
        "            else:\n",
        "                generated_ids = model.module.generate(pixel_values, num_beams=4, max_length=256, early_stopping=True)\n",
        "            generated_texts = tokenizer.batch_decode(generated_ids, skip_special_tokens=True)\n",
        "            label_texts = tokenizer.batch_decode(labels, skip_special_tokens=True)\n",
        "\n",
        "            # computing BLEU scores\n",
        "            bleu = bleu_metric.compute(predictions=generated_texts, references=label_texts)\n",
        "            bleu = bleu['google_bleu']\n",
        "            bleu_tensor = torch.tensor(bleu, device=device)\n",
        "            dist.all_reduce(bleu_tensor, op=dist.ReduceOp.AVG)\n",
        "            bleus.append(bleu_tensor.item())\n",
        "\n",
        "            num_evaluated_batches += 1\n",
        "\n",
        "    avg_val_loss = np.mean(val_losses)\n",
        "    avg_bleu = np.mean(bleus)\n",
        "\n",
        "    return avg_val_loss, avg_bleu\n"
      ],
      "metadata": {
        "execution": {
          "iopub.status.busy": "2024-11-02T05:45:41.200013Z",
          "iopub.execute_input": "2024-11-02T05:45:41.20041Z",
          "iopub.status.idle": "2024-11-02T05:45:41.212779Z",
          "shell.execute_reply.started": "2024-11-02T05:45:41.200371Z",
          "shell.execute_reply": "2024-11-02T05:45:41.211782Z"
        },
        "trusted": true,
        "id": "B83wOrfdeheE"
      },
      "execution_count": null,
      "outputs": []
    },
    {
      "cell_type": "code",
      "source": [
        "# starting LoRA fine-tuning\n",
        "train_losses = train_lora(model, train_dataloader, optimizer, scheduler, device, num_epochs, eval_steps, val_dataloader, tokenizer, bleu_metric, local_rank=ddp_local_rank)"
      ],
      "metadata": {
        "execution": {
          "iopub.status.busy": "2024-11-02T06:00:31.411521Z",
          "iopub.execute_input": "2024-11-02T06:00:31.412549Z",
          "iopub.status.idle": "2024-11-02T06:00:31.824171Z",
          "shell.execute_reply.started": "2024-11-02T06:00:31.412488Z",
          "shell.execute_reply": "2024-11-02T06:00:31.822644Z"
        },
        "trusted": true,
        "id": "UCtQ1z_JeheV",
        "colab": {
          "base_uri": "https://localhost:8080/"
        },
        "outputId": "0f9d4535-39f4-415e-9f1a-b8b9559c4410"
      },
      "execution_count": null,
      "outputs": [
        {
          "output_type": "stream",
          "name": "stderr",
          "text": [
            "Epoch 1/40:  52%|█████▏    | 39/75 [00:21<00:20,  1.72it/s]"
          ]
        },
        {
          "output_type": "stream",
          "name": "stdout",
          "text": [
            " \n",
            "-----------------------------------------------------------\n",
            "Step 40 - Average Training Loss: 3.537462717294693\n",
            "-----------------------------------------------------------\n"
          ]
        },
        {
          "output_type": "stream",
          "name": "stderr",
          "text": [
            "\n",
            "Evaluation:   0%|          | 0/4 [00:00<?, ?it/s]\u001b[A\n",
            "Evaluation:  25%|██▌       | 1/4 [00:21<01:03, 21.33s/it]\u001b[A\n",
            "Evaluation:  50%|█████     | 2/4 [00:43<00:43, 21.56s/it]\u001b[A\n",
            "Evaluation:  75%|███████▌  | 3/4 [01:04<00:21, 21.58s/it]\u001b[A\n",
            "Evaluation: 100%|██████████| 4/4 [01:26<00:00, 21.53s/it]\n"
          ]
        },
        {
          "output_type": "stream",
          "name": "stdout",
          "text": [
            "-----------------------------------------------------------\n",
            "Validation Loss after 40 steps: 3.5521541833877563\n",
            "Validation BLEU Score after 40 steps: 0.030361404176801443\n",
            "-----------------------------------------------------------\n"
          ]
        },
        {
          "output_type": "stream",
          "name": "stderr",
          "text": [
            "Epoch 1/40: 100%|██████████| 75/75 [02:07<00:00,  1.70s/it]\n"
          ]
        },
        {
          "output_type": "stream",
          "name": "stdout",
          "text": [
            "Epoch 1 completed in 127.78 seconds\n"
          ]
        },
        {
          "output_type": "stream",
          "name": "stderr",
          "text": [
            "Epoch 2/40:   5%|▌         | 4/75 [00:02<00:38,  1.85it/s]"
          ]
        },
        {
          "output_type": "stream",
          "name": "stdout",
          "text": [
            " \n",
            "-----------------------------------------------------------\n",
            "Step 80 - Average Training Loss: 3.0344635486602782\n",
            "-----------------------------------------------------------\n"
          ]
        },
        {
          "output_type": "stream",
          "name": "stderr",
          "text": [
            "\n",
            "Evaluation:   0%|          | 0/4 [00:00<?, ?it/s]\u001b[A\n",
            "Evaluation:  25%|██▌       | 1/4 [00:21<01:03, 21.20s/it]\u001b[A\n",
            "Evaluation:  50%|█████     | 2/4 [00:38<00:38, 19.03s/it]\u001b[A\n",
            "Evaluation:  75%|███████▌  | 3/4 [00:57<00:18, 18.77s/it]\u001b[A\n",
            "Evaluation: 100%|██████████| 4/4 [01:11<00:00, 17.77s/it]\n"
          ]
        },
        {
          "output_type": "stream",
          "name": "stdout",
          "text": [
            "-----------------------------------------------------------\n",
            "Validation Loss after 80 steps: 2.453490734100342\n",
            "Validation BLEU Score after 80 steps: 0.03892814368009567\n",
            "-----------------------------------------------------------\n"
          ]
        },
        {
          "output_type": "stream",
          "name": "stderr",
          "text": [
            "Epoch 2/40:  59%|█████▊    | 44/75 [01:35<00:19,  1.61it/s]"
          ]
        },
        {
          "output_type": "stream",
          "name": "stdout",
          "text": [
            " \n",
            "-----------------------------------------------------------\n",
            "Step 120 - Average Training Loss: 1.9057965219020843\n",
            "-----------------------------------------------------------\n"
          ]
        },
        {
          "output_type": "stream",
          "name": "stderr",
          "text": [
            "\n",
            "Evaluation:   0%|          | 0/4 [00:00<?, ?it/s]\u001b[A\n",
            "Evaluation:  25%|██▌       | 1/4 [00:08<00:24,  8.05s/it]\u001b[A\n",
            "Evaluation:  50%|█████     | 2/4 [00:18<00:19,  9.65s/it]\u001b[A\n",
            "Evaluation:  75%|███████▌  | 3/4 [00:28<00:09,  9.60s/it]\u001b[A\n",
            "Evaluation: 100%|██████████| 4/4 [00:43<00:00, 10.83s/it]\n"
          ]
        },
        {
          "output_type": "stream",
          "name": "stdout",
          "text": [
            "-----------------------------------------------------------\n",
            "Validation Loss after 120 steps: 1.3411747813224792\n",
            "Validation BLEU Score after 120 steps: 0.07851944863796234\n",
            "-----------------------------------------------------------\n"
          ]
        },
        {
          "output_type": "stream",
          "name": "stderr",
          "text": [
            "Epoch 2/40: 100%|██████████| 75/75 [02:35<00:00,  2.08s/it]\n"
          ]
        },
        {
          "output_type": "stream",
          "name": "stdout",
          "text": [
            "Epoch 2 completed in 155.71 seconds\n"
          ]
        },
        {
          "output_type": "stream",
          "name": "stderr",
          "text": [
            "Epoch 3/40:  12%|█▏        | 9/75 [00:04<00:36,  1.81it/s]"
          ]
        },
        {
          "output_type": "stream",
          "name": "stdout",
          "text": [
            " \n",
            "-----------------------------------------------------------\n",
            "Step 160 - Average Training Loss: 1.219870774447918\n",
            "-----------------------------------------------------------\n"
          ]
        },
        {
          "output_type": "stream",
          "name": "stderr",
          "text": [
            "\n",
            "Evaluation:   0%|          | 0/4 [00:00<?, ?it/s]\u001b[A\n",
            "Evaluation:  25%|██▌       | 1/4 [00:03<00:11,  3.85s/it]\u001b[A\n",
            "Evaluation:  50%|█████     | 2/4 [00:10<00:10,  5.34s/it]\u001b[A\n",
            "Evaluation:  75%|███████▌  | 3/4 [00:14<00:04,  4.90s/it]\u001b[A\n",
            "Evaluation: 100%|██████████| 4/4 [00:20<00:00,  5.01s/it]\n"
          ]
        },
        {
          "output_type": "stream",
          "name": "stdout",
          "text": [
            "-----------------------------------------------------------\n",
            "Validation Loss after 160 steps: 0.8588972240686417\n",
            "Validation BLEU Score after 160 steps: 0.19237977266311646\n",
            "-----------------------------------------------------------\n"
          ]
        },
        {
          "output_type": "stream",
          "name": "stderr",
          "text": [
            "Epoch 3/40:  65%|██████▌   | 49/75 [00:46<00:13,  1.92it/s]"
          ]
        },
        {
          "output_type": "stream",
          "name": "stdout",
          "text": [
            " \n",
            "-----------------------------------------------------------\n",
            "Step 200 - Average Training Loss: 0.8662316620349884\n",
            "-----------------------------------------------------------\n"
          ]
        },
        {
          "output_type": "stream",
          "name": "stderr",
          "text": [
            "\n",
            "Evaluation:   0%|          | 0/4 [00:00<?, ?it/s]\u001b[A\n",
            "Evaluation:  25%|██▌       | 1/4 [00:03<00:09,  3.11s/it]\u001b[A\n",
            "Evaluation:  50%|█████     | 2/4 [00:06<00:06,  3.43s/it]\u001b[A\n",
            "Evaluation:  75%|███████▌  | 3/4 [00:10<00:03,  3.49s/it]\u001b[A\n",
            "Evaluation: 100%|██████████| 4/4 [00:14<00:00,  3.56s/it]\n"
          ]
        },
        {
          "output_type": "stream",
          "name": "stdout",
          "text": [
            "-----------------------------------------------------------\n",
            "Validation Loss after 200 steps: 0.6104570478200912\n",
            "Validation BLEU Score after 200 steps: 0.23772357031702995\n",
            "-----------------------------------------------------------\n"
          ]
        },
        {
          "output_type": "stream",
          "name": "stderr",
          "text": [
            "Epoch 3/40: 100%|██████████| 75/75 [01:14<00:00,  1.01it/s]\n"
          ]
        },
        {
          "output_type": "stream",
          "name": "stdout",
          "text": [
            "Epoch 3 completed in 74.21 seconds\n"
          ]
        },
        {
          "output_type": "stream",
          "name": "stderr",
          "text": [
            "Epoch 4/40:  19%|█▊        | 14/75 [00:07<00:29,  2.08it/s]"
          ]
        },
        {
          "output_type": "stream",
          "name": "stdout",
          "text": [
            " \n",
            "-----------------------------------------------------------\n",
            "Step 240 - Average Training Loss: 0.6617012947797776\n",
            "-----------------------------------------------------------\n"
          ]
        },
        {
          "output_type": "stream",
          "name": "stderr",
          "text": [
            "\n",
            "Evaluation:   0%|          | 0/4 [00:00<?, ?it/s]\u001b[A\n",
            "Evaluation:  25%|██▌       | 1/4 [00:03<00:09,  3.15s/it]\u001b[A\n",
            "Evaluation:  50%|█████     | 2/4 [00:06<00:06,  3.34s/it]\u001b[A\n",
            "Evaluation:  75%|███████▌  | 3/4 [00:10<00:03,  3.39s/it]\u001b[A\n",
            "Evaluation: 100%|██████████| 4/4 [00:13<00:00,  3.37s/it]\n"
          ]
        },
        {
          "output_type": "stream",
          "name": "stdout",
          "text": [
            "-----------------------------------------------------------\n",
            "Validation Loss after 240 steps: 0.4295429587364197\n",
            "Validation BLEU Score after 240 steps: 0.28185172006487846\n",
            "-----------------------------------------------------------\n"
          ]
        },
        {
          "output_type": "stream",
          "name": "stderr",
          "text": [
            "Epoch 4/40:  72%|███████▏  | 54/75 [00:42<00:11,  1.82it/s]"
          ]
        },
        {
          "output_type": "stream",
          "name": "stdout",
          "text": [
            " \n",
            "-----------------------------------------------------------\n",
            "Step 280 - Average Training Loss: 0.4827498570084572\n",
            "-----------------------------------------------------------\n"
          ]
        },
        {
          "output_type": "stream",
          "name": "stderr",
          "text": [
            "\n",
            "Evaluation:   0%|          | 0/4 [00:00<?, ?it/s]\u001b[A\n",
            "Evaluation:  25%|██▌       | 1/4 [00:03<00:09,  3.04s/it]\u001b[A\n",
            "Evaluation:  50%|█████     | 2/4 [00:06<00:06,  3.12s/it]\u001b[A\n",
            "Evaluation:  75%|███████▌  | 3/4 [00:10<00:03,  3.47s/it]\u001b[A\n",
            "Evaluation: 100%|██████████| 4/4 [00:13<00:00,  3.38s/it]\n"
          ]
        },
        {
          "output_type": "stream",
          "name": "stdout",
          "text": [
            "-----------------------------------------------------------\n",
            "Validation Loss after 280 steps: 0.2871984429657459\n",
            "Validation BLEU Score after 280 steps: 0.38228563964366913\n",
            "-----------------------------------------------------------\n"
          ]
        },
        {
          "output_type": "stream",
          "name": "stderr",
          "text": [
            "Epoch 4/40: 100%|██████████| 75/75 [01:07<00:00,  1.11it/s]\n"
          ]
        },
        {
          "output_type": "stream",
          "name": "stdout",
          "text": [
            "Epoch 4 completed in 67.40 seconds\n"
          ]
        },
        {
          "output_type": "stream",
          "name": "stderr",
          "text": [
            "Epoch 5/40:  25%|██▌       | 19/75 [00:09<00:28,  1.99it/s]"
          ]
        },
        {
          "output_type": "stream",
          "name": "stdout",
          "text": [
            " \n",
            "-----------------------------------------------------------\n",
            "Step 320 - Average Training Loss: 0.3512137919664383\n",
            "-----------------------------------------------------------\n"
          ]
        },
        {
          "output_type": "stream",
          "name": "stderr",
          "text": [
            "\n",
            "Evaluation:   0%|          | 0/4 [00:00<?, ?it/s]\u001b[A\n",
            "Evaluation:  25%|██▌       | 1/4 [00:03<00:10,  3.52s/it]\u001b[A\n",
            "Evaluation:  50%|█████     | 2/4 [00:06<00:06,  3.40s/it]\u001b[A\n",
            "Evaluation:  75%|███████▌  | 3/4 [00:10<00:03,  3.39s/it]\u001b[A\n",
            "Evaluation: 100%|██████████| 4/4 [00:13<00:00,  3.33s/it]\n"
          ]
        },
        {
          "output_type": "stream",
          "name": "stdout",
          "text": [
            "-----------------------------------------------------------\n",
            "Validation Loss after 320 steps: 0.18745526671409607\n",
            "Validation BLEU Score after 320 steps: 0.4226250573992729\n",
            "-----------------------------------------------------------\n"
          ]
        },
        {
          "output_type": "stream",
          "name": "stderr",
          "text": [
            "Epoch 5/40:  79%|███████▊  | 59/75 [00:44<00:08,  1.95it/s]"
          ]
        },
        {
          "output_type": "stream",
          "name": "stdout",
          "text": [
            " \n",
            "-----------------------------------------------------------\n",
            "Step 360 - Average Training Loss: 0.24869131539016961\n",
            "-----------------------------------------------------------\n"
          ]
        },
        {
          "output_type": "stream",
          "name": "stderr",
          "text": [
            "\n",
            "Evaluation:   0%|          | 0/4 [00:00<?, ?it/s]\u001b[A\n",
            "Evaluation:  25%|██▌       | 1/4 [00:03<00:09,  3.08s/it]\u001b[A\n",
            "Evaluation:  50%|█████     | 2/4 [00:07<00:07,  3.66s/it]\u001b[A\n",
            "Evaluation:  75%|███████▌  | 3/4 [00:10<00:03,  3.61s/it]\u001b[A\n",
            "Evaluation: 100%|██████████| 4/4 [00:13<00:00,  3.44s/it]\n"
          ]
        },
        {
          "output_type": "stream",
          "name": "stdout",
          "text": [
            "-----------------------------------------------------------\n",
            "Validation Loss after 360 steps: 0.12336787767708302\n",
            "Validation BLEU Score after 360 steps: 0.5204018950462341\n",
            "-----------------------------------------------------------\n"
          ]
        },
        {
          "output_type": "stream",
          "name": "stderr",
          "text": [
            "Epoch 5/40: 100%|██████████| 75/75 [01:07<00:00,  1.11it/s]\n"
          ]
        },
        {
          "output_type": "stream",
          "name": "stdout",
          "text": [
            "Epoch 5 completed in 67.60 seconds\n"
          ]
        },
        {
          "output_type": "stream",
          "name": "stderr",
          "text": [
            "Epoch 6/40:  32%|███▏      | 24/75 [00:12<00:26,  1.93it/s]"
          ]
        },
        {
          "output_type": "stream",
          "name": "stdout",
          "text": [
            " \n",
            "-----------------------------------------------------------\n",
            "Step 400 - Average Training Loss: 0.20176313668489457\n",
            "-----------------------------------------------------------\n"
          ]
        },
        {
          "output_type": "stream",
          "name": "stderr",
          "text": [
            "\n",
            "Evaluation:   0%|          | 0/4 [00:00<?, ?it/s]\u001b[A\n",
            "Evaluation:  25%|██▌       | 1/4 [00:03<00:09,  3.01s/it]\u001b[A\n",
            "Evaluation:  50%|█████     | 2/4 [00:06<00:06,  3.20s/it]\u001b[A\n",
            "Evaluation:  75%|███████▌  | 3/4 [00:09<00:02,  2.96s/it]\u001b[A\n",
            "Evaluation: 100%|██████████| 4/4 [00:12<00:00,  3.13s/it]\n"
          ]
        },
        {
          "output_type": "stream",
          "name": "stdout",
          "text": [
            "-----------------------------------------------------------\n",
            "Validation Loss after 400 steps: 0.1065589152276516\n",
            "Validation BLEU Score after 400 steps: 0.549423098564148\n",
            "-----------------------------------------------------------\n"
          ]
        },
        {
          "output_type": "stream",
          "name": "stderr",
          "text": [
            "Epoch 6/40:  85%|████████▌ | 64/75 [00:46<00:05,  1.94it/s]"
          ]
        },
        {
          "output_type": "stream",
          "name": "stdout",
          "text": [
            " \n",
            "-----------------------------------------------------------\n",
            "Step 440 - Average Training Loss: 0.16123769721016287\n",
            "-----------------------------------------------------------\n"
          ]
        },
        {
          "output_type": "stream",
          "name": "stderr",
          "text": [
            "\n",
            "Evaluation:   0%|          | 0/4 [00:00<?, ?it/s]\u001b[A\n",
            "Evaluation:  25%|██▌       | 1/4 [00:03<00:11,  3.77s/it]\u001b[A\n",
            "Evaluation:  50%|█████     | 2/4 [00:07<00:06,  3.47s/it]\u001b[A\n",
            "Evaluation:  75%|███████▌  | 3/4 [00:10<00:03,  3.43s/it]\u001b[A\n",
            "Evaluation: 100%|██████████| 4/4 [00:13<00:00,  3.41s/it]\n"
          ]
        },
        {
          "output_type": "stream",
          "name": "stdout",
          "text": [
            "-----------------------------------------------------------\n",
            "Validation Loss after 440 steps: 0.07916263397783041\n",
            "Validation BLEU Score after 440 steps: 0.5406180396676064\n",
            "-----------------------------------------------------------\n"
          ]
        },
        {
          "output_type": "stream",
          "name": "stderr",
          "text": [
            "Epoch 6/40: 100%|██████████| 75/75 [01:06<00:00,  1.13it/s]\n"
          ]
        },
        {
          "output_type": "stream",
          "name": "stdout",
          "text": [
            "Epoch 6 completed in 66.30 seconds\n"
          ]
        },
        {
          "output_type": "stream",
          "name": "stderr",
          "text": [
            "Epoch 7/40:  39%|███▊      | 29/75 [00:15<00:23,  1.95it/s]"
          ]
        },
        {
          "output_type": "stream",
          "name": "stdout",
          "text": [
            " \n",
            "-----------------------------------------------------------\n",
            "Step 480 - Average Training Loss: 0.1351833580993116\n",
            "-----------------------------------------------------------\n"
          ]
        },
        {
          "output_type": "stream",
          "name": "stderr",
          "text": [
            "\n",
            "Evaluation:   0%|          | 0/4 [00:00<?, ?it/s]\u001b[A\n",
            "Evaluation:  25%|██▌       | 1/4 [00:02<00:08,  2.96s/it]\u001b[A\n",
            "Evaluation:  50%|█████     | 2/4 [00:06<00:06,  3.16s/it]\u001b[A\n",
            "Evaluation:  75%|███████▌  | 3/4 [00:08<00:02,  2.94s/it]\u001b[A\n",
            "Evaluation: 100%|██████████| 4/4 [00:11<00:00,  2.95s/it]\n",
            "Epoch 7/40:  40%|████      | 30/75 [00:27<03:03,  4.08s/it]"
          ]
        },
        {
          "output_type": "stream",
          "name": "stdout",
          "text": [
            "-----------------------------------------------------------\n",
            "Validation Loss after 480 steps: 0.08132067508995533\n",
            "Validation BLEU Score after 480 steps: 0.5630830451846123\n",
            "-----------------------------------------------------------\n"
          ]
        },
        {
          "output_type": "stream",
          "name": "stderr",
          "text": [
            "Epoch 7/40:  92%|█████████▏| 69/75 [00:48<00:03,  1.82it/s]"
          ]
        },
        {
          "output_type": "stream",
          "name": "stdout",
          "text": [
            " \n",
            "-----------------------------------------------------------\n",
            "Step 520 - Average Training Loss: 0.12460670042783022\n",
            "-----------------------------------------------------------\n"
          ]
        },
        {
          "output_type": "stream",
          "name": "stderr",
          "text": [
            "\n",
            "Evaluation:   0%|          | 0/4 [00:00<?, ?it/s]\u001b[A\n",
            "Evaluation:  25%|██▌       | 1/4 [00:03<00:10,  3.38s/it]\u001b[A\n",
            "Evaluation:  50%|█████     | 2/4 [00:06<00:06,  3.11s/it]\u001b[A\n",
            "Evaluation:  75%|███████▌  | 3/4 [00:09<00:03,  3.33s/it]\u001b[A\n",
            "Evaluation: 100%|██████████| 4/4 [00:14<00:00,  3.55s/it]\n"
          ]
        },
        {
          "output_type": "stream",
          "name": "stdout",
          "text": [
            "-----------------------------------------------------------\n",
            "Validation Loss after 520 steps: 0.061916747596114874\n",
            "Validation BLEU Score after 520 steps: 0.5790913999080658\n",
            "-----------------------------------------------------------\n"
          ]
        },
        {
          "output_type": "stream",
          "name": "stderr",
          "text": [
            "Epoch 7/40: 100%|██████████| 75/75 [01:05<00:00,  1.14it/s]\n"
          ]
        },
        {
          "output_type": "stream",
          "name": "stdout",
          "text": [
            "Epoch 7 completed in 65.79 seconds\n"
          ]
        },
        {
          "output_type": "stream",
          "name": "stderr",
          "text": [
            "Epoch 8/40:  45%|████▌     | 34/75 [00:17<00:21,  1.87it/s]"
          ]
        },
        {
          "output_type": "stream",
          "name": "stdout",
          "text": [
            " \n",
            "-----------------------------------------------------------\n",
            "Step 560 - Average Training Loss: 0.10685766842216253\n",
            "-----------------------------------------------------------\n"
          ]
        },
        {
          "output_type": "stream",
          "name": "stderr",
          "text": [
            "\n",
            "Evaluation:   0%|          | 0/4 [00:00<?, ?it/s]\u001b[A\n",
            "Evaluation:  25%|██▌       | 1/4 [00:03<00:09,  3.23s/it]\u001b[A\n",
            "Evaluation:  50%|█████     | 2/4 [00:06<00:06,  3.00s/it]\u001b[A\n",
            "Evaluation:  75%|███████▌  | 3/4 [00:08<00:02,  2.90s/it]\u001b[A\n",
            "Evaluation: 100%|██████████| 4/4 [00:11<00:00,  2.91s/it]\n",
            "Epoch 8/40:  47%|████▋     | 35/75 [00:29<02:41,  4.03s/it]"
          ]
        },
        {
          "output_type": "stream",
          "name": "stdout",
          "text": [
            "-----------------------------------------------------------\n",
            "Validation Loss after 560 steps: 0.06498855631798506\n",
            "Validation BLEU Score after 560 steps: 0.5603998452425003\n",
            "-----------------------------------------------------------\n"
          ]
        },
        {
          "output_type": "stream",
          "name": "stderr",
          "text": [
            "Epoch 8/40:  99%|█████████▊| 74/75 [00:50<00:00,  1.91it/s]"
          ]
        },
        {
          "output_type": "stream",
          "name": "stdout",
          "text": [
            " \n",
            "-----------------------------------------------------------\n",
            "Step 600 - Average Training Loss: 0.10049350652843714\n",
            "-----------------------------------------------------------\n"
          ]
        },
        {
          "output_type": "stream",
          "name": "stderr",
          "text": [
            "\n",
            "Evaluation:   0%|          | 0/4 [00:00<?, ?it/s]\u001b[A\n",
            "Evaluation:  25%|██▌       | 1/4 [00:03<00:11,  3.74s/it]\u001b[A\n",
            "Evaluation:  50%|█████     | 2/4 [00:07<00:07,  3.76s/it]\u001b[A\n",
            "Evaluation:  75%|███████▌  | 3/4 [00:11<00:04,  4.00s/it]\u001b[A\n",
            "Evaluation: 100%|██████████| 4/4 [00:15<00:00,  3.80s/it]\n",
            "Epoch 8/40: 100%|██████████| 75/75 [01:06<00:00,  1.13it/s]\n"
          ]
        },
        {
          "output_type": "stream",
          "name": "stdout",
          "text": [
            "-----------------------------------------------------------\n",
            "Validation Loss after 600 steps: 0.06330082286149263\n",
            "Validation BLEU Score after 600 steps: 0.5814599171280861\n",
            "-----------------------------------------------------------\n",
            "Epoch 8 completed in 66.24 seconds\n"
          ]
        },
        {
          "output_type": "stream",
          "name": "stderr",
          "text": [
            "Epoch 9/40:  52%|█████▏    | 39/75 [00:20<00:19,  1.82it/s]"
          ]
        },
        {
          "output_type": "stream",
          "name": "stdout",
          "text": [
            " \n",
            "-----------------------------------------------------------\n",
            "Step 640 - Average Training Loss: 0.08166046417318285\n",
            "-----------------------------------------------------------\n"
          ]
        },
        {
          "output_type": "stream",
          "name": "stderr",
          "text": [
            "\n",
            "Evaluation:   0%|          | 0/4 [00:00<?, ?it/s]\u001b[A\n",
            "Evaluation:  25%|██▌       | 1/4 [00:03<00:09,  3.23s/it]\u001b[A\n",
            "Evaluation:  50%|█████     | 2/4 [00:06<00:05,  2.96s/it]\u001b[A\n",
            "Evaluation:  75%|███████▌  | 3/4 [00:08<00:02,  2.82s/it]\u001b[A\n",
            "Evaluation: 100%|██████████| 4/4 [00:11<00:00,  2.97s/it]\n"
          ]
        },
        {
          "output_type": "stream",
          "name": "stdout",
          "text": [
            "-----------------------------------------------------------\n",
            "Validation Loss after 640 steps: 0.051749966107308865\n",
            "Validation BLEU Score after 640 steps: 0.5804573744535446\n",
            "-----------------------------------------------------------\n"
          ]
        },
        {
          "output_type": "stream",
          "name": "stderr",
          "text": [
            "Epoch 9/40: 100%|██████████| 75/75 [00:51<00:00,  1.45it/s]\n"
          ]
        },
        {
          "output_type": "stream",
          "name": "stdout",
          "text": [
            "Epoch 9 completed in 51.87 seconds\n"
          ]
        },
        {
          "output_type": "stream",
          "name": "stderr",
          "text": [
            "Epoch 10/40:   5%|▌         | 4/75 [00:02<00:38,  1.86it/s]"
          ]
        },
        {
          "output_type": "stream",
          "name": "stdout",
          "text": [
            " \n",
            "-----------------------------------------------------------\n",
            "Step 680 - Average Training Loss: 0.08358371979556978\n",
            "-----------------------------------------------------------\n"
          ]
        },
        {
          "output_type": "stream",
          "name": "stderr",
          "text": [
            "\n",
            "Evaluation:   0%|          | 0/4 [00:00<?, ?it/s]\u001b[A\n",
            "Evaluation:  25%|██▌       | 1/4 [00:03<00:11,  3.95s/it]\u001b[A\n",
            "Evaluation:  50%|█████     | 2/4 [00:06<00:06,  3.42s/it]\u001b[A\n",
            "Evaluation:  75%|███████▌  | 3/4 [00:10<00:03,  3.59s/it]\u001b[A\n",
            "Evaluation: 100%|██████████| 4/4 [00:14<00:00,  3.52s/it]\n"
          ]
        },
        {
          "output_type": "stream",
          "name": "stdout",
          "text": [
            "-----------------------------------------------------------\n",
            "Validation Loss after 680 steps: 0.04866543272510171\n",
            "Validation BLEU Score after 680 steps: 0.6008409783244133\n",
            "-----------------------------------------------------------\n"
          ]
        },
        {
          "output_type": "stream",
          "name": "stderr",
          "text": [
            "Epoch 10/40:  59%|█████▊    | 44/75 [00:37<00:19,  1.61it/s]"
          ]
        },
        {
          "output_type": "stream",
          "name": "stdout",
          "text": [
            " \n",
            "-----------------------------------------------------------\n",
            "Step 720 - Average Training Loss: 0.06461297520436346\n",
            "-----------------------------------------------------------\n"
          ]
        },
        {
          "output_type": "stream",
          "name": "stderr",
          "text": [
            "\n",
            "Evaluation:   0%|          | 0/4 [00:00<?, ?it/s]\u001b[A\n",
            "Evaluation:  25%|██▌       | 1/4 [00:03<00:09,  3.02s/it]\u001b[A\n",
            "Evaluation:  50%|█████     | 2/4 [00:06<00:06,  3.29s/it]\u001b[A\n",
            "Evaluation:  75%|███████▌  | 3/4 [00:10<00:03,  3.46s/it]\u001b[A\n",
            "Evaluation: 100%|██████████| 4/4 [00:13<00:00,  3.45s/it]\n"
          ]
        },
        {
          "output_type": "stream",
          "name": "stdout",
          "text": [
            "-----------------------------------------------------------\n",
            "Validation Loss after 720 steps: 0.03773308964446187\n",
            "Validation BLEU Score after 720 steps: 0.648929588496685\n",
            "-----------------------------------------------------------\n"
          ]
        },
        {
          "output_type": "stream",
          "name": "stderr",
          "text": [
            "Epoch 10/40: 100%|██████████| 75/75 [01:08<00:00,  1.10it/s]\n"
          ]
        },
        {
          "output_type": "stream",
          "name": "stdout",
          "text": [
            "Epoch 10 completed in 68.01 seconds\n"
          ]
        },
        {
          "output_type": "stream",
          "name": "stderr",
          "text": [
            "Epoch 11/40:  12%|█▏        | 9/75 [00:05<00:38,  1.70it/s]"
          ]
        },
        {
          "output_type": "stream",
          "name": "stdout",
          "text": [
            " \n",
            "-----------------------------------------------------------\n",
            "Step 760 - Average Training Loss: 0.05942751537077129\n",
            "-----------------------------------------------------------\n"
          ]
        },
        {
          "output_type": "stream",
          "name": "stderr",
          "text": [
            "\n",
            "Evaluation:   0%|          | 0/4 [00:00<?, ?it/s]\u001b[A\n",
            "Evaluation:  25%|██▌       | 1/4 [00:03<00:09,  3.28s/it]\u001b[A\n",
            "Evaluation:  50%|█████     | 2/4 [00:07<00:07,  3.54s/it]\u001b[A\n",
            "Evaluation:  75%|███████▌  | 3/4 [00:10<00:03,  3.60s/it]\u001b[A\n",
            "Evaluation: 100%|██████████| 4/4 [00:14<00:00,  3.64s/it]\n",
            "Epoch 11/40:  13%|█▎        | 10/75 [00:20<05:28,  5.05s/it]"
          ]
        },
        {
          "output_type": "stream",
          "name": "stdout",
          "text": [
            "-----------------------------------------------------------\n",
            "Validation Loss after 760 steps: 0.042106125969439745\n",
            "Validation BLEU Score after 760 steps: 0.6166206747293472\n",
            "-----------------------------------------------------------\n"
          ]
        },
        {
          "output_type": "stream",
          "name": "stderr",
          "text": [
            "Epoch 11/40:  65%|██████▌   | 49/75 [00:40<00:13,  1.89it/s]"
          ]
        },
        {
          "output_type": "stream",
          "name": "stdout",
          "text": [
            " \n",
            "-----------------------------------------------------------\n",
            "Step 800 - Average Training Loss: 0.05049360864795745\n",
            "-----------------------------------------------------------\n"
          ]
        },
        {
          "output_type": "stream",
          "name": "stderr",
          "text": [
            "\n",
            "Evaluation:   0%|          | 0/4 [00:00<?, ?it/s]\u001b[A\n",
            "Evaluation:  25%|██▌       | 1/4 [00:03<00:09,  3.32s/it]\u001b[A\n",
            "Evaluation:  50%|█████     | 2/4 [00:07<00:07,  3.68s/it]\u001b[A\n",
            "Evaluation:  75%|███████▌  | 3/4 [00:10<00:03,  3.71s/it]\u001b[A\n",
            "Evaluation: 100%|██████████| 4/4 [00:14<00:00,  3.75s/it]\n",
            "Epoch 11/40:  67%|██████▋   | 50/75 [00:56<02:05,  5.04s/it]"
          ]
        },
        {
          "output_type": "stream",
          "name": "stdout",
          "text": [
            "-----------------------------------------------------------\n",
            "Validation Loss after 800 steps: 0.0377963213250041\n",
            "Validation BLEU Score after 800 steps: 0.6225960999727249\n",
            "-----------------------------------------------------------\n"
          ]
        },
        {
          "output_type": "stream",
          "name": "stderr",
          "text": [
            "Epoch 11/40: 100%|██████████| 75/75 [01:09<00:00,  1.08it/s]\n"
          ]
        },
        {
          "output_type": "stream",
          "name": "stdout",
          "text": [
            "Epoch 11 completed in 69.25 seconds\n"
          ]
        },
        {
          "output_type": "stream",
          "name": "stderr",
          "text": [
            "Epoch 12/40:  19%|█▊        | 14/75 [00:07<00:29,  2.10it/s]"
          ]
        },
        {
          "output_type": "stream",
          "name": "stdout",
          "text": [
            " \n",
            "-----------------------------------------------------------\n",
            "Step 840 - Average Training Loss: 0.04819322261027992\n",
            "-----------------------------------------------------------\n"
          ]
        },
        {
          "output_type": "stream",
          "name": "stderr",
          "text": [
            "\n",
            "Evaluation:   0%|          | 0/4 [00:00<?, ?it/s]\u001b[A\n",
            "Evaluation:  25%|██▌       | 1/4 [00:02<00:08,  2.93s/it]\u001b[A\n",
            "Evaluation:  50%|█████     | 2/4 [00:06<00:06,  3.47s/it]\u001b[A\n",
            "Evaluation:  75%|███████▌  | 3/4 [00:10<00:03,  3.45s/it]\u001b[A\n",
            "Evaluation: 100%|██████████| 4/4 [00:13<00:00,  3.36s/it]\n",
            "Epoch 12/40:  20%|██        | 15/75 [00:21<04:33,  4.56s/it]"
          ]
        },
        {
          "output_type": "stream",
          "name": "stdout",
          "text": [
            "-----------------------------------------------------------\n",
            "Validation Loss after 840 steps: 0.04594425251707435\n",
            "Validation BLEU Score after 840 steps: 0.5853898972272873\n",
            "-----------------------------------------------------------\n"
          ]
        },
        {
          "output_type": "stream",
          "name": "stderr",
          "text": [
            "Epoch 12/40:  72%|███████▏  | 54/75 [00:41<00:10,  1.99it/s]"
          ]
        },
        {
          "output_type": "stream",
          "name": "stdout",
          "text": [
            " \n",
            "-----------------------------------------------------------\n",
            "Step 880 - Average Training Loss: 0.043232150422409174\n",
            "-----------------------------------------------------------\n"
          ]
        },
        {
          "output_type": "stream",
          "name": "stderr",
          "text": [
            "\n",
            "Evaluation:   0%|          | 0/4 [00:00<?, ?it/s]\u001b[A\n",
            "Evaluation:  25%|██▌       | 1/4 [00:03<00:09,  3.31s/it]\u001b[A\n",
            "Evaluation:  50%|█████     | 2/4 [00:07<00:07,  3.67s/it]\u001b[A\n",
            "Evaluation:  75%|███████▌  | 3/4 [00:11<00:03,  3.87s/it]\u001b[A\n",
            "Evaluation: 100%|██████████| 4/4 [00:15<00:00,  3.97s/it]\n",
            "Epoch 12/40:  73%|███████▎  | 55/75 [00:58<01:45,  5.27s/it]"
          ]
        },
        {
          "output_type": "stream",
          "name": "stdout",
          "text": [
            "-----------------------------------------------------------\n",
            "Validation Loss after 880 steps: 0.04239572212100029\n",
            "Validation BLEU Score after 880 steps: 0.5710410848259926\n",
            "-----------------------------------------------------------\n"
          ]
        },
        {
          "output_type": "stream",
          "name": "stderr",
          "text": [
            "Epoch 12/40: 100%|██████████| 75/75 [01:08<00:00,  1.09it/s]\n"
          ]
        },
        {
          "output_type": "stream",
          "name": "stdout",
          "text": [
            "Epoch 12 completed in 68.65 seconds\n"
          ]
        },
        {
          "output_type": "stream",
          "name": "stderr",
          "text": [
            "Epoch 13/40:  25%|██▌       | 19/75 [00:10<00:29,  1.90it/s]"
          ]
        },
        {
          "output_type": "stream",
          "name": "stdout",
          "text": [
            " \n",
            "-----------------------------------------------------------\n",
            "Step 920 - Average Training Loss: 0.0391514919931069\n",
            "-----------------------------------------------------------\n"
          ]
        },
        {
          "output_type": "stream",
          "name": "stderr",
          "text": [
            "\n",
            "Evaluation:   0%|          | 0/4 [00:00<?, ?it/s]\u001b[A\n",
            "Evaluation:  25%|██▌       | 1/4 [00:03<00:09,  3.02s/it]\u001b[A\n",
            "Evaluation:  50%|█████     | 2/4 [00:06<00:06,  3.27s/it]\u001b[A\n",
            "Evaluation:  75%|███████▌  | 3/4 [00:10<00:03,  3.40s/it]\u001b[A\n",
            "Evaluation: 100%|██████████| 4/4 [00:14<00:00,  3.64s/it]\n",
            "Epoch 13/40:  27%|██▋       | 20/75 [00:25<04:30,  4.92s/it]"
          ]
        },
        {
          "output_type": "stream",
          "name": "stdout",
          "text": [
            "-----------------------------------------------------------\n",
            "Validation Loss after 920 steps: 0.04025943670421839\n",
            "Validation BLEU Score after 920 steps: 0.6390203833580017\n",
            "-----------------------------------------------------------\n"
          ]
        },
        {
          "output_type": "stream",
          "name": "stderr",
          "text": [
            "Epoch 13/40:  79%|███████▊  | 59/75 [00:45<00:08,  1.92it/s]"
          ]
        },
        {
          "output_type": "stream",
          "name": "stdout",
          "text": [
            " \n",
            "-----------------------------------------------------------\n",
            "Step 960 - Average Training Loss: 0.03762446832843125\n",
            "-----------------------------------------------------------\n"
          ]
        },
        {
          "output_type": "stream",
          "name": "stderr",
          "text": [
            "\n",
            "Evaluation:   0%|          | 0/4 [00:00<?, ?it/s]\u001b[A\n",
            "Evaluation:  25%|██▌       | 1/4 [00:03<00:09,  3.10s/it]\u001b[A\n",
            "Evaluation:  50%|█████     | 2/4 [00:06<00:06,  3.37s/it]\u001b[A\n",
            "Evaluation:  75%|███████▌  | 3/4 [00:09<00:03,  3.10s/it]\u001b[A\n",
            "Evaluation: 100%|██████████| 4/4 [00:13<00:00,  3.36s/it]\n"
          ]
        },
        {
          "output_type": "stream",
          "name": "stdout",
          "text": [
            "-----------------------------------------------------------\n",
            "Validation Loss after 960 steps: 0.03128928178921342\n",
            "Validation BLEU Score after 960 steps: 0.6057953238487244\n",
            "-----------------------------------------------------------\n"
          ]
        },
        {
          "output_type": "stream",
          "name": "stderr",
          "text": [
            "Epoch 13/40: 100%|██████████| 75/75 [01:07<00:00,  1.10it/s]\n"
          ]
        },
        {
          "output_type": "stream",
          "name": "stdout",
          "text": [
            "Epoch 13 completed in 67.93 seconds\n"
          ]
        },
        {
          "output_type": "stream",
          "name": "stderr",
          "text": [
            "Epoch 14/40:  32%|███▏      | 24/75 [00:12<00:25,  2.03it/s]"
          ]
        },
        {
          "output_type": "stream",
          "name": "stdout",
          "text": [
            " \n",
            "-----------------------------------------------------------\n",
            "Step 1000 - Average Training Loss: 0.03502326397574507\n",
            "-----------------------------------------------------------\n"
          ]
        },
        {
          "output_type": "stream",
          "name": "stderr",
          "text": [
            "\n",
            "Evaluation:   0%|          | 0/4 [00:00<?, ?it/s]\u001b[A\n",
            "Evaluation:  25%|██▌       | 1/4 [00:03<00:09,  3.24s/it]\u001b[A\n",
            "Evaluation:  50%|█████     | 2/4 [00:07<00:07,  3.57s/it]\u001b[A\n",
            "Evaluation:  75%|███████▌  | 3/4 [00:10<00:03,  3.40s/it]\u001b[A\n",
            "Evaluation: 100%|██████████| 4/4 [00:13<00:00,  3.37s/it]\n"
          ]
        },
        {
          "output_type": "stream",
          "name": "stdout",
          "text": [
            "-----------------------------------------------------------\n",
            "Validation Loss after 1000 steps: 0.02838186058215797\n",
            "Validation BLEU Score after 1000 steps: 0.6587763428688049\n",
            "-----------------------------------------------------------\n"
          ]
        },
        {
          "output_type": "stream",
          "name": "stderr",
          "text": [
            "Epoch 14/40:  85%|████████▌ | 64/75 [00:47<00:05,  1.92it/s]"
          ]
        },
        {
          "output_type": "stream",
          "name": "stdout",
          "text": [
            " \n",
            "-----------------------------------------------------------\n",
            "Step 1040 - Average Training Loss: 0.03327429632190615\n",
            "-----------------------------------------------------------\n"
          ]
        },
        {
          "output_type": "stream",
          "name": "stderr",
          "text": [
            "\n",
            "Evaluation:   0%|          | 0/4 [00:00<?, ?it/s]\u001b[A\n",
            "Evaluation:  25%|██▌       | 1/4 [00:02<00:07,  2.67s/it]\u001b[A\n",
            "Evaluation:  50%|█████     | 2/4 [00:05<00:05,  2.74s/it]\u001b[A\n",
            "Evaluation:  75%|███████▌  | 3/4 [00:08<00:02,  2.89s/it]\u001b[A\n",
            "Evaluation: 100%|██████████| 4/4 [00:12<00:00,  3.04s/it]\n"
          ]
        },
        {
          "output_type": "stream",
          "name": "stdout",
          "text": [
            "-----------------------------------------------------------\n",
            "Validation Loss after 1040 steps: 0.027563954005017877\n",
            "Validation BLEU Score after 1040 steps: 0.6430511176586151\n",
            "-----------------------------------------------------------\n"
          ]
        },
        {
          "output_type": "stream",
          "name": "stderr",
          "text": [
            "Epoch 14/40: 100%|██████████| 75/75 [01:05<00:00,  1.14it/s]\n"
          ]
        },
        {
          "output_type": "stream",
          "name": "stdout",
          "text": [
            "Epoch 14 completed in 65.80 seconds\n"
          ]
        },
        {
          "output_type": "stream",
          "name": "stderr",
          "text": [
            "Epoch 15/40:  39%|███▊      | 29/75 [00:15<00:24,  1.90it/s]"
          ]
        },
        {
          "output_type": "stream",
          "name": "stdout",
          "text": [
            " \n",
            "-----------------------------------------------------------\n",
            "Step 1080 - Average Training Loss: 0.024918353650718927\n",
            "-----------------------------------------------------------\n"
          ]
        },
        {
          "output_type": "stream",
          "name": "stderr",
          "text": [
            "\n",
            "Evaluation:   0%|          | 0/4 [00:00<?, ?it/s]\u001b[A\n",
            "Evaluation:  25%|██▌       | 1/4 [00:03<00:09,  3.25s/it]\u001b[A\n",
            "Evaluation:  50%|█████     | 2/4 [00:06<00:06,  3.23s/it]\u001b[A\n",
            "Evaluation:  75%|███████▌  | 3/4 [00:09<00:03,  3.13s/it]\u001b[A\n",
            "Evaluation: 100%|██████████| 4/4 [00:12<00:00,  3.19s/it]\n"
          ]
        },
        {
          "output_type": "stream",
          "name": "stdout",
          "text": [
            "-----------------------------------------------------------\n",
            "Validation Loss after 1080 steps: 0.02575317630544305\n",
            "Validation BLEU Score after 1080 steps: 0.6425960063934326\n",
            "-----------------------------------------------------------\n"
          ]
        },
        {
          "output_type": "stream",
          "name": "stderr",
          "text": [
            "Epoch 15/40:  92%|█████████▏| 69/75 [00:49<00:03,  1.97it/s]"
          ]
        },
        {
          "output_type": "stream",
          "name": "stdout",
          "text": [
            " \n",
            "-----------------------------------------------------------\n",
            "Step 1120 - Average Training Loss: 0.02238664252217859\n",
            "-----------------------------------------------------------\n"
          ]
        },
        {
          "output_type": "stream",
          "name": "stderr",
          "text": [
            "\n",
            "Evaluation:   0%|          | 0/4 [00:00<?, ?it/s]\u001b[A\n",
            "Evaluation:  25%|██▌       | 1/4 [00:03<00:09,  3.17s/it]\u001b[A\n",
            "Evaluation:  50%|█████     | 2/4 [00:07<00:07,  3.93s/it]\u001b[A\n",
            "Evaluation:  75%|███████▌  | 3/4 [00:10<00:03,  3.50s/it]\u001b[A\n",
            "Evaluation: 100%|██████████| 4/4 [00:13<00:00,  3.43s/it]\n",
            "Epoch 15/40:  93%|█████████▎| 70/75 [01:03<00:23,  4.63s/it]"
          ]
        },
        {
          "output_type": "stream",
          "name": "stdout",
          "text": [
            "-----------------------------------------------------------\n",
            "Validation Loss after 1120 steps: 0.027709645917639136\n",
            "Validation BLEU Score after 1120 steps: 0.6577790379524231\n",
            "-----------------------------------------------------------\n"
          ]
        },
        {
          "output_type": "stream",
          "name": "stderr",
          "text": [
            "Epoch 15/40: 100%|██████████| 75/75 [01:06<00:00,  1.13it/s]\n"
          ]
        },
        {
          "output_type": "stream",
          "name": "stdout",
          "text": [
            "Epoch 15 completed in 66.42 seconds\n"
          ]
        },
        {
          "output_type": "stream",
          "name": "stderr",
          "text": [
            "Epoch 16/40:  45%|████▌     | 34/75 [00:17<00:22,  1.85it/s]"
          ]
        },
        {
          "output_type": "stream",
          "name": "stdout",
          "text": [
            " \n",
            "-----------------------------------------------------------\n",
            "Step 1160 - Average Training Loss: 0.017183968200697564\n",
            "-----------------------------------------------------------\n"
          ]
        },
        {
          "output_type": "stream",
          "name": "stderr",
          "text": [
            "\n",
            "Evaluation:   0%|          | 0/4 [00:00<?, ?it/s]\u001b[A\n",
            "Evaluation:  25%|██▌       | 1/4 [00:03<00:09,  3.31s/it]\u001b[A\n",
            "Evaluation:  50%|█████     | 2/4 [00:06<00:06,  3.11s/it]\u001b[A\n",
            "Evaluation:  75%|███████▌  | 3/4 [00:10<00:03,  3.41s/it]\u001b[A\n",
            "Evaluation: 100%|██████████| 4/4 [00:13<00:00,  3.47s/it]\n"
          ]
        },
        {
          "output_type": "stream",
          "name": "stdout",
          "text": [
            "-----------------------------------------------------------\n",
            "Validation Loss after 1160 steps: 0.024194304831326008\n",
            "Validation BLEU Score after 1160 steps: 0.6793495565652847\n",
            "-----------------------------------------------------------\n"
          ]
        },
        {
          "output_type": "stream",
          "name": "stderr",
          "text": [
            "Epoch 16/40:  99%|█████████▊| 74/75 [00:53<00:00,  1.84it/s]"
          ]
        },
        {
          "output_type": "stream",
          "name": "stdout",
          "text": [
            " \n",
            "-----------------------------------------------------------\n",
            "Step 1200 - Average Training Loss: 0.01722481923061423\n",
            "-----------------------------------------------------------\n"
          ]
        },
        {
          "output_type": "stream",
          "name": "stderr",
          "text": [
            "\n",
            "Evaluation:   0%|          | 0/4 [00:00<?, ?it/s]\u001b[A\n",
            "Evaluation:  25%|██▌       | 1/4 [00:02<00:08,  2.79s/it]\u001b[A\n",
            "Evaluation:  50%|█████     | 2/4 [00:06<00:06,  3.42s/it]\u001b[A\n",
            "Evaluation:  75%|███████▌  | 3/4 [00:09<00:03,  3.35s/it]\u001b[A\n",
            "Evaluation: 100%|██████████| 4/4 [00:14<00:00,  3.56s/it]\n",
            "Epoch 16/40: 100%|██████████| 75/75 [01:08<00:00,  1.10it/s]\n"
          ]
        },
        {
          "output_type": "stream",
          "name": "stdout",
          "text": [
            "-----------------------------------------------------------\n",
            "Validation Loss after 1200 steps: 0.027533699525520205\n",
            "Validation BLEU Score after 1200 steps: 0.6507730334997177\n",
            "-----------------------------------------------------------\n",
            "Epoch 16 completed in 68.01 seconds\n"
          ]
        },
        {
          "output_type": "stream",
          "name": "stderr",
          "text": [
            "Epoch 17/40:  52%|█████▏    | 39/75 [00:20<00:18,  1.91it/s]"
          ]
        },
        {
          "output_type": "stream",
          "name": "stdout",
          "text": [
            " \n",
            "-----------------------------------------------------------\n",
            "Step 1240 - Average Training Loss: 0.013871283328626305\n",
            "-----------------------------------------------------------\n"
          ]
        },
        {
          "output_type": "stream",
          "name": "stderr",
          "text": [
            "\n",
            "Evaluation:   0%|          | 0/4 [00:00<?, ?it/s]\u001b[A\n",
            "Evaluation:  25%|██▌       | 1/4 [00:03<00:09,  3.29s/it]\u001b[A\n",
            "Evaluation:  50%|█████     | 2/4 [00:06<00:06,  3.41s/it]\u001b[A\n",
            "Evaluation:  75%|███████▌  | 3/4 [00:10<00:03,  3.44s/it]\u001b[A\n",
            "Evaluation: 100%|██████████| 4/4 [00:13<00:00,  3.46s/it]\n",
            "Epoch 17/40:  53%|█████▎    | 40/75 [00:34<02:44,  4.70s/it]"
          ]
        },
        {
          "output_type": "stream",
          "name": "stdout",
          "text": [
            "-----------------------------------------------------------\n",
            "Validation Loss after 1240 steps: 0.02856996306218207\n",
            "Validation BLEU Score after 1240 steps: 0.669125109910965\n",
            "-----------------------------------------------------------\n"
          ]
        },
        {
          "output_type": "stream",
          "name": "stderr",
          "text": [
            "Epoch 17/40: 100%|██████████| 75/75 [00:53<00:00,  1.41it/s]\n"
          ]
        },
        {
          "output_type": "stream",
          "name": "stdout",
          "text": [
            "Epoch 17 completed in 53.30 seconds\n"
          ]
        },
        {
          "output_type": "stream",
          "name": "stderr",
          "text": [
            "Epoch 18/40:   5%|▌         | 4/75 [00:02<00:38,  1.85it/s]"
          ]
        },
        {
          "output_type": "stream",
          "name": "stdout",
          "text": [
            " \n",
            "-----------------------------------------------------------\n",
            "Step 1280 - Average Training Loss: 0.014498627855209634\n",
            "-----------------------------------------------------------\n"
          ]
        },
        {
          "output_type": "stream",
          "name": "stderr",
          "text": [
            "\n",
            "Evaluation:   0%|          | 0/4 [00:00<?, ?it/s]\u001b[A\n",
            "Evaluation:  25%|██▌       | 1/4 [00:02<00:08,  2.86s/it]\u001b[A\n",
            "Evaluation:  50%|█████     | 2/4 [00:06<00:06,  3.35s/it]\u001b[A\n",
            "Evaluation:  75%|███████▌  | 3/4 [00:09<00:03,  3.22s/it]\u001b[A\n",
            "Evaluation: 100%|██████████| 4/4 [00:12<00:00,  3.23s/it]\n",
            "Epoch 18/40:   7%|▋         | 5/75 [00:15<06:03,  5.20s/it]"
          ]
        },
        {
          "output_type": "stream",
          "name": "stdout",
          "text": [
            "-----------------------------------------------------------\n",
            "Validation Loss after 1280 steps: 0.027985925553366542\n",
            "Validation BLEU Score after 1280 steps: 0.65658800303936\n",
            "-----------------------------------------------------------\n"
          ]
        },
        {
          "output_type": "stream",
          "name": "stderr",
          "text": [
            "Epoch 18/40:  59%|█████▊    | 44/75 [00:36<00:19,  1.59it/s]"
          ]
        },
        {
          "output_type": "stream",
          "name": "stdout",
          "text": [
            " \n",
            "-----------------------------------------------------------\n",
            "Step 1320 - Average Training Loss: 0.011924454348627479\n",
            "-----------------------------------------------------------\n"
          ]
        },
        {
          "output_type": "stream",
          "name": "stderr",
          "text": [
            "\n",
            "Evaluation:   0%|          | 0/4 [00:00<?, ?it/s]\u001b[A\n",
            "Evaluation:  25%|██▌       | 1/4 [00:02<00:08,  2.76s/it]\u001b[A\n",
            "Evaluation:  50%|█████     | 2/4 [00:05<00:05,  2.77s/it]\u001b[A\n",
            "Evaluation:  75%|███████▌  | 3/4 [00:08<00:02,  3.00s/it]\u001b[A\n",
            "Evaluation: 100%|██████████| 4/4 [00:11<00:00,  2.95s/it]\n",
            "Epoch 18/40:  60%|██████    | 45/75 [00:48<02:04,  4.14s/it]"
          ]
        },
        {
          "output_type": "stream",
          "name": "stdout",
          "text": [
            "-----------------------------------------------------------\n",
            "Validation Loss after 1320 steps: 0.027501194970682263\n",
            "Validation BLEU Score after 1320 steps: 0.7004387825727463\n",
            "-----------------------------------------------------------\n"
          ]
        },
        {
          "output_type": "stream",
          "name": "stderr",
          "text": [
            "Epoch 18/40: 100%|██████████| 75/75 [01:04<00:00,  1.17it/s]\n"
          ]
        },
        {
          "output_type": "stream",
          "name": "stdout",
          "text": [
            "Epoch 18 completed in 64.23 seconds\n"
          ]
        },
        {
          "output_type": "stream",
          "name": "stderr",
          "text": [
            "Epoch 19/40:  12%|█▏        | 9/75 [00:04<00:36,  1.81it/s]"
          ]
        },
        {
          "output_type": "stream",
          "name": "stdout",
          "text": [
            " \n",
            "-----------------------------------------------------------\n",
            "Step 1360 - Average Training Loss: 0.013088731383322737\n",
            "-----------------------------------------------------------\n"
          ]
        },
        {
          "output_type": "stream",
          "name": "stderr",
          "text": [
            "\n",
            "Evaluation:   0%|          | 0/4 [00:00<?, ?it/s]\u001b[A\n",
            "Evaluation:  25%|██▌       | 1/4 [00:03<00:09,  3.04s/it]\u001b[A\n",
            "Evaluation:  50%|█████     | 2/4 [00:06<00:06,  3.10s/it]\u001b[A\n",
            "Evaluation:  75%|███████▌  | 3/4 [00:09<00:03,  3.11s/it]\u001b[A\n",
            "Evaluation: 100%|██████████| 4/4 [00:12<00:00,  3.14s/it]\n",
            "Epoch 19/40:  13%|█▎        | 10/75 [00:17<04:47,  4.43s/it]"
          ]
        },
        {
          "output_type": "stream",
          "name": "stdout",
          "text": [
            "-----------------------------------------------------------\n",
            "Validation Loss after 1360 steps: 0.027613549027591944\n",
            "Validation BLEU Score after 1360 steps: 0.673678994178772\n",
            "-----------------------------------------------------------\n"
          ]
        },
        {
          "output_type": "stream",
          "name": "stderr",
          "text": [
            "Epoch 19/40:  65%|██████▌   | 49/75 [00:38<00:13,  1.90it/s]"
          ]
        },
        {
          "output_type": "stream",
          "name": "stdout",
          "text": [
            " \n",
            "-----------------------------------------------------------\n",
            "Step 1400 - Average Training Loss: 0.009584030351834371\n",
            "-----------------------------------------------------------\n"
          ]
        },
        {
          "output_type": "stream",
          "name": "stderr",
          "text": [
            "\n",
            "Evaluation:   0%|          | 0/4 [00:00<?, ?it/s]\u001b[A\n",
            "Evaluation:  25%|██▌       | 1/4 [00:02<00:08,  2.67s/it]\u001b[A\n",
            "Evaluation:  50%|█████     | 2/4 [00:05<00:05,  2.97s/it]\u001b[A\n",
            "Evaluation:  75%|███████▌  | 3/4 [00:09<00:03,  3.18s/it]\u001b[A\n",
            "Evaluation: 100%|██████████| 4/4 [00:12<00:00,  3.11s/it]\n",
            "Epoch 19/40:  67%|██████▋   | 50/75 [00:51<01:46,  4.25s/it]"
          ]
        },
        {
          "output_type": "stream",
          "name": "stdout",
          "text": [
            "-----------------------------------------------------------\n",
            "Validation Loss after 1400 steps: 0.02598796272650361\n",
            "Validation BLEU Score after 1400 steps: 0.6505190879106522\n",
            "-----------------------------------------------------------\n"
          ]
        },
        {
          "output_type": "stream",
          "name": "stderr",
          "text": [
            "Epoch 19/40: 100%|██████████| 75/75 [01:04<00:00,  1.16it/s]\n"
          ]
        },
        {
          "output_type": "stream",
          "name": "stdout",
          "text": [
            "Epoch 19 completed in 64.43 seconds\n"
          ]
        },
        {
          "output_type": "stream",
          "name": "stderr",
          "text": [
            "Epoch 20/40:  19%|█▊        | 14/75 [00:07<00:30,  2.02it/s]"
          ]
        },
        {
          "output_type": "stream",
          "name": "stdout",
          "text": [
            " \n",
            "-----------------------------------------------------------\n",
            "Step 1440 - Average Training Loss: 0.009212168972590007\n",
            "-----------------------------------------------------------\n"
          ]
        },
        {
          "output_type": "stream",
          "name": "stderr",
          "text": [
            "\n",
            "Evaluation:   0%|          | 0/4 [00:00<?, ?it/s]\u001b[A\n",
            "Evaluation:  25%|██▌       | 1/4 [00:03<00:09,  3.23s/it]\u001b[A\n",
            "Evaluation:  50%|█████     | 2/4 [00:06<00:06,  3.34s/it]\u001b[A\n",
            "Evaluation:  75%|███████▌  | 3/4 [00:09<00:03,  3.23s/it]\u001b[A\n",
            "Evaluation: 100%|██████████| 4/4 [00:13<00:00,  3.50s/it]\n",
            "Epoch 20/40:  20%|██        | 15/75 [00:22<04:44,  4.74s/it]"
          ]
        },
        {
          "output_type": "stream",
          "name": "stdout",
          "text": [
            "-----------------------------------------------------------\n",
            "Validation Loss after 1440 steps: 0.024653758388012648\n",
            "Validation BLEU Score after 1440 steps: 0.6560879051685333\n",
            "-----------------------------------------------------------\n"
          ]
        },
        {
          "output_type": "stream",
          "name": "stderr",
          "text": [
            "Epoch 20/40:  72%|███████▏  | 54/75 [00:42<00:11,  1.90it/s]"
          ]
        },
        {
          "output_type": "stream",
          "name": "stdout",
          "text": [
            " \n",
            "-----------------------------------------------------------\n",
            "Step 1480 - Average Training Loss: 0.008096970133192372\n",
            "-----------------------------------------------------------\n"
          ]
        },
        {
          "output_type": "stream",
          "name": "stderr",
          "text": [
            "\n",
            "Evaluation:   0%|          | 0/4 [00:00<?, ?it/s]\u001b[A\n",
            "Evaluation:  25%|██▌       | 1/4 [00:03<00:09,  3.31s/it]\u001b[A\n",
            "Evaluation:  50%|█████     | 2/4 [00:07<00:07,  3.96s/it]\u001b[A\n",
            "Evaluation:  75%|███████▌  | 3/4 [00:10<00:03,  3.53s/it]\u001b[A\n",
            "Evaluation: 100%|██████████| 4/4 [00:14<00:00,  3.56s/it]\n",
            "Epoch 20/40:  73%|███████▎  | 55/75 [00:57<01:36,  4.81s/it]"
          ]
        },
        {
          "output_type": "stream",
          "name": "stdout",
          "text": [
            "-----------------------------------------------------------\n",
            "Validation Loss after 1480 steps: 0.026302191894501448\n",
            "Validation BLEU Score after 1480 steps: 0.6809288263320923\n",
            "-----------------------------------------------------------\n"
          ]
        },
        {
          "output_type": "stream",
          "name": "stderr",
          "text": [
            "Epoch 20/40: 100%|██████████| 75/75 [01:07<00:00,  1.11it/s]\n"
          ]
        },
        {
          "output_type": "stream",
          "name": "stdout",
          "text": [
            "Epoch 20 completed in 67.70 seconds\n"
          ]
        },
        {
          "output_type": "stream",
          "name": "stderr",
          "text": [
            "Epoch 21/40:  25%|██▌       | 19/75 [00:09<00:27,  2.01it/s]"
          ]
        },
        {
          "output_type": "stream",
          "name": "stdout",
          "text": [
            " \n",
            "-----------------------------------------------------------\n",
            "Step 1520 - Average Training Loss: 0.008430196235713084\n",
            "-----------------------------------------------------------\n"
          ]
        },
        {
          "output_type": "stream",
          "name": "stderr",
          "text": [
            "\n",
            "Evaluation:   0%|          | 0/4 [00:00<?, ?it/s]\u001b[A\n",
            "Evaluation:  25%|██▌       | 1/4 [00:02<00:08,  2.98s/it]\u001b[A\n",
            "Evaluation:  50%|█████     | 2/4 [00:07<00:07,  3.62s/it]\u001b[A\n",
            "Evaluation:  75%|███████▌  | 3/4 [00:10<00:03,  3.40s/it]\u001b[A\n",
            "Evaluation: 100%|██████████| 4/4 [00:13<00:00,  3.43s/it]\n",
            "Epoch 21/40:  27%|██▋       | 20/75 [00:24<04:15,  4.64s/it]"
          ]
        },
        {
          "output_type": "stream",
          "name": "stdout",
          "text": [
            "-----------------------------------------------------------\n",
            "Validation Loss after 1520 steps: 0.028229729272425175\n",
            "Validation BLEU Score after 1520 steps: 0.6616241782903671\n",
            "-----------------------------------------------------------\n"
          ]
        },
        {
          "output_type": "stream",
          "name": "stderr",
          "text": [
            "Epoch 21/40:  79%|███████▊  | 59/75 [00:44<00:08,  1.95it/s]"
          ]
        },
        {
          "output_type": "stream",
          "name": "stdout",
          "text": [
            " \n",
            "-----------------------------------------------------------\n",
            "Step 1560 - Average Training Loss: 0.007733623328385874\n",
            "-----------------------------------------------------------\n"
          ]
        },
        {
          "output_type": "stream",
          "name": "stderr",
          "text": [
            "\n",
            "Evaluation:   0%|          | 0/4 [00:00<?, ?it/s]\u001b[A\n",
            "Evaluation:  25%|██▌       | 1/4 [00:03<00:10,  3.55s/it]\u001b[A\n",
            "Evaluation:  50%|█████     | 2/4 [00:07<00:07,  3.59s/it]\u001b[A\n",
            "Evaluation:  75%|███████▌  | 3/4 [00:10<00:03,  3.48s/it]\u001b[A\n",
            "Evaluation: 100%|██████████| 4/4 [00:14<00:00,  3.51s/it]\n",
            "Epoch 21/40:  80%|████████  | 60/75 [00:59<01:10,  4.72s/it]"
          ]
        },
        {
          "output_type": "stream",
          "name": "stdout",
          "text": [
            "-----------------------------------------------------------\n",
            "Validation Loss after 1560 steps: 0.03159193694591522\n",
            "Validation BLEU Score after 1560 steps: 0.6566141992807388\n",
            "-----------------------------------------------------------\n"
          ]
        },
        {
          "output_type": "stream",
          "name": "stderr",
          "text": [
            "Epoch 21/40: 100%|██████████| 75/75 [01:07<00:00,  1.11it/s]\n"
          ]
        },
        {
          "output_type": "stream",
          "name": "stdout",
          "text": [
            "Epoch 21 completed in 67.42 seconds\n"
          ]
        },
        {
          "output_type": "stream",
          "name": "stderr",
          "text": [
            "Epoch 22/40:  32%|███▏      | 24/75 [00:12<00:25,  1.99it/s]"
          ]
        },
        {
          "output_type": "stream",
          "name": "stdout",
          "text": [
            " \n",
            "-----------------------------------------------------------\n",
            "Step 1600 - Average Training Loss: 0.006951747374841943\n",
            "-----------------------------------------------------------\n"
          ]
        },
        {
          "output_type": "stream",
          "name": "stderr",
          "text": [
            "\n",
            "Evaluation:   0%|          | 0/4 [00:00<?, ?it/s]\u001b[A\n",
            "Evaluation:  25%|██▌       | 1/4 [00:02<00:08,  2.79s/it]\u001b[A\n",
            "Evaluation:  50%|█████     | 2/4 [00:06<00:06,  3.06s/it]\u001b[A\n",
            "Evaluation:  75%|███████▌  | 3/4 [00:09<00:03,  3.18s/it]\u001b[A\n",
            "Evaluation: 100%|██████████| 4/4 [00:12<00:00,  3.19s/it]\n",
            "Epoch 22/40:  33%|███▎      | 25/75 [00:25<03:36,  4.33s/it]"
          ]
        },
        {
          "output_type": "stream",
          "name": "stdout",
          "text": [
            "-----------------------------------------------------------\n",
            "Validation Loss after 1600 steps: 0.02706820028834045\n",
            "Validation BLEU Score after 1600 steps: 0.6246626377105713\n",
            "-----------------------------------------------------------\n"
          ]
        },
        {
          "output_type": "stream",
          "name": "stderr",
          "text": [
            "Epoch 22/40:  85%|████████▌ | 64/75 [00:46<00:05,  1.96it/s]"
          ]
        },
        {
          "output_type": "stream",
          "name": "stdout",
          "text": [
            " \n",
            "-----------------------------------------------------------\n",
            "Step 1640 - Average Training Loss: 0.007363859112956561\n",
            "-----------------------------------------------------------\n"
          ]
        },
        {
          "output_type": "stream",
          "name": "stderr",
          "text": [
            "\n",
            "Evaluation:   0%|          | 0/4 [00:00<?, ?it/s]\u001b[A\n",
            "Evaluation:  25%|██▌       | 1/4 [00:03<00:11,  3.91s/it]\u001b[A\n",
            "Evaluation:  50%|█████     | 2/4 [00:07<00:08,  4.01s/it]\u001b[A\n",
            "Evaluation:  75%|███████▌  | 3/4 [00:11<00:03,  3.68s/it]\u001b[A\n",
            "Evaluation: 100%|██████████| 4/4 [00:15<00:00,  3.81s/it]\n",
            "Epoch 22/40:  87%|████████▋ | 65/75 [01:01<00:51,  5.10s/it]"
          ]
        },
        {
          "output_type": "stream",
          "name": "stdout",
          "text": [
            "-----------------------------------------------------------\n",
            "Validation Loss after 1640 steps: 0.031485873041674495\n",
            "Validation BLEU Score after 1640 steps: 0.6628366559743881\n",
            "-----------------------------------------------------------\n"
          ]
        },
        {
          "output_type": "stream",
          "name": "stderr",
          "text": [
            "Epoch 22/40: 100%|██████████| 75/75 [01:07<00:00,  1.12it/s]\n"
          ]
        },
        {
          "output_type": "stream",
          "name": "stdout",
          "text": [
            "Epoch 22 completed in 67.06 seconds\n"
          ]
        },
        {
          "output_type": "stream",
          "name": "stderr",
          "text": [
            "Epoch 23/40:  39%|███▊      | 29/75 [00:15<00:23,  1.97it/s]"
          ]
        },
        {
          "output_type": "stream",
          "name": "stdout",
          "text": [
            " \n",
            "-----------------------------------------------------------\n",
            "Step 1680 - Average Training Loss: 0.0065459222256322395\n",
            "-----------------------------------------------------------\n"
          ]
        },
        {
          "output_type": "stream",
          "name": "stderr",
          "text": [
            "\n",
            "Evaluation:   0%|          | 0/4 [00:00<?, ?it/s]\u001b[A\n",
            "Evaluation:  25%|██▌       | 1/4 [00:03<00:09,  3.16s/it]\u001b[A\n",
            "Evaluation:  50%|█████     | 2/4 [00:06<00:06,  3.16s/it]\u001b[A\n",
            "Evaluation:  75%|███████▌  | 3/4 [00:09<00:03,  3.14s/it]\u001b[A\n",
            "Evaluation: 100%|██████████| 4/4 [00:13<00:00,  3.26s/it]\n",
            "Epoch 23/40:  40%|████      | 30/75 [00:28<03:20,  4.45s/it]"
          ]
        },
        {
          "output_type": "stream",
          "name": "stdout",
          "text": [
            "-----------------------------------------------------------\n",
            "Validation Loss after 1680 steps: 0.02824478573165834\n",
            "Validation BLEU Score after 1680 steps: 0.6353757530450821\n",
            "-----------------------------------------------------------\n"
          ]
        },
        {
          "output_type": "stream",
          "name": "stderr",
          "text": [
            "Epoch 23/40:  92%|█████████▏| 69/75 [00:49<00:03,  1.95it/s]"
          ]
        },
        {
          "output_type": "stream",
          "name": "stdout",
          "text": [
            " \n",
            "-----------------------------------------------------------\n",
            "Step 1720 - Average Training Loss: 0.006859372623148374\n",
            "-----------------------------------------------------------\n"
          ]
        },
        {
          "output_type": "stream",
          "name": "stderr",
          "text": [
            "\n",
            "Evaluation:   0%|          | 0/4 [00:00<?, ?it/s]\u001b[A\n",
            "Evaluation:  25%|██▌       | 1/4 [00:03<00:09,  3.32s/it]\u001b[A\n",
            "Evaluation:  50%|█████     | 2/4 [00:07<00:07,  3.69s/it]\u001b[A\n",
            "Evaluation:  75%|███████▌  | 3/4 [00:10<00:03,  3.61s/it]\u001b[A\n",
            "Evaluation: 100%|██████████| 4/4 [00:14<00:00,  3.56s/it]\n",
            "Epoch 23/40:  93%|█████████▎| 70/75 [01:04<00:23,  4.79s/it]"
          ]
        },
        {
          "output_type": "stream",
          "name": "stdout",
          "text": [
            "-----------------------------------------------------------\n",
            "Validation Loss after 1720 steps: 0.033560484647750854\n",
            "Validation BLEU Score after 1720 steps: 0.6615001410245895\n",
            "-----------------------------------------------------------\n"
          ]
        },
        {
          "output_type": "stream",
          "name": "stderr",
          "text": [
            "Epoch 23/40: 100%|██████████| 75/75 [01:06<00:00,  1.12it/s]\n"
          ]
        },
        {
          "output_type": "stream",
          "name": "stdout",
          "text": [
            "Epoch 23 completed in 66.83 seconds\n"
          ]
        },
        {
          "output_type": "stream",
          "name": "stderr",
          "text": [
            "Epoch 24/40:  45%|████▌     | 34/75 [00:18<00:22,  1.80it/s]"
          ]
        },
        {
          "output_type": "stream",
          "name": "stdout",
          "text": [
            " \n",
            "-----------------------------------------------------------\n",
            "Step 1760 - Average Training Loss: 0.0050746158820402345\n",
            "-----------------------------------------------------------\n"
          ]
        },
        {
          "output_type": "stream",
          "name": "stderr",
          "text": [
            "\n",
            "Evaluation:   0%|          | 0/4 [00:00<?, ?it/s]\u001b[A\n",
            "Evaluation:  25%|██▌       | 1/4 [00:03<00:10,  3.66s/it]\u001b[A\n",
            "Evaluation:  50%|█████     | 2/4 [00:06<00:06,  3.22s/it]\u001b[A\n",
            "Evaluation:  75%|███████▌  | 3/4 [00:09<00:03,  3.30s/it]\u001b[A\n",
            "Evaluation: 100%|██████████| 4/4 [00:13<00:00,  3.37s/it]\n",
            "Epoch 24/40:  47%|████▋     | 35/75 [00:32<03:03,  4.60s/it]"
          ]
        },
        {
          "output_type": "stream",
          "name": "stdout",
          "text": [
            "-----------------------------------------------------------\n",
            "Validation Loss after 1760 steps: 0.02503435779362917\n",
            "Validation BLEU Score after 1760 steps: 0.6608283817768097\n",
            "-----------------------------------------------------------\n"
          ]
        },
        {
          "output_type": "stream",
          "name": "stderr",
          "text": [
            "Epoch 24/40:  99%|█████████▊| 74/75 [00:52<00:00,  1.86it/s]"
          ]
        },
        {
          "output_type": "stream",
          "name": "stdout",
          "text": [
            " \n",
            "-----------------------------------------------------------\n",
            "Step 1800 - Average Training Loss: 0.004339715326204896\n",
            "-----------------------------------------------------------\n"
          ]
        },
        {
          "output_type": "stream",
          "name": "stderr",
          "text": [
            "\n",
            "Evaluation:   0%|          | 0/4 [00:00<?, ?it/s]\u001b[A\n",
            "Evaluation:  25%|██▌       | 1/4 [00:03<00:09,  3.28s/it]\u001b[A\n",
            "Evaluation:  50%|█████     | 2/4 [00:06<00:06,  3.05s/it]\u001b[A\n",
            "Evaluation:  75%|███████▌  | 3/4 [00:09<00:03,  3.06s/it]\u001b[A\n",
            "Evaluation: 100%|██████████| 4/4 [00:13<00:00,  3.32s/it]\n",
            "Epoch 24/40: 100%|██████████| 75/75 [01:06<00:00,  1.13it/s]\n"
          ]
        },
        {
          "output_type": "stream",
          "name": "stdout",
          "text": [
            "-----------------------------------------------------------\n",
            "Validation Loss after 1800 steps: 0.029832960106432438\n",
            "Validation BLEU Score after 1800 steps: 0.6982294470071793\n",
            "-----------------------------------------------------------\n",
            "Epoch 24 completed in 66.48 seconds\n"
          ]
        },
        {
          "output_type": "stream",
          "name": "stderr",
          "text": [
            "Epoch 25/40:  52%|█████▏    | 39/75 [00:20<00:18,  1.98it/s]"
          ]
        },
        {
          "output_type": "stream",
          "name": "stdout",
          "text": [
            " \n",
            "-----------------------------------------------------------\n",
            "Step 1840 - Average Training Loss: 0.003866413316427497\n",
            "-----------------------------------------------------------\n"
          ]
        },
        {
          "output_type": "stream",
          "name": "stderr",
          "text": [
            "\n",
            "Evaluation:   0%|          | 0/4 [00:00<?, ?it/s]\u001b[A\n",
            "Evaluation:  25%|██▌       | 1/4 [00:02<00:08,  2.79s/it]\u001b[A\n",
            "Evaluation:  50%|█████     | 2/4 [00:06<00:06,  3.48s/it]\u001b[A\n",
            "Evaluation:  75%|███████▌  | 3/4 [00:09<00:03,  3.32s/it]\u001b[A\n",
            "Evaluation: 100%|██████████| 4/4 [00:13<00:00,  3.40s/it]\n"
          ]
        },
        {
          "output_type": "stream",
          "name": "stdout",
          "text": [
            "-----------------------------------------------------------\n",
            "Validation Loss after 1840 steps: 0.023809569189324975\n",
            "Validation BLEU Score after 1840 steps: 0.6569661721587181\n",
            "-----------------------------------------------------------\n"
          ]
        },
        {
          "output_type": "stream",
          "name": "stderr",
          "text": [
            "Epoch 25/40: 100%|██████████| 75/75 [00:53<00:00,  1.41it/s]\n"
          ]
        },
        {
          "output_type": "stream",
          "name": "stdout",
          "text": [
            "Epoch 25 completed in 53.33 seconds\n"
          ]
        },
        {
          "output_type": "stream",
          "name": "stderr",
          "text": [
            "Epoch 26/40:   5%|▌         | 4/75 [00:02<00:38,  1.86it/s]"
          ]
        },
        {
          "output_type": "stream",
          "name": "stdout",
          "text": [
            " \n",
            "-----------------------------------------------------------\n",
            "Step 1880 - Average Training Loss: 0.003392137533228379\n",
            "-----------------------------------------------------------\n"
          ]
        },
        {
          "output_type": "stream",
          "name": "stderr",
          "text": [
            "\n",
            "Evaluation:   0%|          | 0/4 [00:00<?, ?it/s]\u001b[A\n",
            "Evaluation:  25%|██▌       | 1/4 [00:03<00:09,  3.02s/it]\u001b[A\n",
            "Evaluation:  50%|█████     | 2/4 [00:07<00:07,  3.69s/it]\u001b[A\n",
            "Evaluation:  75%|███████▌  | 3/4 [00:10<00:03,  3.55s/it]\u001b[A\n",
            "Evaluation: 100%|██████████| 4/4 [00:14<00:00,  3.59s/it]\n",
            "Epoch 26/40:   7%|▋         | 5/75 [00:17<06:40,  5.72s/it]"
          ]
        },
        {
          "output_type": "stream",
          "name": "stdout",
          "text": [
            "-----------------------------------------------------------\n",
            "Validation Loss after 1880 steps: 0.031333178747445345\n",
            "Validation BLEU Score after 1880 steps: 0.6685232073068619\n",
            "-----------------------------------------------------------\n"
          ]
        },
        {
          "output_type": "stream",
          "name": "stderr",
          "text": [
            "Epoch 26/40:  59%|█████▊    | 44/75 [00:37<00:19,  1.57it/s]"
          ]
        },
        {
          "output_type": "stream",
          "name": "stdout",
          "text": [
            " \n",
            "-----------------------------------------------------------\n",
            "Step 1920 - Average Training Loss: 0.0032596432029095013\n",
            "-----------------------------------------------------------\n"
          ]
        },
        {
          "output_type": "stream",
          "name": "stderr",
          "text": [
            "\n",
            "Evaluation:   0%|          | 0/4 [00:00<?, ?it/s]\u001b[A\n",
            "Evaluation:  25%|██▌       | 1/4 [00:03<00:11,  3.72s/it]\u001b[A\n",
            "Evaluation:  50%|█████     | 2/4 [00:06<00:06,  3.33s/it]\u001b[A\n",
            "Evaluation:  75%|███████▌  | 3/4 [00:10<00:03,  3.35s/it]\u001b[A\n",
            "Evaluation: 100%|██████████| 4/4 [00:13<00:00,  3.45s/it]\n",
            "Epoch 26/40:  60%|██████    | 45/75 [00:52<02:22,  4.74s/it]"
          ]
        },
        {
          "output_type": "stream",
          "name": "stdout",
          "text": [
            "-----------------------------------------------------------\n",
            "Validation Loss after 1920 steps: 0.025950379436835647\n",
            "Validation BLEU Score after 1920 steps: 0.6576587706804276\n",
            "-----------------------------------------------------------\n"
          ]
        },
        {
          "output_type": "stream",
          "name": "stderr",
          "text": [
            "Epoch 26/40: 100%|██████████| 75/75 [01:07<00:00,  1.11it/s]\n"
          ]
        },
        {
          "output_type": "stream",
          "name": "stdout",
          "text": [
            "Epoch 26 completed in 67.75 seconds\n"
          ]
        },
        {
          "output_type": "stream",
          "name": "stderr",
          "text": [
            "Epoch 27/40:  12%|█▏        | 9/75 [00:04<00:38,  1.72it/s]"
          ]
        },
        {
          "output_type": "stream",
          "name": "stdout",
          "text": [
            " \n",
            "-----------------------------------------------------------\n",
            "Step 1960 - Average Training Loss: 0.0030764370334509295\n",
            "-----------------------------------------------------------\n"
          ]
        },
        {
          "output_type": "stream",
          "name": "stderr",
          "text": [
            "\n",
            "Evaluation:   0%|          | 0/4 [00:00<?, ?it/s]\u001b[A\n",
            "Evaluation:  25%|██▌       | 1/4 [00:03<00:10,  3.35s/it]\u001b[A\n",
            "Evaluation:  50%|█████     | 2/4 [00:06<00:06,  3.06s/it]\u001b[A\n",
            "Evaluation:  75%|███████▌  | 3/4 [00:09<00:03,  3.06s/it]\u001b[A\n",
            "Evaluation: 100%|██████████| 4/4 [00:12<00:00,  3.21s/it]\n",
            "Epoch 27/40:  13%|█▎        | 10/75 [00:18<04:54,  4.54s/it]"
          ]
        },
        {
          "output_type": "stream",
          "name": "stdout",
          "text": [
            "-----------------------------------------------------------\n",
            "Validation Loss after 1960 steps: 0.027680628933012486\n",
            "Validation BLEU Score after 1960 steps: 0.6681668013334274\n",
            "-----------------------------------------------------------\n"
          ]
        },
        {
          "output_type": "stream",
          "name": "stderr",
          "text": [
            "Epoch 27/40:  65%|██████▌   | 49/75 [00:38<00:13,  1.91it/s]"
          ]
        },
        {
          "output_type": "stream",
          "name": "stdout",
          "text": [
            " \n",
            "-----------------------------------------------------------\n",
            "Step 2000 - Average Training Loss: 0.002302985406277003\n",
            "-----------------------------------------------------------\n"
          ]
        },
        {
          "output_type": "stream",
          "name": "stderr",
          "text": [
            "\n",
            "Evaluation:   0%|          | 0/4 [00:00<?, ?it/s]\u001b[A\n",
            "Evaluation:  25%|██▌       | 1/4 [00:03<00:11,  3.95s/it]\u001b[A\n",
            "Evaluation:  50%|█████     | 2/4 [00:07<00:07,  3.97s/it]\u001b[A\n",
            "Evaluation:  75%|███████▌  | 3/4 [00:11<00:03,  3.59s/it]\u001b[A\n",
            "Evaluation: 100%|██████████| 4/4 [00:15<00:00,  3.75s/it]\n",
            "Epoch 27/40:  67%|██████▋   | 50/75 [00:54<02:05,  5.02s/it]"
          ]
        },
        {
          "output_type": "stream",
          "name": "stdout",
          "text": [
            "-----------------------------------------------------------\n",
            "Validation Loss after 2000 steps: 0.024669269216246903\n",
            "Validation BLEU Score after 2000 steps: 0.6665407717227936\n",
            "-----------------------------------------------------------\n"
          ]
        },
        {
          "output_type": "stream",
          "name": "stderr",
          "text": [
            "Epoch 27/40: 100%|██████████| 75/75 [01:07<00:00,  1.12it/s]\n"
          ]
        },
        {
          "output_type": "stream",
          "name": "stdout",
          "text": [
            "Epoch 27 completed in 67.24 seconds\n"
          ]
        },
        {
          "output_type": "stream",
          "name": "stderr",
          "text": [
            "Epoch 28/40:  19%|█▊        | 14/75 [00:07<00:29,  2.08it/s]"
          ]
        },
        {
          "output_type": "stream",
          "name": "stdout",
          "text": [
            " \n",
            "-----------------------------------------------------------\n",
            "Step 2040 - Average Training Loss: 0.0026900995544565376\n",
            "-----------------------------------------------------------\n"
          ]
        },
        {
          "output_type": "stream",
          "name": "stderr",
          "text": [
            "\n",
            "Evaluation:   0%|          | 0/4 [00:00<?, ?it/s]\u001b[A\n",
            "Evaluation:  25%|██▌       | 1/4 [00:02<00:08,  2.92s/it]\u001b[A\n",
            "Evaluation:  50%|█████     | 2/4 [00:06<00:06,  3.24s/it]\u001b[A\n",
            "Evaluation:  75%|███████▌  | 3/4 [00:09<00:03,  3.38s/it]\u001b[A\n",
            "Evaluation: 100%|██████████| 4/4 [00:13<00:00,  3.46s/it]\n",
            "Epoch 28/40:  20%|██        | 15/75 [00:21<04:41,  4.69s/it]"
          ]
        },
        {
          "output_type": "stream",
          "name": "stdout",
          "text": [
            "-----------------------------------------------------------\n",
            "Validation Loss after 2040 steps: 0.02771324524655938\n",
            "Validation BLEU Score after 2040 steps: 0.6602522879838943\n",
            "-----------------------------------------------------------\n"
          ]
        },
        {
          "output_type": "stream",
          "name": "stderr",
          "text": [
            "Epoch 28/40:  72%|███████▏  | 54/75 [00:42<00:11,  1.82it/s]"
          ]
        },
        {
          "output_type": "stream",
          "name": "stdout",
          "text": [
            " \n",
            "-----------------------------------------------------------\n",
            "Step 2080 - Average Training Loss: 0.0025424968625884503\n",
            "-----------------------------------------------------------\n"
          ]
        },
        {
          "output_type": "stream",
          "name": "stderr",
          "text": [
            "\n",
            "Evaluation:   0%|          | 0/4 [00:00<?, ?it/s]\u001b[A\n",
            "Evaluation:  25%|██▌       | 1/4 [00:03<00:10,  3.43s/it]\u001b[A\n",
            "Evaluation:  50%|█████     | 2/4 [00:07<00:07,  3.61s/it]\u001b[A\n",
            "Evaluation:  75%|███████▌  | 3/4 [00:10<00:03,  3.40s/it]\u001b[A\n",
            "Evaluation: 100%|██████████| 4/4 [00:14<00:00,  3.54s/it]\n",
            "Epoch 28/40:  73%|███████▎  | 55/75 [00:57<01:35,  4.79s/it]"
          ]
        },
        {
          "output_type": "stream",
          "name": "stdout",
          "text": [
            "-----------------------------------------------------------\n",
            "Validation Loss after 2080 steps: 0.02462480857502669\n",
            "Validation BLEU Score after 2080 steps: 0.6549245566129684\n",
            "-----------------------------------------------------------\n"
          ]
        },
        {
          "output_type": "stream",
          "name": "stderr",
          "text": [
            "Epoch 28/40: 100%|██████████| 75/75 [01:07<00:00,  1.11it/s]\n"
          ]
        },
        {
          "output_type": "stream",
          "name": "stdout",
          "text": [
            "Epoch 28 completed in 67.81 seconds\n"
          ]
        },
        {
          "output_type": "stream",
          "name": "stderr",
          "text": [
            "Epoch 29/40:  25%|██▌       | 19/75 [00:09<00:27,  2.02it/s]"
          ]
        },
        {
          "output_type": "stream",
          "name": "stdout",
          "text": [
            " \n",
            "-----------------------------------------------------------\n",
            "Step 2120 - Average Training Loss: 0.002304623106465442\n",
            "-----------------------------------------------------------\n"
          ]
        },
        {
          "output_type": "stream",
          "name": "stderr",
          "text": [
            "\n",
            "Evaluation:   0%|          | 0/4 [00:00<?, ?it/s]\u001b[A\n",
            "Evaluation:  25%|██▌       | 1/4 [00:04<00:12,  4.17s/it]\u001b[A\n",
            "Evaluation:  50%|█████     | 2/4 [00:07<00:07,  3.57s/it]\u001b[A\n",
            "Evaluation:  75%|███████▌  | 3/4 [00:10<00:03,  3.42s/it]\u001b[A\n",
            "Evaluation: 100%|██████████| 4/4 [00:13<00:00,  3.43s/it]\n",
            "Epoch 29/40:  27%|██▋       | 20/75 [00:24<04:15,  4.64s/it]"
          ]
        },
        {
          "output_type": "stream",
          "name": "stdout",
          "text": [
            "-----------------------------------------------------------\n",
            "Validation Loss after 2120 steps: 0.025537704350426793\n",
            "Validation BLEU Score after 2120 steps: 0.6465832442045212\n",
            "-----------------------------------------------------------\n"
          ]
        },
        {
          "output_type": "stream",
          "name": "stderr",
          "text": [
            "Epoch 29/40:  79%|███████▊  | 59/75 [00:44<00:08,  1.99it/s]"
          ]
        },
        {
          "output_type": "stream",
          "name": "stdout",
          "text": [
            " \n",
            "-----------------------------------------------------------\n",
            "Step 2160 - Average Training Loss: 0.0021047833281045312\n",
            "-----------------------------------------------------------\n"
          ]
        },
        {
          "output_type": "stream",
          "name": "stderr",
          "text": [
            "\n",
            "Evaluation:   0%|          | 0/4 [00:00<?, ?it/s]\u001b[A\n",
            "Evaluation:  25%|██▌       | 1/4 [00:02<00:08,  2.95s/it]\u001b[A\n",
            "Evaluation:  50%|█████     | 2/4 [00:07<00:07,  3.71s/it]\u001b[A\n",
            "Evaluation:  75%|███████▌  | 3/4 [00:10<00:03,  3.49s/it]\u001b[A\n",
            "Evaluation: 100%|██████████| 4/4 [00:14<00:00,  3.50s/it]\n",
            "Epoch 29/40:  80%|████████  | 60/75 [00:59<01:10,  4.71s/it]"
          ]
        },
        {
          "output_type": "stream",
          "name": "stdout",
          "text": [
            "-----------------------------------------------------------\n",
            "Validation Loss after 2160 steps: 0.02518463134765625\n",
            "Validation BLEU Score after 2160 steps: 0.6635544300079346\n",
            "-----------------------------------------------------------\n"
          ]
        },
        {
          "output_type": "stream",
          "name": "stderr",
          "text": [
            "Epoch 29/40: 100%|██████████| 75/75 [01:07<00:00,  1.12it/s]\n"
          ]
        },
        {
          "output_type": "stream",
          "name": "stdout",
          "text": [
            "Epoch 29 completed in 67.04 seconds\n"
          ]
        },
        {
          "output_type": "stream",
          "name": "stderr",
          "text": [
            "Epoch 30/40:  32%|███▏      | 24/75 [00:12<00:25,  2.01it/s]"
          ]
        },
        {
          "output_type": "stream",
          "name": "stdout",
          "text": [
            " \n",
            "-----------------------------------------------------------\n",
            "Step 2200 - Average Training Loss: 0.002215144146612147\n",
            "-----------------------------------------------------------\n"
          ]
        },
        {
          "output_type": "stream",
          "name": "stderr",
          "text": [
            "\n",
            "Evaluation:   0%|          | 0/4 [00:00<?, ?it/s]\u001b[A\n",
            "Evaluation:  25%|██▌       | 1/4 [00:02<00:08,  2.73s/it]\u001b[A\n",
            "Evaluation:  50%|█████     | 2/4 [00:06<00:06,  3.07s/it]\u001b[A\n",
            "Evaluation:  75%|███████▌  | 3/4 [00:09<00:03,  3.25s/it]\u001b[A\n",
            "Evaluation: 100%|██████████| 4/4 [00:13<00:00,  3.45s/it]\n",
            "Epoch 30/40:  33%|███▎      | 25/75 [00:26<03:52,  4.65s/it]"
          ]
        },
        {
          "output_type": "stream",
          "name": "stdout",
          "text": [
            "-----------------------------------------------------------\n",
            "Validation Loss after 2200 steps: 0.025928457733243704\n",
            "Validation BLEU Score after 2200 steps: 0.6631262600421906\n",
            "-----------------------------------------------------------\n"
          ]
        },
        {
          "output_type": "stream",
          "name": "stderr",
          "text": [
            "Epoch 30/40:  85%|████████▌ | 64/75 [00:47<00:06,  1.78it/s]"
          ]
        },
        {
          "output_type": "stream",
          "name": "stdout",
          "text": [
            " \n",
            "-----------------------------------------------------------\n",
            "Step 2240 - Average Training Loss: 0.0018384121322014835\n",
            "-----------------------------------------------------------\n"
          ]
        },
        {
          "output_type": "stream",
          "name": "stderr",
          "text": [
            "\n",
            "Evaluation:   0%|          | 0/4 [00:00<?, ?it/s]\u001b[A\n",
            "Evaluation:  25%|██▌       | 1/4 [00:03<00:09,  3.32s/it]\u001b[A\n",
            "Evaluation:  50%|█████     | 2/4 [00:07<00:07,  3.61s/it]\u001b[A\n",
            "Evaluation:  75%|███████▌  | 3/4 [00:10<00:03,  3.41s/it]\u001b[A\n",
            "Evaluation: 100%|██████████| 4/4 [00:13<00:00,  3.47s/it]\n",
            "Epoch 30/40:  87%|████████▋ | 65/75 [01:01<00:47,  4.72s/it]"
          ]
        },
        {
          "output_type": "stream",
          "name": "stdout",
          "text": [
            "-----------------------------------------------------------\n",
            "Validation Loss after 2240 steps: 0.02420379756949842\n",
            "Validation BLEU Score after 2240 steps: 0.6855690628290176\n",
            "-----------------------------------------------------------\n"
          ]
        },
        {
          "output_type": "stream",
          "name": "stderr",
          "text": [
            "Epoch 30/40: 100%|██████████| 75/75 [01:07<00:00,  1.12it/s]\n"
          ]
        },
        {
          "output_type": "stream",
          "name": "stdout",
          "text": [
            "Epoch 30 completed in 67.12 seconds\n"
          ]
        },
        {
          "output_type": "stream",
          "name": "stderr",
          "text": [
            "Epoch 31/40:  39%|███▊      | 29/75 [00:15<00:23,  1.96it/s]"
          ]
        },
        {
          "output_type": "stream",
          "name": "stdout",
          "text": [
            " \n",
            "-----------------------------------------------------------\n",
            "Step 2280 - Average Training Loss: 0.0017449665981985163\n",
            "-----------------------------------------------------------\n"
          ]
        },
        {
          "output_type": "stream",
          "name": "stderr",
          "text": [
            "\n",
            "Evaluation:   0%|          | 0/4 [00:00<?, ?it/s]\u001b[A\n",
            "Evaluation:  25%|██▌       | 1/4 [00:03<00:10,  3.50s/it]\u001b[A\n",
            "Evaluation:  50%|█████     | 2/4 [00:06<00:06,  3.12s/it]\u001b[A\n",
            "Evaluation:  75%|███████▌  | 3/4 [00:09<00:03,  3.12s/it]\u001b[A\n",
            "Evaluation: 100%|██████████| 4/4 [00:12<00:00,  3.09s/it]\n",
            "Epoch 31/40:  40%|████      | 30/75 [00:28<03:11,  4.25s/it]"
          ]
        },
        {
          "output_type": "stream",
          "name": "stdout",
          "text": [
            "-----------------------------------------------------------\n",
            "Validation Loss after 2280 steps: 0.02397170406766236\n",
            "Validation BLEU Score after 2280 steps: 0.6878683120012283\n",
            "-----------------------------------------------------------\n"
          ]
        },
        {
          "output_type": "stream",
          "name": "stderr",
          "text": [
            "Epoch 31/40:  92%|█████████▏| 69/75 [00:48<00:03,  1.93it/s]"
          ]
        },
        {
          "output_type": "stream",
          "name": "stdout",
          "text": [
            " \n",
            "-----------------------------------------------------------\n",
            "Step 2320 - Average Training Loss: 0.0016125233581988142\n",
            "-----------------------------------------------------------\n"
          ]
        },
        {
          "output_type": "stream",
          "name": "stderr",
          "text": [
            "\n",
            "Evaluation:   0%|          | 0/4 [00:00<?, ?it/s]\u001b[A\n",
            "Evaluation:  25%|██▌       | 1/4 [00:03<00:10,  3.39s/it]\u001b[A\n",
            "Evaluation:  50%|█████     | 2/4 [00:06<00:06,  3.42s/it]\u001b[A\n",
            "Evaluation:  75%|███████▌  | 3/4 [00:10<00:03,  3.39s/it]\u001b[A\n",
            "Evaluation: 100%|██████████| 4/4 [00:13<00:00,  3.39s/it]\n",
            "Epoch 31/40:  93%|█████████▎| 70/75 [01:02<00:22,  4.59s/it]"
          ]
        },
        {
          "output_type": "stream",
          "name": "stdout",
          "text": [
            "-----------------------------------------------------------\n",
            "Validation Loss after 2320 steps: 0.025127976201474667\n",
            "Validation BLEU Score after 2320 steps: 0.6886874288320541\n",
            "-----------------------------------------------------------\n"
          ]
        },
        {
          "output_type": "stream",
          "name": "stderr",
          "text": [
            "Epoch 31/40: 100%|██████████| 75/75 [01:05<00:00,  1.15it/s]\n"
          ]
        },
        {
          "output_type": "stream",
          "name": "stdout",
          "text": [
            "Epoch 31 completed in 65.43 seconds\n"
          ]
        },
        {
          "output_type": "stream",
          "name": "stderr",
          "text": [
            "Epoch 32/40:  45%|████▌     | 34/75 [00:18<00:23,  1.77it/s]"
          ]
        },
        {
          "output_type": "stream",
          "name": "stdout",
          "text": [
            " \n",
            "-----------------------------------------------------------\n",
            "Step 2360 - Average Training Loss: 0.0015212680878903483\n",
            "-----------------------------------------------------------\n"
          ]
        },
        {
          "output_type": "stream",
          "name": "stderr",
          "text": [
            "\n",
            "Evaluation:   0%|          | 0/4 [00:00<?, ?it/s]\u001b[A\n",
            "Evaluation:  25%|██▌       | 1/4 [00:03<00:11,  3.71s/it]\u001b[A\n",
            "Evaluation:  50%|█████     | 2/4 [00:06<00:06,  3.31s/it]\u001b[A\n",
            "Evaluation:  75%|███████▌  | 3/4 [00:10<00:03,  3.34s/it]\u001b[A\n",
            "Evaluation: 100%|██████████| 4/4 [00:14<00:00,  3.63s/it]\n",
            "Epoch 32/40:  47%|████▋     | 35/75 [00:33<03:16,  4.91s/it]"
          ]
        },
        {
          "output_type": "stream",
          "name": "stdout",
          "text": [
            "-----------------------------------------------------------\n",
            "Validation Loss after 2360 steps: 0.024841187056154013\n",
            "Validation BLEU Score after 2360 steps: 0.6613207757472992\n",
            "-----------------------------------------------------------\n"
          ]
        },
        {
          "output_type": "stream",
          "name": "stderr",
          "text": [
            "Epoch 32/40:  99%|█████████▊| 74/75 [00:53<00:00,  1.83it/s]"
          ]
        },
        {
          "output_type": "stream",
          "name": "stdout",
          "text": [
            " \n",
            "-----------------------------------------------------------\n",
            "Step 2400 - Average Training Loss: 0.0015684549551224336\n",
            "-----------------------------------------------------------\n"
          ]
        },
        {
          "output_type": "stream",
          "name": "stderr",
          "text": [
            "\n",
            "Evaluation:   0%|          | 0/4 [00:00<?, ?it/s]\u001b[A\n",
            "Evaluation:  25%|██▌       | 1/4 [00:03<00:09,  3.11s/it]\u001b[A\n",
            "Evaluation:  50%|█████     | 2/4 [00:06<00:06,  3.17s/it]\u001b[A\n",
            "Evaluation:  75%|███████▌  | 3/4 [00:09<00:03,  3.19s/it]\u001b[A\n",
            "Evaluation: 100%|██████████| 4/4 [00:13<00:00,  3.29s/it]\n",
            "Epoch 32/40: 100%|██████████| 75/75 [01:07<00:00,  1.11it/s]\n"
          ]
        },
        {
          "output_type": "stream",
          "name": "stdout",
          "text": [
            "-----------------------------------------------------------\n",
            "Validation Loss after 2400 steps: 0.025043608620762825\n",
            "Validation BLEU Score after 2400 steps: 0.690609410405159\n",
            "-----------------------------------------------------------\n",
            "Epoch 32 completed in 67.36 seconds\n"
          ]
        },
        {
          "output_type": "stream",
          "name": "stderr",
          "text": [
            "Epoch 33/40:  52%|█████▏    | 39/75 [00:20<00:18,  1.97it/s]"
          ]
        },
        {
          "output_type": "stream",
          "name": "stdout",
          "text": [
            " \n",
            "-----------------------------------------------------------\n",
            "Step 2440 - Average Training Loss: 0.0014010554528795182\n",
            "-----------------------------------------------------------\n"
          ]
        },
        {
          "output_type": "stream",
          "name": "stderr",
          "text": [
            "\n",
            "Evaluation:   0%|          | 0/4 [00:00<?, ?it/s]\u001b[A\n",
            "Evaluation:  25%|██▌       | 1/4 [00:03<00:10,  3.35s/it]\u001b[A\n",
            "Evaluation:  50%|█████     | 2/4 [00:06<00:06,  3.49s/it]\u001b[A\n",
            "Evaluation:  75%|███████▌  | 3/4 [00:10<00:03,  3.35s/it]\u001b[A\n",
            "Evaluation: 100%|██████████| 4/4 [00:13<00:00,  3.26s/it]\n",
            "Epoch 33/40:  53%|█████▎    | 40/75 [00:34<02:34,  4.43s/it]"
          ]
        },
        {
          "output_type": "stream",
          "name": "stdout",
          "text": [
            "-----------------------------------------------------------\n",
            "Validation Loss after 2440 steps: 0.024770488496869802\n",
            "Validation BLEU Score after 2440 steps: 0.6751795411109924\n",
            "-----------------------------------------------------------\n"
          ]
        },
        {
          "output_type": "stream",
          "name": "stderr",
          "text": [
            "Epoch 33/40: 100%|██████████| 75/75 [00:52<00:00,  1.42it/s]\n"
          ]
        },
        {
          "output_type": "stream",
          "name": "stdout",
          "text": [
            "Epoch 33 completed in 52.65 seconds\n"
          ]
        },
        {
          "output_type": "stream",
          "name": "stderr",
          "text": [
            "Epoch 34/40:   5%|▌         | 4/75 [00:02<00:38,  1.86it/s]"
          ]
        },
        {
          "output_type": "stream",
          "name": "stdout",
          "text": [
            " \n",
            "-----------------------------------------------------------\n",
            "Step 2480 - Average Training Loss: 0.001570177829489694\n",
            "-----------------------------------------------------------\n"
          ]
        },
        {
          "output_type": "stream",
          "name": "stderr",
          "text": [
            "\n",
            "Evaluation:   0%|          | 0/4 [00:00<?, ?it/s]\u001b[A\n",
            "Evaluation:  25%|██▌       | 1/4 [00:03<00:10,  3.35s/it]\u001b[A\n",
            "Evaluation:  50%|█████     | 2/4 [00:06<00:06,  3.17s/it]\u001b[A\n",
            "Evaluation:  75%|███████▌  | 3/4 [00:09<00:03,  3.28s/it]\u001b[A\n",
            "Evaluation: 100%|██████████| 4/4 [00:14<00:00,  3.54s/it]\n",
            "Epoch 34/40:   7%|▋         | 5/75 [00:16<06:34,  5.64s/it]"
          ]
        },
        {
          "output_type": "stream",
          "name": "stdout",
          "text": [
            "-----------------------------------------------------------\n",
            "Validation Loss after 2480 steps: 0.025030247285030782\n",
            "Validation BLEU Score after 2480 steps: 0.6739835739135742\n",
            "-----------------------------------------------------------\n"
          ]
        },
        {
          "output_type": "stream",
          "name": "stderr",
          "text": [
            "Epoch 34/40:  59%|█████▊    | 44/75 [00:37<00:20,  1.51it/s]"
          ]
        },
        {
          "output_type": "stream",
          "name": "stdout",
          "text": [
            " \n",
            "-----------------------------------------------------------\n",
            "Step 2520 - Average Training Loss: 0.0012088193943782244\n",
            "-----------------------------------------------------------\n"
          ]
        },
        {
          "output_type": "stream",
          "name": "stderr",
          "text": [
            "\n",
            "Evaluation:   0%|          | 0/4 [00:00<?, ?it/s]\u001b[A\n",
            "Evaluation:  25%|██▌       | 1/4 [00:03<00:10,  3.66s/it]\u001b[A\n",
            "Evaluation:  50%|█████     | 2/4 [00:06<00:06,  3.33s/it]\u001b[A\n",
            "Evaluation:  75%|███████▌  | 3/4 [00:09<00:03,  3.26s/it]\u001b[A\n",
            "Evaluation: 100%|██████████| 4/4 [00:14<00:00,  3.63s/it]\n",
            "Epoch 34/40:  60%|██████    | 45/75 [00:52<02:29,  4.97s/it]"
          ]
        },
        {
          "output_type": "stream",
          "name": "stdout",
          "text": [
            "-----------------------------------------------------------\n",
            "Validation Loss after 2520 steps: 0.024885335937142372\n",
            "Validation BLEU Score after 2520 steps: 0.6615214496850967\n",
            "-----------------------------------------------------------\n"
          ]
        },
        {
          "output_type": "stream",
          "name": "stderr",
          "text": [
            "Epoch 34/40: 100%|██████████| 75/75 [01:07<00:00,  1.10it/s]\n"
          ]
        },
        {
          "output_type": "stream",
          "name": "stdout",
          "text": [
            "Epoch 34 completed in 67.97 seconds\n"
          ]
        },
        {
          "output_type": "stream",
          "name": "stderr",
          "text": [
            "Epoch 35/40:  12%|█▏        | 9/75 [00:04<00:36,  1.80it/s]"
          ]
        },
        {
          "output_type": "stream",
          "name": "stdout",
          "text": [
            " \n",
            "-----------------------------------------------------------\n",
            "Step 2560 - Average Training Loss: 0.0014110108368186047\n",
            "-----------------------------------------------------------\n"
          ]
        },
        {
          "output_type": "stream",
          "name": "stderr",
          "text": [
            "\n",
            "Evaluation:   0%|          | 0/4 [00:00<?, ?it/s]\u001b[A\n",
            "Evaluation:  25%|██▌       | 1/4 [00:04<00:12,  4.07s/it]\u001b[A\n",
            "Evaluation:  50%|█████     | 2/4 [00:07<00:07,  3.62s/it]\u001b[A\n",
            "Evaluation:  75%|███████▌  | 3/4 [00:10<00:03,  3.37s/it]\u001b[A\n",
            "Evaluation: 100%|██████████| 4/4 [00:15<00:00,  3.81s/it]\n",
            "Epoch 35/40:  13%|█▎        | 10/75 [00:20<05:41,  5.26s/it]"
          ]
        },
        {
          "output_type": "stream",
          "name": "stdout",
          "text": [
            "-----------------------------------------------------------\n",
            "Validation Loss after 2560 steps: 0.024560231249779463\n",
            "Validation BLEU Score after 2560 steps: 0.6701245158910751\n",
            "-----------------------------------------------------------\n"
          ]
        },
        {
          "output_type": "stream",
          "name": "stderr",
          "text": [
            "Epoch 35/40:  65%|██████▌   | 49/75 [00:41<00:13,  1.90it/s]"
          ]
        },
        {
          "output_type": "stream",
          "name": "stdout",
          "text": [
            " \n",
            "-----------------------------------------------------------\n",
            "Step 2600 - Average Training Loss: 0.0011935950298720855\n",
            "-----------------------------------------------------------\n"
          ]
        },
        {
          "output_type": "stream",
          "name": "stderr",
          "text": [
            "\n",
            "Evaluation:   0%|          | 0/4 [00:00<?, ?it/s]\u001b[A\n",
            "Evaluation:  25%|██▌       | 1/4 [00:03<00:09,  3.27s/it]\u001b[A\n",
            "Evaluation:  50%|█████     | 2/4 [00:06<00:06,  3.25s/it]\u001b[A\n",
            "Evaluation:  75%|███████▌  | 3/4 [00:09<00:03,  3.17s/it]\u001b[A\n",
            "Evaluation: 100%|██████████| 4/4 [00:14<00:00,  3.64s/it]\n",
            "Epoch 35/40:  67%|██████▋   | 50/75 [00:56<02:02,  4.89s/it]"
          ]
        },
        {
          "output_type": "stream",
          "name": "stdout",
          "text": [
            "-----------------------------------------------------------\n",
            "Validation Loss after 2600 steps: 0.024322884972207248\n",
            "Validation BLEU Score after 2600 steps: 0.6587006002664566\n",
            "-----------------------------------------------------------\n"
          ]
        },
        {
          "output_type": "stream",
          "name": "stderr",
          "text": [
            "Epoch 35/40: 100%|██████████| 75/75 [01:09<00:00,  1.08it/s]\n"
          ]
        },
        {
          "output_type": "stream",
          "name": "stdout",
          "text": [
            "Epoch 35 completed in 69.24 seconds\n"
          ]
        },
        {
          "output_type": "stream",
          "name": "stderr",
          "text": [
            "Epoch 36/40:  19%|█▊        | 14/75 [00:07<00:29,  2.08it/s]"
          ]
        },
        {
          "output_type": "stream",
          "name": "stdout",
          "text": [
            " \n",
            "-----------------------------------------------------------\n",
            "Step 2640 - Average Training Loss: 0.0013263296519653522\n",
            "-----------------------------------------------------------\n"
          ]
        },
        {
          "output_type": "stream",
          "name": "stderr",
          "text": [
            "\n",
            "Evaluation:   0%|          | 0/4 [00:00<?, ?it/s]\u001b[A\n",
            "Evaluation:  25%|██▌       | 1/4 [00:03<00:10,  3.59s/it]\u001b[A\n",
            "Evaluation:  50%|█████     | 2/4 [00:07<00:07,  3.54s/it]\u001b[A\n",
            "Evaluation:  75%|███████▌  | 3/4 [00:10<00:03,  3.33s/it]\u001b[A\n",
            "Evaluation: 100%|██████████| 4/4 [00:14<00:00,  3.68s/it]\n",
            "Epoch 36/40:  20%|██        | 15/75 [00:22<04:56,  4.95s/it]"
          ]
        },
        {
          "output_type": "stream",
          "name": "stdout",
          "text": [
            "-----------------------------------------------------------\n",
            "Validation Loss after 2640 steps: 0.024819702608510852\n",
            "Validation BLEU Score after 2640 steps: 0.6745266020298004\n",
            "-----------------------------------------------------------\n"
          ]
        },
        {
          "output_type": "stream",
          "name": "stderr",
          "text": [
            "Epoch 36/40:  72%|███████▏  | 54/75 [00:43<00:10,  1.99it/s]"
          ]
        },
        {
          "output_type": "stream",
          "name": "stdout",
          "text": [
            " \n",
            "-----------------------------------------------------------\n",
            "Step 2680 - Average Training Loss: 0.0013074520584268612\n",
            "-----------------------------------------------------------\n"
          ]
        },
        {
          "output_type": "stream",
          "name": "stderr",
          "text": [
            "\n",
            "Evaluation:   0%|          | 0/4 [00:00<?, ?it/s]\u001b[A\n",
            "Evaluation:  25%|██▌       | 1/4 [00:03<00:09,  3.01s/it]\u001b[A\n",
            "Evaluation:  50%|█████     | 2/4 [00:06<00:06,  3.13s/it]\u001b[A\n",
            "Evaluation:  75%|███████▌  | 3/4 [00:09<00:03,  3.28s/it]\u001b[A\n",
            "Evaluation: 100%|██████████| 4/4 [00:12<00:00,  3.19s/it]\n",
            "Epoch 36/40:  73%|███████▎  | 55/75 [00:56<01:26,  4.33s/it]"
          ]
        },
        {
          "output_type": "stream",
          "name": "stdout",
          "text": [
            "-----------------------------------------------------------\n",
            "Validation Loss after 2680 steps: 0.023826197371818125\n",
            "Validation BLEU Score after 2680 steps: 0.6881802976131439\n",
            "-----------------------------------------------------------\n"
          ]
        },
        {
          "output_type": "stream",
          "name": "stderr",
          "text": [
            "Epoch 36/40: 100%|██████████| 75/75 [01:07<00:00,  1.12it/s]\n"
          ]
        },
        {
          "output_type": "stream",
          "name": "stdout",
          "text": [
            "Epoch 36 completed in 67.02 seconds\n"
          ]
        },
        {
          "output_type": "stream",
          "name": "stderr",
          "text": [
            "Epoch 37/40:  25%|██▌       | 19/75 [00:09<00:30,  1.84it/s]"
          ]
        },
        {
          "output_type": "stream",
          "name": "stdout",
          "text": [
            " \n",
            "-----------------------------------------------------------\n",
            "Step 2720 - Average Training Loss: 0.0010342021558244596\n",
            "-----------------------------------------------------------\n"
          ]
        },
        {
          "output_type": "stream",
          "name": "stderr",
          "text": [
            "\n",
            "Evaluation:   0%|          | 0/4 [00:00<?, ?it/s]\u001b[A\n",
            "Evaluation:  25%|██▌       | 1/4 [00:03<00:08,  3.00s/it]\u001b[A\n",
            "Evaluation:  50%|█████     | 2/4 [00:06<00:06,  3.07s/it]\u001b[A\n",
            "Evaluation:  75%|███████▌  | 3/4 [00:09<00:03,  3.07s/it]\u001b[A\n",
            "Evaluation: 100%|██████████| 4/4 [00:13<00:00,  3.45s/it]\n",
            "Epoch 37/40:  27%|██▋       | 20/75 [00:24<04:19,  4.71s/it]"
          ]
        },
        {
          "output_type": "stream",
          "name": "stdout",
          "text": [
            "-----------------------------------------------------------\n",
            "Validation Loss after 2720 steps: 0.02513311291113496\n",
            "Validation BLEU Score after 2720 steps: 0.6651309728622437\n",
            "-----------------------------------------------------------\n"
          ]
        },
        {
          "output_type": "stream",
          "name": "stderr",
          "text": [
            "Epoch 37/40:  79%|███████▊  | 59/75 [00:44<00:08,  1.99it/s]"
          ]
        },
        {
          "output_type": "stream",
          "name": "stdout",
          "text": [
            " \n",
            "-----------------------------------------------------------\n",
            "Step 2760 - Average Training Loss: 0.0012083778648957378\n",
            "-----------------------------------------------------------\n"
          ]
        },
        {
          "output_type": "stream",
          "name": "stderr",
          "text": [
            "\n",
            "Evaluation:   0%|          | 0/4 [00:00<?, ?it/s]\u001b[A\n",
            "Evaluation:  25%|██▌       | 1/4 [00:03<00:11,  3.80s/it]\u001b[A\n",
            "Evaluation:  50%|█████     | 2/4 [00:06<00:06,  3.44s/it]\u001b[A\n",
            "Evaluation:  75%|███████▌  | 3/4 [00:10<00:03,  3.27s/it]\u001b[A\n",
            "Evaluation: 100%|██████████| 4/4 [00:13<00:00,  3.28s/it]\n",
            "Epoch 37/40:  80%|████████  | 60/75 [00:58<01:06,  4.45s/it]"
          ]
        },
        {
          "output_type": "stream",
          "name": "stdout",
          "text": [
            "-----------------------------------------------------------\n",
            "Validation Loss after 2760 steps: 0.0243417409947142\n",
            "Validation BLEU Score after 2760 steps: 0.6800051182508469\n",
            "-----------------------------------------------------------\n"
          ]
        },
        {
          "output_type": "stream",
          "name": "stderr",
          "text": [
            "Epoch 37/40: 100%|██████████| 75/75 [01:06<00:00,  1.13it/s]\n"
          ]
        },
        {
          "output_type": "stream",
          "name": "stdout",
          "text": [
            "Epoch 37 completed in 66.33 seconds\n"
          ]
        },
        {
          "output_type": "stream",
          "name": "stderr",
          "text": [
            "Epoch 38/40:  32%|███▏      | 24/75 [00:12<00:25,  2.02it/s]"
          ]
        },
        {
          "output_type": "stream",
          "name": "stdout",
          "text": [
            " \n",
            "-----------------------------------------------------------\n",
            "Step 2800 - Average Training Loss: 0.0010333305974199903\n",
            "-----------------------------------------------------------\n"
          ]
        },
        {
          "output_type": "stream",
          "name": "stderr",
          "text": [
            "\n",
            "Evaluation:   0%|          | 0/4 [00:00<?, ?it/s]\u001b[A\n",
            "Evaluation:  25%|██▌       | 1/4 [00:03<00:09,  3.01s/it]\u001b[A\n",
            "Evaluation:  50%|█████     | 2/4 [00:06<00:06,  3.21s/it]\u001b[A\n",
            "Evaluation:  75%|███████▌  | 3/4 [00:09<00:03,  3.26s/it]\u001b[A\n",
            "Evaluation: 100%|██████████| 4/4 [00:12<00:00,  3.20s/it]\n",
            "Epoch 38/40:  33%|███▎      | 25/75 [00:25<03:37,  4.34s/it]"
          ]
        },
        {
          "output_type": "stream",
          "name": "stdout",
          "text": [
            "-----------------------------------------------------------\n",
            "Validation Loss after 2800 steps: 0.024701555026695132\n",
            "Validation BLEU Score after 2800 steps: 0.6758162975311279\n",
            "-----------------------------------------------------------\n"
          ]
        },
        {
          "output_type": "stream",
          "name": "stderr",
          "text": [
            "Epoch 38/40:  85%|████████▌ | 64/75 [00:46<00:06,  1.83it/s]"
          ]
        },
        {
          "output_type": "stream",
          "name": "stdout",
          "text": [
            " \n",
            "-----------------------------------------------------------\n",
            "Step 2840 - Average Training Loss: 0.0011203472520719515\n",
            "-----------------------------------------------------------\n"
          ]
        },
        {
          "output_type": "stream",
          "name": "stderr",
          "text": [
            "\n",
            "Evaluation:   0%|          | 0/4 [00:00<?, ?it/s]\u001b[A\n",
            "Evaluation:  25%|██▌       | 1/4 [00:03<00:09,  3.04s/it]\u001b[A\n",
            "Evaluation:  50%|█████     | 2/4 [00:06<00:06,  3.14s/it]\u001b[A\n",
            "Evaluation:  75%|███████▌  | 3/4 [00:09<00:03,  3.15s/it]\u001b[A\n",
            "Evaluation: 100%|██████████| 4/4 [00:12<00:00,  3.20s/it]\n",
            "Epoch 38/40:  87%|████████▋ | 65/75 [00:59<00:43,  4.38s/it]"
          ]
        },
        {
          "output_type": "stream",
          "name": "stdout",
          "text": [
            "-----------------------------------------------------------\n",
            "Validation Loss after 2840 steps: 0.02438954554963857\n",
            "Validation BLEU Score after 2840 steps: 0.6770632117986679\n",
            "-----------------------------------------------------------\n"
          ]
        },
        {
          "output_type": "stream",
          "name": "stderr",
          "text": [
            "Epoch 38/40: 100%|██████████| 75/75 [01:05<00:00,  1.15it/s]\n"
          ]
        },
        {
          "output_type": "stream",
          "name": "stdout",
          "text": [
            "Epoch 38 completed in 65.10 seconds\n"
          ]
        },
        {
          "output_type": "stream",
          "name": "stderr",
          "text": [
            "Epoch 39/40:  39%|███▊      | 29/75 [00:15<00:23,  1.96it/s]"
          ]
        },
        {
          "output_type": "stream",
          "name": "stdout",
          "text": [
            " \n",
            "-----------------------------------------------------------\n",
            "Step 2880 - Average Training Loss: 0.0010374922636401606\n",
            "-----------------------------------------------------------\n"
          ]
        },
        {
          "output_type": "stream",
          "name": "stderr",
          "text": [
            "\n",
            "Evaluation:   0%|          | 0/4 [00:00<?, ?it/s]\u001b[A\n",
            "Evaluation:  25%|██▌       | 1/4 [00:03<00:10,  3.41s/it]\u001b[A\n",
            "Evaluation:  50%|█████     | 2/4 [00:06<00:06,  3.27s/it]\u001b[A\n",
            "Evaluation:  75%|███████▌  | 3/4 [00:09<00:03,  3.19s/it]\u001b[A\n",
            "Evaluation: 100%|██████████| 4/4 [00:12<00:00,  3.20s/it]\n",
            "Epoch 39/40:  40%|████      | 30/75 [00:28<03:16,  4.37s/it]"
          ]
        },
        {
          "output_type": "stream",
          "name": "stdout",
          "text": [
            "-----------------------------------------------------------\n",
            "Validation Loss after 2880 steps: 0.024745820788666606\n",
            "Validation BLEU Score after 2880 steps: 0.6823063790798187\n",
            "-----------------------------------------------------------\n"
          ]
        },
        {
          "output_type": "stream",
          "name": "stderr",
          "text": [
            "Epoch 39/40:  92%|█████████▏| 69/75 [00:49<00:03,  1.95it/s]"
          ]
        },
        {
          "output_type": "stream",
          "name": "stdout",
          "text": [
            " \n",
            "-----------------------------------------------------------\n",
            "Step 2920 - Average Training Loss: 0.0010538159123825608\n",
            "-----------------------------------------------------------\n"
          ]
        },
        {
          "output_type": "stream",
          "name": "stderr",
          "text": [
            "\n",
            "Evaluation:   0%|          | 0/4 [00:00<?, ?it/s]\u001b[A\n",
            "Evaluation:  25%|██▌       | 1/4 [00:03<00:09,  3.01s/it]\u001b[A\n",
            "Evaluation:  50%|█████     | 2/4 [00:06<00:06,  3.25s/it]\u001b[A\n",
            "Evaluation:  75%|███████▌  | 3/4 [00:09<00:03,  3.25s/it]\u001b[A\n",
            "Evaluation: 100%|██████████| 4/4 [00:12<00:00,  3.19s/it]\n",
            "Epoch 39/40:  93%|█████████▎| 70/75 [01:02<00:21,  4.35s/it]"
          ]
        },
        {
          "output_type": "stream",
          "name": "stdout",
          "text": [
            "-----------------------------------------------------------\n",
            "Validation Loss after 2920 steps: 0.024646869860589504\n",
            "Validation BLEU Score after 2920 steps: 0.6743186861276627\n",
            "-----------------------------------------------------------\n"
          ]
        },
        {
          "output_type": "stream",
          "name": "stderr",
          "text": [
            "Epoch 39/40: 100%|██████████| 75/75 [01:05<00:00,  1.15it/s]\n"
          ]
        },
        {
          "output_type": "stream",
          "name": "stdout",
          "text": [
            "Epoch 39 completed in 65.09 seconds\n"
          ]
        },
        {
          "output_type": "stream",
          "name": "stderr",
          "text": [
            "Epoch 40/40:  45%|████▌     | 34/75 [00:18<00:23,  1.71it/s]"
          ]
        },
        {
          "output_type": "stream",
          "name": "stdout",
          "text": [
            " \n",
            "-----------------------------------------------------------\n",
            "Step 2960 - Average Training Loss: 0.0009903802680128137\n",
            "-----------------------------------------------------------\n"
          ]
        },
        {
          "output_type": "stream",
          "name": "stderr",
          "text": [
            "\n",
            "Evaluation:   0%|          | 0/4 [00:00<?, ?it/s]\u001b[A\n",
            "Evaluation:  25%|██▌       | 1/4 [00:03<00:09,  3.02s/it]\u001b[A\n",
            "Evaluation:  50%|█████     | 2/4 [00:06<00:06,  3.12s/it]\u001b[A\n",
            "Evaluation:  75%|███████▌  | 3/4 [00:09<00:03,  3.10s/it]\u001b[A\n",
            "Evaluation: 100%|██████████| 4/4 [00:12<00:00,  3.20s/it]\n",
            "Epoch 40/40:  47%|████▋     | 35/75 [00:31<02:57,  4.43s/it]"
          ]
        },
        {
          "output_type": "stream",
          "name": "stdout",
          "text": [
            "-----------------------------------------------------------\n",
            "Validation Loss after 2960 steps: 0.024753636331297457\n",
            "Validation BLEU Score after 2960 steps: 0.6790232211351395\n",
            "-----------------------------------------------------------\n"
          ]
        },
        {
          "output_type": "stream",
          "name": "stderr",
          "text": [
            "Epoch 40/40:  99%|█████████▊| 74/75 [00:51<00:00,  1.93it/s]"
          ]
        },
        {
          "output_type": "stream",
          "name": "stdout",
          "text": [
            " \n",
            "-----------------------------------------------------------\n",
            "Step 3000 - Average Training Loss: 0.0010265328955938458\n",
            "-----------------------------------------------------------\n"
          ]
        },
        {
          "output_type": "stream",
          "name": "stderr",
          "text": [
            "\n",
            "Evaluation:   0%|          | 0/4 [00:00<?, ?it/s]\u001b[A\n",
            "Evaluation:  25%|██▌       | 1/4 [00:03<00:09,  3.20s/it]\u001b[A\n",
            "Evaluation:  50%|█████     | 2/4 [00:06<00:06,  3.30s/it]\u001b[A\n",
            "Evaluation:  75%|███████▌  | 3/4 [00:09<00:03,  3.20s/it]\u001b[A\n",
            "Evaluation: 100%|██████████| 4/4 [00:12<00:00,  3.19s/it]\n",
            "Epoch 40/40: 100%|██████████| 75/75 [01:05<00:00,  1.15it/s]"
          ]
        },
        {
          "output_type": "stream",
          "name": "stdout",
          "text": [
            "-----------------------------------------------------------\n",
            "Validation Loss after 3000 steps: 0.024730703560635448\n",
            "Validation BLEU Score after 3000 steps: 0.6790232211351395\n",
            "-----------------------------------------------------------\n",
            "Epoch 40 completed in 65.12 seconds\n"
          ]
        },
        {
          "output_type": "stream",
          "name": "stderr",
          "text": [
            "\n"
          ]
        }
      ]
    },
    {
      "cell_type": "code",
      "source": [
        "# prompt: plot hist of training lossess train_losses and save it as image in my local\n",
        "\n",
        "import matplotlib.pyplot as plt\n",
        "\n",
        "# Assuming train_losses is a list of training losses obtained during training\n",
        "plt.figure(figsize=(10, 6))\n",
        "plt.plot(train_losses, label='Training Loss')\n",
        "plt.xlabel('Epochs')\n",
        "plt.ylabel('Loss')\n",
        "plt.title('Training Loss over Epochs')\n",
        "plt.legend()\n",
        "\n",
        "# Save the plot as an image in your local directory\n",
        "plt.savefig('training_loss_plot.png')\n",
        "\n",
        "plt.show()"
      ],
      "metadata": {
        "colab": {
          "base_uri": "https://localhost:8080/",
          "height": 564
        },
        "id": "a6hlg9cH5HxD",
        "outputId": "354055d6-edea-41f0-ad4c-5bcabee9f74c"
      },
      "execution_count": null,
      "outputs": [
        {
          "output_type": "display_data",
          "data": {
            "text/plain": [
              "<Figure size 1000x600 with 1 Axes>"
            ],
            "image/png": "[encoded data removed]"
          },
          "metadata": {}
        }
      ]
    },
    {
      "cell_type": "code",
      "source": [
        "# prompt: plot test metrics\n",
        "\n",
        "# Assuming 'all_metrics' is a list of dictionaries containing 'global_step', 'train_loss', 'val_loss', and 'val_bleu_score'\n",
        "if 'all_metrics' in locals():\n",
        "  df_metrics = pd.DataFrame(all_metrics)\n",
        "\n",
        "  plt.figure(figsize=(12, 6))\n",
        "\n",
        "  plt.subplot(1, 2, 1)\n",
        "  plt.plot(df_metrics['global_step'], df_metrics['train_loss'], label='Training Loss')\n",
        "  plt.plot(df_metrics['global_step'], df_metrics['val_loss'], label='Validation Loss')\n",
        "  plt.xlabel('Global Step')\n",
        "  plt.ylabel('Loss')\n",
        "  plt.title('Training and Validation Loss')\n",
        "  plt.legend()\n",
        "\n",
        "  plt.subplot(1, 2, 2)\n",
        "  plt.plot(df_metrics['global_step'], df_metrics['val_bleu_score'], label='Validation BLEU Score')\n",
        "  plt.xlabel('Global Step')\n",
        "  plt.ylabel('BLEU Score')\n",
        "  plt.title('Validation BLEU Score')\n",
        "  plt.legend()\n",
        "\n",
        "  plt.tight_layout()\n",
        "  plt.savefig('training_metrics_plot.png')\n",
        "  plt.show()"
      ],
      "metadata": {
        "colab": {
          "base_uri": "https://localhost:8080/",
          "height": 442
        },
        "id": "oAPBPdgD4z6z",
        "outputId": "36fd22bf-a478-41cd-f9e2-b60e13b4b2e3"
      },
      "execution_count": null,
      "outputs": [
        {
          "output_type": "display_data",
          "data": {
            "text/plain": [
              "<Figure size 1200x600 with 2 Axes>"
            ],
            "image/png": "[encoded data removed]"
          },
          "metadata": {}
        }
      ]
    },
    {
      "cell_type": "code",
      "source": [],
      "metadata": {
        "id": "WMRzIKkD7Xbw"
      },
      "execution_count": null,
      "outputs": []
    },
    {
      "cell_type": "code",
      "source": [
        "\n",
        "from peft import get_peft_config, PeftModel, PeftConfig, get_peft_model, LoraConfig, TaskType\n",
        "from transformers import AutoModelForCausalLM\n",
        "\n",
        "import torch\n",
        "from transformers.trainer_callback import TrainerCallback\n",
        "import os\n",
        "from transformers import BitsAndBytesConfig"
      ],
      "metadata": {
        "id": "XJLq06eiJ7sq"
      },
      "execution_count": null,
      "outputs": []
    },
    {
      "cell_type": "markdown",
      "source": [],
      "metadata": {
        "id": "8SHs_29K53Xe"
      }
    },
    {
      "cell_type": "code",
      "source": [
        "\n",
        "from torch.nn.parallel import DistributedDataParallel as DDP\n",
        "import torch\n",
        "\n",
        "\n",
        "# Rename the file\n",
        "checkpoint_dir = \"/content/checkpoints/checkpoint_step_1840\"\n",
        "import os\n",
        "os.environ['CUDA_LAUNCH_BLOCKING'] = '1'\n",
        "import torch.distributed as dist\n",
        "\n",
        "# Initialize process group, setting up distributed backend\n",
        "# dist.init_process_group(backend='nccl')  # or 'gloo' if 'nccl' is not available\n",
        "\n",
        "model = VisionEncoderDecoderModel.from_pretrained(\"DGurgurov/im2latex\").to(device)\n",
        "tokenizer = AutoTokenizer.from_pretrained(\"DGurgurov/im2latex\")\n",
        "\n",
        "feature_extractor = AutoFeatureExtractor.from_pretrained(\"microsoft/swin-base-patch4-window7-224-in22k\") # using the original feature extractor for now\n",
        "tokenizer.pad_token = tokenizer.eos_token\n",
        "# Load the PeftModel correctly and assign it to a variable\n",
        "loaded_model = PeftModel.from_pretrained(model, checkpoint_dir)  # Assign to loaded_model\n",
        "\n",
        "device = torch.device(f\"cuda:{dist.get_rank()}\")\n",
        "print(device)\n",
        "device='cuda:0'\n",
        "loaded_model = loaded_model.to(device)\n",
        "# prepare an image\n",
        "image = Image.open(\"/content/image (1).png\").convert('RGB')\n",
        "pixel_values = feature_extractor(images=image, return_tensors=\"pt\").pixel_values\n",
        "\n",
        "# Move pixel_values to the same device as the model\n",
        "pixel_values = pixel_values.to(device) # Assuming 'device' is defined as 'cuda:0'\n",
        "\n",
        "# generate LaTeX formula\n",
        "generated_ids = loaded_model.generate(pixel_values)\n",
        "generated_texts = tokenizer.batch_decode(generated_ids, skip_special_tokens=True)\n",
        "\n",
        "print(\"Generated LaTeX formula:\", generated_texts[0])\n",
        "# evaluating on test set\n",
        "# Use the loaded_model instance for evaluation\n",
        "test_loss, test_bleu_scores = evaluate(loaded_model, test_dataloader, device, tokenizer, bleu_metric, stage='final')\n",
        "print(f\"Test Loss: {test_loss}\")\n",
        "print(f\"Test BLEU Score: {test_bleu_scores}\")\n",
        "\n",
        "if master_process:\n",
        "    metrics_test = {\n",
        "            \"test_losses\": test_loss,\n",
        "            \"test_bleu_scores\": test_bleu_scores\n",
        "        }\n",
        "    with open(\"test_metrics.json\", \"w\") as f:\n",
        "        json.dump(metrics_test, f)\n",
        "\n"
      ],
      "metadata": {
        "id": "Z8s70iS6eheW",
        "colab": {
          "base_uri": "https://localhost:8080/"
        },
        "outputId": "df7f82d3-caff-4b5a-eeab-30c212000573"
      },
      "execution_count": null,
      "outputs": [
        {
          "output_type": "stream",
          "name": "stdout",
          "text": [
            "cuda:0\n",
            "Generated LaTeX formula: \\sqrt { b ^ { 2 } - 4 e }\n"
          ]
        },
        {
          "output_type": "stream",
          "name": "stderr",
          "text": [
            "Evaluation: 100%|██████████| 4/4 [00:13<00:00,  3.38s/it]"
          ]
        },
        {
          "output_type": "stream",
          "name": "stdout",
          "text": [
            "Test Loss: 0.011312849936075509\n",
            "Test BLEU Score: 0.6470673531293869\n"
          ]
        },
        {
          "output_type": "stream",
          "name": "stderr",
          "text": [
            "\n"
          ]
        }
      ]
    },
    {
      "cell_type": "code",
      "source": [
        "from transformers import VisionEncoderDecoderModel, AutoTokenizer, AutoFeatureExtractor\n",
        "import torch\n",
        "from PIL import Image\n",
        "\n",
        "# load model, tokenizer, and feature extractor\n",
        "model = VisionEncoderDecoderModel.from_pretrained(\"DGurgurov/im2latex\").to(device)\n",
        "tokenizer = AutoTokenizer.from_pretrained(\"DGurgurov/im2latex\")\n",
        "feature_extractor = AutoFeatureExtractor.from_pretrained(\"microsoft/swin-base-patch4-window7-224-in22k\") # using the original feature extractor for now\n",
        "\n",
        "# prepare an image\n",
        "image = Image.open(\"/content/image (1).png\").convert('RGB')\n",
        "pixel_values = feature_extractor(images=image, return_tensors=\"pt\").pixel_values\n",
        "\n",
        "# Move pixel_values to the same device as the model\n",
        "pixel_values = pixel_values.to(device) # Assuming 'device' is defined as 'cuda:0'\n",
        "\n",
        "# generate LaTeX formula\n",
        "generated_ids = loaded_model.generate(pixel_values)\n",
        "generated_texts = tokenizer.batch_decode(generated_ids, skip_special_tokens=True)\n",
        "\n",
        "print(\"Generated LaTeX formula by fine tuned model :\", generated_texts[0])\n",
        "\n",
        "# generate LaTeX formula\n",
        "generated_ids = model.generate(pixel_values)\n",
        "generated_texts = tokenizer.batch_decode(generated_ids, skip_special_tokens=True)\n",
        "\n",
        "print(\"Generated LaTeX formula by model :\", generated_texts[0])"
      ],
      "metadata": {
        "colab": {
          "base_uri": "https://localhost:8080/"
        },
        "id": "Pr0PW6QVCkQM",
        "outputId": "3ee99a7d-fa50-42dd-977b-e51f7970f818"
      },
      "execution_count": null,
      "outputs": [
        {
          "output_type": "stream",
          "name": "stdout",
          "text": [
            "Generated LaTeX formula by fine tuned model : \\sqrt { b ^ { 2 } - 4 e }\n",
            "Generated LaTeX formula by model : \\begin{align*}\\Bigg\\vert \\displaystyle \\sqrt{ \\Bigg[\\displaystyle\\widehat{\\mathcal{D}} ~\\Bigg] } ~\\mbox{\\boldmath $ \\sum$} ~\\smashteq~ \\display!\\bigotimes\\bigg\\slash ~\\display!{\\mathbf{\\mathord{\\left( \\, } \\right. } \\kern-\\nulldelimiterspace} \\bigg(\\,\\, \\displayline{\\Bigg)} }~\\endbigg{} \\endlabel{3}\n"
          ]
        }
      ]
    },
    {
      "cell_type": "code",
      "source": [
        "# Save the entire model and tokenizer\n",
        "loaded_model.save_pretrained(\"/content/save_model\")\n",
        "tokenizer.save_pretrained(\"/content/save_model\")\n"
      ],
      "metadata": {
        "colab": {
          "base_uri": "https://localhost:8080/"
        },
        "id": "4hcZilaaAwsv",
        "outputId": "463d21d8-ec01-4c8f-ef46-d7d63cd7bd94"
      },
      "execution_count": null,
      "outputs": [
        {
          "output_type": "execute_result",
          "data": {
            "text/plain": [
              "('/content/save_model/tokenizer_config.json',\n",
              " '/content/save_model/special_tokens_map.json',\n",
              " '/content/save_model/vocab.json',\n",
              " '/content/save_model/merges.txt',\n",
              " '/content/save_model/added_tokens.json',\n",
              " '/content/save_model/tokenizer.json')"
            ]
          },
          "metadata": {},
          "execution_count": 138
        }
      ]
    },
    {
      "cell_type": "code",
      "source": [
        "# prompt: zip and download save_model folder\n",
        "\n",
        "import shutil\n",
        "import os\n",
        "\n",
        "def zip_and_download_folder(folder_path, zip_filename):\n",
        "  \"\"\"Zips a folder and downloads it.\n",
        "\n",
        "  Args:\n",
        "    folder_path: Path to the folder to zip.\n",
        "    zip_filename: Name of the zip file to create.\n",
        "  \"\"\"\n",
        "  shutil.make_archive(zip_filename, 'zip', folder_path)\n",
        "  from google.colab import files\n",
        "  files.download(zip_filename + '.zip')\n",
        "\n",
        "\n",
        "# Assuming 'save_model' is the folder you want to zip and download\n",
        "zip_and_download_folder('/content/save_model', 'save_model')"
      ],
      "metadata": {
        "colab": {
          "base_uri": "https://localhost:8080/",
          "height": 17
        },
        "id": "hrAZ4BjUJ8nP",
        "outputId": "ebf32a7c-74ed-47ad-8d95-99198b3c7125"
      },
      "execution_count": null,
      "outputs": [
        {
          "output_type": "display_data",
          "data": {
            "text/plain": [
              "<IPython.core.display.Javascript object>"
            ],
            "application/javascript": [
              "\n",
              "    async function download(id, filename, size) {\n",
              "      if (!google.colab.kernel.accessAllowed) {\n",
              "        return;\n",
              "      }\n",
              "      const div = document.createElement('div');\n",
              "      const label = document.createElement('label');\n",
              "      label.textContent = `Downloading \"${filename}\": `;\n",
              "      div.appendChild(label);\n",
              "      const progress = document.createElement('progress');\n",
              "      progress.max = size;\n",
              "      div.appendChild(progress);\n",
              "      document.body.appendChild(div);\n",
              "\n",
              "      const buffers = [];\n",
              "      let downloaded = 0;\n",
              "\n",
              "      const channel = await google.colab.kernel.comms.open(id);\n",
              "      // Send a message to notify the kernel that we're ready.\n",
              "      channel.send({})\n",
              "\n",
              "      for await (const message of channel.messages) {\n",
              "        // Send a message to notify the kernel that we're ready.\n",
              "        channel.send({})\n",
              "        if (message.buffers) {\n",
              "          for (const buffer of message.buffers) {\n",
              "            buffers.push(buffer);\n",
              "            downloaded += buffer.byteLength;\n",
              "            progress.value = downloaded;\n",
              "          }\n",
              "        }\n",
              "      }\n",
              "      const blob = new Blob(buffers, {type: 'application/binary'});\n",
              "      const a = document.createElement('a');\n",
              "      a.href = window.URL.createObjectURL(blob);\n",
              "      a.download = filename;\n",
              "      div.appendChild(a);\n",
              "      a.click();\n",
              "      div.remove();\n",
              "    }\n",
              "  "
            ]
          },
          "metadata": {}
        },
        {
          "output_type": "display_data",
          "data": {
            "text/plain": [
              "<IPython.core.display.Javascript object>"
            ],
            "application/javascript": [
              "download(\"download_7d9f4c4e-e66c-4eef-875e-227eaf34a6f4\", \"save_model.zip\", 12641773)"
            ]
          },
          "metadata": {}
        }
      ]
    },
    {
      "cell_type": "code",
      "source": [
        "# Saving the model and tokenizer\n",
        "loaded_model.save_pretrained(\"/content/save_model\")\n",
        "tokenizer.save_pretrained(\"/content/save_model\")\n",
        "\n",
        "# Loading the model and tokenizer\n",
        "model = VisionEncoderDecoderModel.from_pretrained(\"/content/save_model\")\n",
        "tokenizer = AutoTokenizer.from_pretrained(\"/content/save_model\")\n",
        "\n",
        "# Check size after saving\n",
        "saved_model_size = sum(os.path.getsize(os.path.join(\"/content/save_model\", f)) for f in os.listdir(\"/content/save_model\"))\n",
        "print(f\"Total saved model size: {saved_model_size / (1024 * 1024):.2f} MB\")\n"
      ],
      "metadata": {
        "colab": {
          "base_uri": "https://localhost:8080/"
        },
        "id": "iBHrIO8DBG2H",
        "outputId": "9ecaf336-9bb9-4949-ab3f-7b921311ae26"
      },
      "execution_count": null,
      "outputs": [
        {
          "output_type": "stream",
          "name": "stdout",
          "text": [
            "Total saved model size: 15.04 MB\n"
          ]
        }
      ]
    },
    {
      "cell_type": "code",
      "source": [],
      "metadata": {
        "id": "16Cl-4iJBcRz"
      },
      "execution_count": null,
      "outputs": []
    }
  ]
}